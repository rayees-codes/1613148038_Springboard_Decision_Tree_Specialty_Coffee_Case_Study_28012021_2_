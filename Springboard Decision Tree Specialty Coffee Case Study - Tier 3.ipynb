{
 "cells": [
  {
   "cell_type": "markdown",
   "metadata": {
    "colab_type": "text",
    "id": "Jm0w3zN4DuVK"
   },
   "source": [
    "# **Springboard Decision Tree Specialty Coffee Case Study - Tier 3**\n",
    "\n",
    "\n",
    "**Completed by:** Rayees Ahamed B"
   ]
  },
  {
   "cell_type": "markdown",
   "metadata": {
    "colab_type": "text",
    "id": "BhqpAY7GDuVN"
   },
   "source": [
    "# The Scenario\n",
    "\n",
    "Imagine you've just finished the Springboard Data Science Career Track course, and have been hired by a rising popular specialty coffee company - RR Diner Coffee - as a data scientist. Congratulations!\n",
    "\n",
    "RR Diner Coffee sells two types of thing:\n",
    "- specialty coffee beans, in bulk (by the kilogram only) \n",
    "- coffee equipment and merchandise (grinders, brewing equipment, mugs, books, t-shirts).\n",
    "\n",
    "RR Diner Coffee has three stores, two in Europe and one in the USA. The flagshap store is in the USA, and everything is quality assessed there, before being shipped out. Customers further away from the USA flagship store have higher shipping charges. \n",
    "\n",
    "You've been taken on at RR Diner Coffee because the company are turning towards using data science and machine learning to systematically make decisions about which coffee farmers they should strike deals with. \n",
    "\n",
    "RR Diner Coffee typically buys coffee from farmers, processes it on site, brings it back to the USA, roasts it, packages it, markets it, and ships it (only in bulk, and after quality assurance) to customers internationally. These customers all own coffee shops in major cities like New York, Paris, London, Hong Kong, Tokyo, and Berlin. \n",
    "\n",
    "Now, RR Diner Coffee has a decision about whether to strike a deal with a legendary coffee farm (known as the **Hidden Farm**) in rural China: there are rumours their coffee tastes of lychee and dark chocolate, while also being as sweet as apple juice. \n",
    "\n",
    "It's a risky decision, as the deal will be expensive, and the coffee might not be bought by customers. The stakes are high: times are tough, stocks are low, farmers are reverting to old deals with the larger enterprises and the publicity of selling *Hidden Farm* coffee could save the RR Diner Coffee business. \n",
    "\n",
    "Your first job, then, is ***to build a decision tree to predict how many units of the Hidden Farm Chinese coffee will be purchased by RR Diner Coffee's most loyal customers.*** \n",
    "\n",
    "To this end, you and your team have conducted a survey of 710 of the most loyal RR Diner Coffee customers, collecting data on the customers':\n",
    "- age\n",
    "- gender \n",
    "- salary \n",
    "- whether they have bought at least one RR Diner Coffee product online\n",
    "- their distance from the flagship store in the USA (standardized to a number between 0 and 11) \n",
    "- how much they spent on RR Diner Coffee products on the week of the survey \n",
    "- how much they spent on RR Diner Coffee products in the month preeding the survey\n",
    "- the number of RR Diner coffee bean shipments each customer has ordered over the preceding year. \n",
    "\n",
    "You also asked each customer participating in the survey whether they would buy the Hidden Farm coffee, and some (but not all) of the customers gave responses to that question. \n",
    "\n",
    "You sit back and think: if more than 70% of the interviewed customers are likely to buy the Hidden Farm coffee, you will strike the deal with the local Hidden Farm farmers and sell the coffee. Otherwise, you won't strike the deal and the Hidden Farm coffee will remain in legends only. There's some doubt in your mind about whether 70% is a reasonable threshold, but it'll do for the moment. \n",
    "\n",
    "To solve the problem, then, you will build a decision tree to implement a classification solution. \n",
    "\n",
    "\n",
    "-------------------------------\n",
    "As ever, this notebook is **tiered**, meaning you can elect that tier that is right for your confidence and skill level. There are 3 tiers, with tier 1 being the easiest and tier 3 being the hardest. This is ***tier 3***, so it will be challenging. \n",
    "\n",
    "**1. Sourcing and loading** \n",
    "- Import packages\n",
    "- Load data\n",
    "- Explore the data\n",
    "\n",
    " \n",
    "**2. Cleaning, transforming and visualizing**\n",
    "- Cleaning the data\n",
    "- Train/test split\n",
    "  \n",
    "  \n",
    "**3. Modelling** \n",
    "- Model 1: Entropy model - no max_depth\n",
    "- Model 2: Gini impurity model - no max_depth\n",
    "- Model 3: Entropy model - max depth 3\n",
    "- Model 4: Gini impurity model - max depth 3\n",
    "\n",
    "\n",
    "**4. Evaluating and concluding** \n",
    "- How many customers will buy Hidden Farm coffee?\n",
    "- Decision\n",
    "\n",
    "**5. Random Forest** \n",
    "- Import necessary modules\n",
    "- Model\n",
    "- Revise conclusion\n",
    "    "
   ]
  },
  {
   "cell_type": "markdown",
   "metadata": {
    "colab_type": "text",
    "id": "nciXGXtCDuVO"
   },
   "source": [
    "# 0. Overview\n",
    "\n",
    "This notebook uses decision trees to determine whether the factors of salary, gender, age, how much money the customer spent last week and during the preceding month on RR Diner Coffee products, how many kilogram coffee bags the customer bought over the last year, whether they have bought at least one RR Diner Coffee product online, and their distance from the flagship store in the USA, could predict whether customers would purchase the Hidden Farm coffee if a deal with its farmers were struck. "
   ]
  },
  {
   "cell_type": "markdown",
   "metadata": {
    "colab_type": "text",
    "id": "5fSgD2h9DuVP"
   },
   "source": [
    "# 1. Sourcing and loading\n",
    "## 1a. Import Packages"
   ]
  },
  {
   "cell_type": "code",
   "execution_count": 853,
   "metadata": {
    "colab": {},
    "colab_type": "code",
    "id": "CfGkTcLvDuVQ"
   },
   "outputs": [],
   "source": [
    "import pandas as pd\n",
    "import numpy as np\n",
    "from sklearn import tree, metrics\n",
    "from sklearn.model_selection import train_test_split\n",
    "import seaborn as sns\n",
    "import matplotlib.pyplot as plt\n",
    "from io import StringIO  \n",
    "from IPython.display import Image  \n",
    "import pydotplus\n",
    "import os\n",
    "os.environ[\"PATH\"] += os.pathsep + 'C:/Program Files (x86)/Graphviz/bin/'"
   ]
  },
  {
   "cell_type": "markdown",
   "metadata": {
    "colab_type": "text",
    "id": "ZLgxyhNrDuVT"
   },
   "source": [
    "## 1b. Load data "
   ]
  },
  {
   "cell_type": "code",
   "execution_count": 854,
   "metadata": {
    "colab": {},
    "colab_type": "code",
    "id": "chW2ozlnDuVU"
   },
   "outputs": [],
   "source": [
    "# Read in the data to a variable called coffeeData\n",
    "\n",
    "coffeeData = pd.read_csv(r\"C:\\Users\\rayees.ahamedb\\Documents\\1613148038_Springboard_Decision_Tree_Specialty_Coffee_Case_Study_28012021_2_\\data\\RRDinerCoffeeData.csv\")"
   ]
  },
  {
   "cell_type": "markdown",
   "metadata": {
    "colab_type": "text",
    "id": "qnMVYf2NDuVW"
   },
   "source": [
    "## 1c. Explore the data"
   ]
  },
  {
   "cell_type": "markdown",
   "metadata": {
    "colab_type": "text",
    "id": "U5Qm4obyDuVX"
   },
   "source": [
    "As we've seen, exploration entails doing things like checking out the **initial appearance** of the data with head(), the **dimensions** of our data with .shape, the **data types** of the variables with .info(), the **number of non-null values**, how much **memory** is being used to store the data, and finally the major summary statistcs capturing **central tendancy, dispersion and the null-excluding shape of the dataset's distribution**. \n",
    "\n",
    "How much of this can you do yourself by this point in the course? Have a real go. "
   ]
  },
  {
   "cell_type": "code",
   "execution_count": 855,
   "metadata": {
    "colab": {},
    "colab_type": "code",
    "id": "cHEKFT4SDuVY"
   },
   "outputs": [
    {
     "data": {
      "text/html": [
       "<div>\n",
       "<style scoped>\n",
       "    .dataframe tbody tr th:only-of-type {\n",
       "        vertical-align: middle;\n",
       "    }\n",
       "\n",
       "    .dataframe tbody tr th {\n",
       "        vertical-align: top;\n",
       "    }\n",
       "\n",
       "    .dataframe thead th {\n",
       "        text-align: right;\n",
       "    }\n",
       "</style>\n",
       "<table border=\"1\" class=\"dataframe\">\n",
       "  <thead>\n",
       "    <tr style=\"text-align: right;\">\n",
       "      <th></th>\n",
       "      <th>Age</th>\n",
       "      <th>Gender</th>\n",
       "      <th>num_coffeeBags_per_year</th>\n",
       "      <th>spent_week</th>\n",
       "      <th>spent_month</th>\n",
       "      <th>SlrAY</th>\n",
       "      <th>Distance</th>\n",
       "      <th>Online</th>\n",
       "      <th>Decision</th>\n",
       "    </tr>\n",
       "  </thead>\n",
       "  <tbody>\n",
       "    <tr>\n",
       "      <th>0</th>\n",
       "      <td>36</td>\n",
       "      <td>Female</td>\n",
       "      <td>0</td>\n",
       "      <td>24</td>\n",
       "      <td>73</td>\n",
       "      <td>42789</td>\n",
       "      <td>0.003168</td>\n",
       "      <td>0</td>\n",
       "      <td>1.0</td>\n",
       "    </tr>\n",
       "    <tr>\n",
       "      <th>1</th>\n",
       "      <td>24</td>\n",
       "      <td>Male</td>\n",
       "      <td>0</td>\n",
       "      <td>44</td>\n",
       "      <td>164</td>\n",
       "      <td>74035</td>\n",
       "      <td>0.520906</td>\n",
       "      <td>0</td>\n",
       "      <td>NaN</td>\n",
       "    </tr>\n",
       "    <tr>\n",
       "      <th>2</th>\n",
       "      <td>24</td>\n",
       "      <td>Male</td>\n",
       "      <td>0</td>\n",
       "      <td>39</td>\n",
       "      <td>119</td>\n",
       "      <td>30563</td>\n",
       "      <td>0.916005</td>\n",
       "      <td>1</td>\n",
       "      <td>1.0</td>\n",
       "    </tr>\n",
       "    <tr>\n",
       "      <th>3</th>\n",
       "      <td>20</td>\n",
       "      <td>Male</td>\n",
       "      <td>0</td>\n",
       "      <td>30</td>\n",
       "      <td>107</td>\n",
       "      <td>13166</td>\n",
       "      <td>0.932098</td>\n",
       "      <td>1</td>\n",
       "      <td>NaN</td>\n",
       "    </tr>\n",
       "    <tr>\n",
       "      <th>4</th>\n",
       "      <td>24</td>\n",
       "      <td>Female</td>\n",
       "      <td>0</td>\n",
       "      <td>20</td>\n",
       "      <td>36</td>\n",
       "      <td>14244</td>\n",
       "      <td>0.965881</td>\n",
       "      <td>0</td>\n",
       "      <td>1.0</td>\n",
       "    </tr>\n",
       "  </tbody>\n",
       "</table>\n",
       "</div>"
      ],
      "text/plain": [
       "   Age  Gender  num_coffeeBags_per_year  spent_week  spent_month  SlrAY  \\\n",
       "0   36  Female                        0          24           73  42789   \n",
       "1   24    Male                        0          44          164  74035   \n",
       "2   24    Male                        0          39          119  30563   \n",
       "3   20    Male                        0          30          107  13166   \n",
       "4   24  Female                        0          20           36  14244   \n",
       "\n",
       "   Distance  Online  Decision  \n",
       "0  0.003168       0       1.0  \n",
       "1  0.520906       0       NaN  \n",
       "2  0.916005       1       1.0  \n",
       "3  0.932098       1       NaN  \n",
       "4  0.965881       0       1.0  "
      ]
     },
     "execution_count": 855,
     "metadata": {},
     "output_type": "execute_result"
    }
   ],
   "source": [
    "# Call head() on your data \n",
    "coffeeData.head()"
   ]
  },
  {
   "cell_type": "code",
   "execution_count": 856,
   "metadata": {
    "colab": {},
    "colab_type": "code",
    "id": "rDshwA7tDuVa"
   },
   "outputs": [
    {
     "data": {
      "text/plain": [
       "(702, 9)"
      ]
     },
     "execution_count": 856,
     "metadata": {},
     "output_type": "execute_result"
    }
   ],
   "source": [
    "# Call .shape on your data\n",
    "coffeeData.shape"
   ]
  },
  {
   "cell_type": "code",
   "execution_count": 857,
   "metadata": {
    "colab": {},
    "colab_type": "code",
    "id": "iCxo0tomDuVc"
   },
   "outputs": [
    {
     "name": "stdout",
     "output_type": "stream",
     "text": [
      "<class 'pandas.core.frame.DataFrame'>\n",
      "RangeIndex: 702 entries, 0 to 701\n",
      "Data columns (total 9 columns):\n",
      " #   Column                   Non-Null Count  Dtype  \n",
      "---  ------                   --------------  -----  \n",
      " 0   Age                      702 non-null    int64  \n",
      " 1   Gender                   702 non-null    object \n",
      " 2   num_coffeeBags_per_year  702 non-null    int64  \n",
      " 3   spent_week               702 non-null    int64  \n",
      " 4   spent_month              702 non-null    int64  \n",
      " 5   SlrAY                    702 non-null    int64  \n",
      " 6   Distance                 702 non-null    float64\n",
      " 7   Online                   702 non-null    int64  \n",
      " 8   Decision                 474 non-null    float64\n",
      "dtypes: float64(2), int64(6), object(1)\n",
      "memory usage: 49.5+ KB\n"
     ]
    }
   ],
   "source": [
    "# Call info() on your data\n",
    "coffeeData.info()"
   ]
  },
  {
   "cell_type": "code",
   "execution_count": 858,
   "metadata": {
    "colab": {},
    "colab_type": "code",
    "id": "t0ZdmaUeDuVe"
   },
   "outputs": [
    {
     "data": {
      "text/html": [
       "<div>\n",
       "<style scoped>\n",
       "    .dataframe tbody tr th:only-of-type {\n",
       "        vertical-align: middle;\n",
       "    }\n",
       "\n",
       "    .dataframe tbody tr th {\n",
       "        vertical-align: top;\n",
       "    }\n",
       "\n",
       "    .dataframe thead th {\n",
       "        text-align: right;\n",
       "    }\n",
       "</style>\n",
       "<table border=\"1\" class=\"dataframe\">\n",
       "  <thead>\n",
       "    <tr style=\"text-align: right;\">\n",
       "      <th></th>\n",
       "      <th>Age</th>\n",
       "      <th>num_coffeeBags_per_year</th>\n",
       "      <th>spent_week</th>\n",
       "      <th>spent_month</th>\n",
       "      <th>SlrAY</th>\n",
       "      <th>Distance</th>\n",
       "      <th>Online</th>\n",
       "      <th>Decision</th>\n",
       "    </tr>\n",
       "  </thead>\n",
       "  <tbody>\n",
       "    <tr>\n",
       "      <th>count</th>\n",
       "      <td>702.000000</td>\n",
       "      <td>702.000000</td>\n",
       "      <td>702.000000</td>\n",
       "      <td>702.000000</td>\n",
       "      <td>702.000000</td>\n",
       "      <td>702.000000</td>\n",
       "      <td>702.000000</td>\n",
       "      <td>474.000000</td>\n",
       "    </tr>\n",
       "    <tr>\n",
       "      <th>mean</th>\n",
       "      <td>34.243590</td>\n",
       "      <td>2.710826</td>\n",
       "      <td>32.853276</td>\n",
       "      <td>107.923077</td>\n",
       "      <td>43819.843305</td>\n",
       "      <td>4.559186</td>\n",
       "      <td>0.531339</td>\n",
       "      <td>0.639241</td>\n",
       "    </tr>\n",
       "    <tr>\n",
       "      <th>std</th>\n",
       "      <td>13.927945</td>\n",
       "      <td>1.593629</td>\n",
       "      <td>15.731878</td>\n",
       "      <td>55.348485</td>\n",
       "      <td>26192.626943</td>\n",
       "      <td>3.116275</td>\n",
       "      <td>0.499373</td>\n",
       "      <td>0.480728</td>\n",
       "    </tr>\n",
       "    <tr>\n",
       "      <th>min</th>\n",
       "      <td>16.000000</td>\n",
       "      <td>0.000000</td>\n",
       "      <td>0.000000</td>\n",
       "      <td>0.000000</td>\n",
       "      <td>1617.000000</td>\n",
       "      <td>0.003168</td>\n",
       "      <td>0.000000</td>\n",
       "      <td>0.000000</td>\n",
       "    </tr>\n",
       "    <tr>\n",
       "      <th>25%</th>\n",
       "      <td>23.000000</td>\n",
       "      <td>1.000000</td>\n",
       "      <td>24.250000</td>\n",
       "      <td>62.000000</td>\n",
       "      <td>22812.250000</td>\n",
       "      <td>1.877812</td>\n",
       "      <td>0.000000</td>\n",
       "      <td>0.000000</td>\n",
       "    </tr>\n",
       "    <tr>\n",
       "      <th>50%</th>\n",
       "      <td>28.000000</td>\n",
       "      <td>3.000000</td>\n",
       "      <td>36.000000</td>\n",
       "      <td>113.500000</td>\n",
       "      <td>41975.000000</td>\n",
       "      <td>4.196167</td>\n",
       "      <td>1.000000</td>\n",
       "      <td>1.000000</td>\n",
       "    </tr>\n",
       "    <tr>\n",
       "      <th>75%</th>\n",
       "      <td>46.000000</td>\n",
       "      <td>4.000000</td>\n",
       "      <td>43.000000</td>\n",
       "      <td>150.750000</td>\n",
       "      <td>60223.000000</td>\n",
       "      <td>6.712022</td>\n",
       "      <td>1.000000</td>\n",
       "      <td>1.000000</td>\n",
       "    </tr>\n",
       "    <tr>\n",
       "      <th>max</th>\n",
       "      <td>90.000000</td>\n",
       "      <td>5.000000</td>\n",
       "      <td>62.000000</td>\n",
       "      <td>210.000000</td>\n",
       "      <td>182058.000000</td>\n",
       "      <td>10.986203</td>\n",
       "      <td>1.000000</td>\n",
       "      <td>1.000000</td>\n",
       "    </tr>\n",
       "  </tbody>\n",
       "</table>\n",
       "</div>"
      ],
      "text/plain": [
       "              Age  num_coffeeBags_per_year  spent_week  spent_month  \\\n",
       "count  702.000000               702.000000  702.000000   702.000000   \n",
       "mean    34.243590                 2.710826   32.853276   107.923077   \n",
       "std     13.927945                 1.593629   15.731878    55.348485   \n",
       "min     16.000000                 0.000000    0.000000     0.000000   \n",
       "25%     23.000000                 1.000000   24.250000    62.000000   \n",
       "50%     28.000000                 3.000000   36.000000   113.500000   \n",
       "75%     46.000000                 4.000000   43.000000   150.750000   \n",
       "max     90.000000                 5.000000   62.000000   210.000000   \n",
       "\n",
       "               SlrAY    Distance      Online    Decision  \n",
       "count     702.000000  702.000000  702.000000  474.000000  \n",
       "mean    43819.843305    4.559186    0.531339    0.639241  \n",
       "std     26192.626943    3.116275    0.499373    0.480728  \n",
       "min      1617.000000    0.003168    0.000000    0.000000  \n",
       "25%     22812.250000    1.877812    0.000000    0.000000  \n",
       "50%     41975.000000    4.196167    1.000000    1.000000  \n",
       "75%     60223.000000    6.712022    1.000000    1.000000  \n",
       "max    182058.000000   10.986203    1.000000    1.000000  "
      ]
     },
     "execution_count": 858,
     "metadata": {},
     "output_type": "execute_result"
    }
   ],
   "source": [
    "# Call describe() on your data to get the relevant summary statistics for your data \n",
    "coffeeData.describe()"
   ]
  },
  {
   "cell_type": "markdown",
   "metadata": {
    "colab_type": "text",
    "id": "INkujJ6QDuVg"
   },
   "source": [
    "# 2. Cleaning, transforming and visualizing\n",
    "## 2a. Cleaning the data"
   ]
  },
  {
   "cell_type": "markdown",
   "metadata": {
    "colab_type": "text",
    "id": "wIMW_rbdDuVh"
   },
   "source": [
    "Some datasets don't require any cleaning, but almost all do. This one does. We need to replace '1.0' and '0.0' in the 'Decision' column by 'YES' and 'NO' respectively, clean up the values of the 'gender' column, and change the column names to words which maximize meaning and clarity. "
   ]
  },
  {
   "cell_type": "markdown",
   "metadata": {
    "colab_type": "text",
    "id": "EEXdBALeDuVi"
   },
   "source": [
    "First, let's change the name of `spent_week`, `spent_month`, and `SlrAY` to `spent_last_week` and `spent_last_month` and `salary` respectively."
   ]
  },
  {
   "cell_type": "code",
   "execution_count": 859,
   "metadata": {
    "colab": {},
    "colab_type": "code",
    "id": "rhxy23pbDuVi"
   },
   "outputs": [
    {
     "data": {
      "text/plain": [
       "Index(['Age', 'Gender', 'num_coffeeBags_per_year', 'spent_week', 'spent_month',\n",
       "       'SlrAY', 'Distance', 'Online', 'Decision'],\n",
       "      dtype='object')"
      ]
     },
     "execution_count": 859,
     "metadata": {},
     "output_type": "execute_result"
    }
   ],
   "source": [
    "# Check out the names of our data's columns \n",
    "coffeeData.columns"
   ]
  },
  {
   "cell_type": "code",
   "execution_count": 860,
   "metadata": {
    "colab": {},
    "colab_type": "code",
    "id": "C_D1m6ryDuVk"
   },
   "outputs": [],
   "source": [
    "# Make the relevant name changes to spent_week and spent_per_week.\n",
    "coffeeData.rename(columns = {'spent_week':'spent_last_week', 'spent_month':'spent_last_month', 'SlrAY':'salary'}, inplace=True)"
   ]
  },
  {
   "cell_type": "code",
   "execution_count": 861,
   "metadata": {
    "colab": {},
    "colab_type": "code",
    "id": "3cmdaeg8DuVm"
   },
   "outputs": [
    {
     "data": {
      "text/plain": [
       "Index(['Age', 'Gender', 'num_coffeeBags_per_year', 'spent_last_week',\n",
       "       'spent_last_month', 'salary', 'Distance', 'Online', 'Decision'],\n",
       "      dtype='object')"
      ]
     },
     "execution_count": 861,
     "metadata": {},
     "output_type": "execute_result"
    }
   ],
   "source": [
    "# Check out the column names\n",
    "coffeeData.columns"
   ]
  },
  {
   "cell_type": "code",
   "execution_count": 862,
   "metadata": {
    "colab": {},
    "colab_type": "code",
    "id": "XJK-wbfODuVp"
   },
   "outputs": [
    {
     "data": {
      "text/plain": [
       "Male      355\n",
       "Female    340\n",
       "MALE        1\n",
       "male        1\n",
       "F           1\n",
       "FEMALE      1\n",
       "f           1\n",
       "M           1\n",
       "female      1\n",
       "Name: Gender, dtype: int64"
      ]
     },
     "execution_count": 862,
     "metadata": {},
     "output_type": "execute_result"
    }
   ],
   "source": [
    "# Let's have a closer look at the gender column. Its values need cleaning.\n",
    "coffeeData.Gender.value_counts()"
   ]
  },
  {
   "cell_type": "code",
   "execution_count": 863,
   "metadata": {
    "colab": {},
    "colab_type": "code",
    "id": "88bITtgzDuVr"
   },
   "outputs": [
    {
     "data": {
      "text/plain": [
       "array(['Female', 'Male', 'female', 'F', 'f ', 'FEMALE', 'MALE', 'male',\n",
       "       'M'], dtype=object)"
      ]
     },
     "execution_count": 863,
     "metadata": {},
     "output_type": "execute_result"
    }
   ],
   "source": [
    "# See the gender column's unique values \n",
    "coffeeData.Gender.unique()"
   ]
  },
  {
   "cell_type": "markdown",
   "metadata": {
    "colab_type": "text",
    "id": "-eGzgGR1DuVt"
   },
   "source": [
    "We can see a bunch of inconsistency here.\n",
    "\n",
    "Use replace() to make the values of the `gender` column just `Female` and `Male`."
   ]
  },
  {
   "cell_type": "code",
   "execution_count": 864,
   "metadata": {
    "colab": {},
    "colab_type": "code",
    "id": "h0FOX3I3DuVu"
   },
   "outputs": [],
   "source": [
    "# Replace all alternate values for the Female entry with 'Female'\n",
    "coffeeData['Gender'].replace(to_replace=['female', 'F', 'f ', 'FEMALE'], value='Female', inplace=True)"
   ]
  },
  {
   "cell_type": "code",
   "execution_count": 865,
   "metadata": {
    "colab": {},
    "colab_type": "code",
    "id": "5TThfHgCDuVw"
   },
   "outputs": [
    {
     "data": {
      "text/plain": [
       "array(['Female', 'Male', 'MALE', 'male', 'M'], dtype=object)"
      ]
     },
     "execution_count": 865,
     "metadata": {},
     "output_type": "execute_result"
    }
   ],
   "source": [
    "# Check out the unique values for the 'gender' column\n",
    "coffeeData.Gender.unique()"
   ]
  },
  {
   "cell_type": "code",
   "execution_count": 866,
   "metadata": {
    "colab": {},
    "colab_type": "code",
    "id": "4wRKBvSHDuVy"
   },
   "outputs": [],
   "source": [
    "# Replace all alternate values with \"Male\"\n",
    "coffeeData['Gender'].replace(to_replace=['male', 'M', 'MALE'], value='Male', inplace=True)"
   ]
  },
  {
   "cell_type": "code",
   "execution_count": 867,
   "metadata": {
    "colab": {},
    "colab_type": "code",
    "id": "nhBUkXIADuV0"
   },
   "outputs": [
    {
     "data": {
      "text/plain": [
       "array(['Female', 'Male'], dtype=object)"
      ]
     },
     "execution_count": 867,
     "metadata": {},
     "output_type": "execute_result"
    }
   ],
   "source": [
    "# Let's check the unique values of the column \"gender\"\n",
    "coffeeData.Gender.unique()"
   ]
  },
  {
   "cell_type": "code",
   "execution_count": 868,
   "metadata": {
    "colab": {},
    "colab_type": "code",
    "id": "AdhhO4WHDuV2"
   },
   "outputs": [
    {
     "data": {
      "text/plain": [
       "array([ 1., nan,  0.])"
      ]
     },
     "execution_count": 868,
     "metadata": {},
     "output_type": "execute_result"
    }
   ],
   "source": [
    "# Check out the unique values of the column 'Decision'\n",
    "coffeeData.Decision.unique()"
   ]
  },
  {
   "cell_type": "markdown",
   "metadata": {
    "colab_type": "text",
    "id": "m1JuiY-iDuV5"
   },
   "source": [
    "We now want to replace `1.0` and `0.0` in the `Decision` column by `YES` and `NO` respectively."
   ]
  },
  {
   "cell_type": "code",
   "execution_count": 869,
   "metadata": {
    "colab": {},
    "colab_type": "code",
    "id": "QsK6gYPgDuV5"
   },
   "outputs": [],
   "source": [
    "# Replace 1.0 and 0.0 by 'Yes' and 'No'\n",
    "coffeeData['Decision'].replace(to_replace = 1.0, value='YES', inplace=True)\n",
    "coffeeData['Decision'].replace(to_replace = 0.0, value='NO', inplace=True)"
   ]
  },
  {
   "cell_type": "code",
   "execution_count": 870,
   "metadata": {
    "colab": {},
    "colab_type": "code",
    "id": "YtHnTZuWDuV9"
   },
   "outputs": [
    {
     "data": {
      "text/plain": [
       "array(['YES', nan, 'NO'], dtype=object)"
      ]
     },
     "execution_count": 870,
     "metadata": {},
     "output_type": "execute_result"
    }
   ],
   "source": [
    "# Check that our replacing those values with 'YES' and 'NO' worked, with unique()\n",
    "coffeeData.Decision.unique()"
   ]
  },
  {
   "cell_type": "markdown",
   "metadata": {
    "colab_type": "text",
    "id": "CKCt-fBlDuWB"
   },
   "source": [
    "## 2b. Train/test split\n",
    "To execute the train/test split properly, we need to do five things: \n",
    "1. Drop all rows with a null value in the `Decision` column, and save the result as NOPrediction: a dataset that will contain all known values for the decision \n",
    "2. Visualize the data using scatter and boxplots of several variables in the y-axis and the decision on the x-axis\n",
    "3. Get the subset of coffeeData with null values in the `Decision` column, and save that subset as Prediction\n",
    "4. Divide the NOPrediction subset into X and y, and then further divide those subsets into train and test subsets for X and y respectively\n",
    "5. Create dummy variables to deal with categorical inputs"
   ]
  },
  {
   "cell_type": "markdown",
   "metadata": {
    "colab_type": "text",
    "id": "ysHdkIaQDuWB"
   },
   "source": [
    "### 1. Drop all null values within the `Decision` column, and save the result as NoPrediction"
   ]
  },
  {
   "cell_type": "code",
   "execution_count": 871,
   "metadata": {
    "colab": {},
    "colab_type": "code",
    "id": "pvgH6SM4DuWC"
   },
   "outputs": [
    {
     "data": {
      "text/plain": [
       "array(['YES', 'NO'], dtype=object)"
      ]
     },
     "execution_count": 871,
     "metadata": {},
     "output_type": "execute_result"
    }
   ],
   "source": [
    "# NoPrediction will contain all known values for the decision\n",
    "# Call dropna() on coffeeData, and store the result in a variable NOPrediction \n",
    "# Call describe() on the Decision column of NoPrediction after calling dropna() on coffeeData\n",
    "NOPrediction = coffeeData.dropna()\n",
    "NOPrediction['Decision'].unique()"
   ]
  },
  {
   "cell_type": "markdown",
   "metadata": {
    "colab_type": "text",
    "id": "XfTK5Ec6DuWE"
   },
   "source": [
    "### 2. Visualize the data using scatter and boxplots of several variables in the y-axis and the decision on the x-axis"
   ]
  },
  {
   "cell_type": "code",
   "execution_count": 872,
   "metadata": {
    "colab": {},
    "colab_type": "code",
    "id": "5O-M-t3tDuWE"
   },
   "outputs": [
    {
     "data": {
      "image/png": "[encoded data removed]",
      "text/plain": [
       "<Figure size 432x288 with 1 Axes>"
      ]
     },
     "metadata": {
      "needs_background": "light"
     },
     "output_type": "display_data"
    }
   ],
   "source": [
    "# Exploring our new NOPrediction dataset\n",
    "# Make a boxplot on NOPrediction where the x axis is Decision, and the y axis is spent_last_week\n",
    "sns.boxplot(x='Decision', y='spent_last_week', data=NOPrediction)\n",
    "plt.show()"
   ]
  },
  {
   "cell_type": "markdown",
   "metadata": {
    "colab_type": "text",
    "id": "mVqg_HI7DuWG"
   },
   "source": [
    "Can you admissibly conclude anything from this boxplot? \n",
    "\n",
    "**Write your answer here:** Customers spent less than 30 last week mostly voted 'NO' - where as customers spent more than 30 last week voted 'YES'."
   ]
  },
  {
   "cell_type": "code",
   "execution_count": 873,
   "metadata": {
    "colab": {},
    "colab_type": "code",
    "id": "q-AyXWSxDuWH"
   },
   "outputs": [
    {
     "data": {
      "image/png": "[encoded data removed]",
      "text/plain": [
       "<Figure size 432x288 with 1 Axes>"
      ]
     },
     "metadata": {
      "needs_background": "light"
     },
     "output_type": "display_data"
    }
   ],
   "source": [
    "# Make a scatterplot on NOPrediction, where x is distance, y is spent_last_month and hue is Decision \n",
    "sns.scatterplot(x='Distance', y='spent_last_month', data=NOPrediction)\n",
    "plt.show()"
   ]
  },
  {
   "cell_type": "markdown",
   "metadata": {
    "colab_type": "text",
    "id": "I_nr36yZDuWJ"
   },
   "source": [
    "Can you admissibly conclude anything from this scatterplot? Remember: we are trying to build a tree to classify unseen examples. \n",
    "\n",
    "**Write your answer here:** Distance from flagship store and their monthly spending does not have any relationship. Hence, customers may not bothered about the store distance for their purchases."
   ]
  },
  {
   "cell_type": "markdown",
   "metadata": {
    "colab_type": "text",
    "id": "oQBPyvehDuWK"
   },
   "source": [
    "### 3. Get the subset of coffeeData with null values in the Decision column, and save that subset as Prediction"
   ]
  },
  {
   "cell_type": "code",
   "execution_count": 874,
   "metadata": {
    "colab": {},
    "colab_type": "code",
    "id": "vcCednqUDuWL"
   },
   "outputs": [
    {
     "data": {
      "text/html": [
       "<div>\n",
       "<style scoped>\n",
       "    .dataframe tbody tr th:only-of-type {\n",
       "        vertical-align: middle;\n",
       "    }\n",
       "\n",
       "    .dataframe tbody tr th {\n",
       "        vertical-align: top;\n",
       "    }\n",
       "\n",
       "    .dataframe thead th {\n",
       "        text-align: right;\n",
       "    }\n",
       "</style>\n",
       "<table border=\"1\" class=\"dataframe\">\n",
       "  <thead>\n",
       "    <tr style=\"text-align: right;\">\n",
       "      <th></th>\n",
       "      <th>Age</th>\n",
       "      <th>Gender</th>\n",
       "      <th>num_coffeeBags_per_year</th>\n",
       "      <th>spent_last_week</th>\n",
       "      <th>spent_last_month</th>\n",
       "      <th>salary</th>\n",
       "      <th>Distance</th>\n",
       "      <th>Online</th>\n",
       "      <th>Decision</th>\n",
       "    </tr>\n",
       "  </thead>\n",
       "  <tbody>\n",
       "    <tr>\n",
       "      <th>1</th>\n",
       "      <td>24</td>\n",
       "      <td>Male</td>\n",
       "      <td>0</td>\n",
       "      <td>44</td>\n",
       "      <td>164</td>\n",
       "      <td>74035</td>\n",
       "      <td>0.520906</td>\n",
       "      <td>0</td>\n",
       "      <td>NaN</td>\n",
       "    </tr>\n",
       "    <tr>\n",
       "      <th>3</th>\n",
       "      <td>20</td>\n",
       "      <td>Male</td>\n",
       "      <td>0</td>\n",
       "      <td>30</td>\n",
       "      <td>107</td>\n",
       "      <td>13166</td>\n",
       "      <td>0.932098</td>\n",
       "      <td>1</td>\n",
       "      <td>NaN</td>\n",
       "    </tr>\n",
       "    <tr>\n",
       "      <th>7</th>\n",
       "      <td>24</td>\n",
       "      <td>Female</td>\n",
       "      <td>0</td>\n",
       "      <td>20</td>\n",
       "      <td>34</td>\n",
       "      <td>17425</td>\n",
       "      <td>1.193188</td>\n",
       "      <td>0</td>\n",
       "      <td>NaN</td>\n",
       "    </tr>\n",
       "    <tr>\n",
       "      <th>11</th>\n",
       "      <td>24</td>\n",
       "      <td>Female</td>\n",
       "      <td>0</td>\n",
       "      <td>40</td>\n",
       "      <td>153</td>\n",
       "      <td>84803</td>\n",
       "      <td>1.655096</td>\n",
       "      <td>1</td>\n",
       "      <td>NaN</td>\n",
       "    </tr>\n",
       "    <tr>\n",
       "      <th>12</th>\n",
       "      <td>21</td>\n",
       "      <td>Female</td>\n",
       "      <td>0</td>\n",
       "      <td>38</td>\n",
       "      <td>122</td>\n",
       "      <td>42338</td>\n",
       "      <td>1.714179</td>\n",
       "      <td>1</td>\n",
       "      <td>NaN</td>\n",
       "    </tr>\n",
       "  </tbody>\n",
       "</table>\n",
       "</div>"
      ],
      "text/plain": [
       "    Age  Gender  num_coffeeBags_per_year  spent_last_week  spent_last_month  \\\n",
       "1    24    Male                        0               44               164   \n",
       "3    20    Male                        0               30               107   \n",
       "7    24  Female                        0               20                34   \n",
       "11   24  Female                        0               40               153   \n",
       "12   21  Female                        0               38               122   \n",
       "\n",
       "    salary  Distance  Online Decision  \n",
       "1    74035  0.520906       0      NaN  \n",
       "3    13166  0.932098       1      NaN  \n",
       "7    17425  1.193188       0      NaN  \n",
       "11   84803  1.655096       1      NaN  \n",
       "12   42338  1.714179       1      NaN  "
      ]
     },
     "execution_count": 874,
     "metadata": {},
     "output_type": "execute_result"
    }
   ],
   "source": [
    "# Get just those rows whose value for the Decision column is null  \n",
    "Prediction = coffeeData[coffeeData['Decision'].isnull()]\n",
    "Prediction.head()"
   ]
  },
  {
   "cell_type": "code",
   "execution_count": 875,
   "metadata": {
    "colab": {},
    "colab_type": "code",
    "id": "aenlmp9NDuWM"
   },
   "outputs": [
    {
     "data": {
      "text/html": [
       "<div>\n",
       "<style scoped>\n",
       "    .dataframe tbody tr th:only-of-type {\n",
       "        vertical-align: middle;\n",
       "    }\n",
       "\n",
       "    .dataframe tbody tr th {\n",
       "        vertical-align: top;\n",
       "    }\n",
       "\n",
       "    .dataframe thead th {\n",
       "        text-align: right;\n",
       "    }\n",
       "</style>\n",
       "<table border=\"1\" class=\"dataframe\">\n",
       "  <thead>\n",
       "    <tr style=\"text-align: right;\">\n",
       "      <th></th>\n",
       "      <th>Age</th>\n",
       "      <th>num_coffeeBags_per_year</th>\n",
       "      <th>spent_last_week</th>\n",
       "      <th>spent_last_month</th>\n",
       "      <th>salary</th>\n",
       "      <th>Distance</th>\n",
       "      <th>Online</th>\n",
       "    </tr>\n",
       "  </thead>\n",
       "  <tbody>\n",
       "    <tr>\n",
       "      <th>count</th>\n",
       "      <td>228.000000</td>\n",
       "      <td>228.000000</td>\n",
       "      <td>228.000000</td>\n",
       "      <td>228.000000</td>\n",
       "      <td>228.000000</td>\n",
       "      <td>228.000000</td>\n",
       "      <td>228.000000</td>\n",
       "    </tr>\n",
       "    <tr>\n",
       "      <th>mean</th>\n",
       "      <td>31.802632</td>\n",
       "      <td>2.960526</td>\n",
       "      <td>33.394737</td>\n",
       "      <td>110.407895</td>\n",
       "      <td>41923.741228</td>\n",
       "      <td>3.428836</td>\n",
       "      <td>0.570175</td>\n",
       "    </tr>\n",
       "    <tr>\n",
       "      <th>std</th>\n",
       "      <td>14.302293</td>\n",
       "      <td>1.585514</td>\n",
       "      <td>15.697930</td>\n",
       "      <td>53.786536</td>\n",
       "      <td>27406.768360</td>\n",
       "      <td>2.153102</td>\n",
       "      <td>0.496140</td>\n",
       "    </tr>\n",
       "    <tr>\n",
       "      <th>min</th>\n",
       "      <td>16.000000</td>\n",
       "      <td>0.000000</td>\n",
       "      <td>0.000000</td>\n",
       "      <td>0.000000</td>\n",
       "      <td>1617.000000</td>\n",
       "      <td>0.010048</td>\n",
       "      <td>0.000000</td>\n",
       "    </tr>\n",
       "    <tr>\n",
       "      <th>25%</th>\n",
       "      <td>22.000000</td>\n",
       "      <td>2.000000</td>\n",
       "      <td>25.750000</td>\n",
       "      <td>65.000000</td>\n",
       "      <td>15911.500000</td>\n",
       "      <td>1.699408</td>\n",
       "      <td>0.000000</td>\n",
       "    </tr>\n",
       "    <tr>\n",
       "      <th>50%</th>\n",
       "      <td>25.000000</td>\n",
       "      <td>3.000000</td>\n",
       "      <td>37.000000</td>\n",
       "      <td>113.500000</td>\n",
       "      <td>40987.500000</td>\n",
       "      <td>3.208673</td>\n",
       "      <td>1.000000</td>\n",
       "    </tr>\n",
       "    <tr>\n",
       "      <th>75%</th>\n",
       "      <td>39.000000</td>\n",
       "      <td>4.000000</td>\n",
       "      <td>44.000000</td>\n",
       "      <td>151.250000</td>\n",
       "      <td>58537.000000</td>\n",
       "      <td>5.261184</td>\n",
       "      <td>1.000000</td>\n",
       "    </tr>\n",
       "    <tr>\n",
       "      <th>max</th>\n",
       "      <td>67.000000</td>\n",
       "      <td>5.000000</td>\n",
       "      <td>62.000000</td>\n",
       "      <td>210.000000</td>\n",
       "      <td>182058.000000</td>\n",
       "      <td>10.871566</td>\n",
       "      <td>1.000000</td>\n",
       "    </tr>\n",
       "  </tbody>\n",
       "</table>\n",
       "</div>"
      ],
      "text/plain": [
       "              Age  num_coffeeBags_per_year  spent_last_week  spent_last_month  \\\n",
       "count  228.000000               228.000000       228.000000        228.000000   \n",
       "mean    31.802632                 2.960526        33.394737        110.407895   \n",
       "std     14.302293                 1.585514        15.697930         53.786536   \n",
       "min     16.000000                 0.000000         0.000000          0.000000   \n",
       "25%     22.000000                 2.000000        25.750000         65.000000   \n",
       "50%     25.000000                 3.000000        37.000000        113.500000   \n",
       "75%     39.000000                 4.000000        44.000000        151.250000   \n",
       "max     67.000000                 5.000000        62.000000        210.000000   \n",
       "\n",
       "              salary    Distance      Online  \n",
       "count     228.000000  228.000000  228.000000  \n",
       "mean    41923.741228    3.428836    0.570175  \n",
       "std     27406.768360    2.153102    0.496140  \n",
       "min      1617.000000    0.010048    0.000000  \n",
       "25%     15911.500000    1.699408    0.000000  \n",
       "50%     40987.500000    3.208673    1.000000  \n",
       "75%     58537.000000    5.261184    1.000000  \n",
       "max    182058.000000   10.871566    1.000000  "
      ]
     },
     "execution_count": 875,
     "metadata": {},
     "output_type": "execute_result"
    }
   ],
   "source": [
    "# Call describe() on Prediction\n",
    "Prediction.describe()"
   ]
  },
  {
   "cell_type": "markdown",
   "metadata": {
    "colab_type": "text",
    "id": "zmN_BPwFDuWO"
   },
   "source": [
    "### 4. Divide the NOPrediction subset into X and y"
   ]
  },
  {
   "cell_type": "code",
   "execution_count": 876,
   "metadata": {
    "colab": {},
    "colab_type": "code",
    "id": "00WtPVYSDuWP"
   },
   "outputs": [
    {
     "data": {
      "text/plain": [
       "Index(['Age', 'Gender', 'num_coffeeBags_per_year', 'spent_last_week',\n",
       "       'spent_last_month', 'salary', 'Distance', 'Online', 'Decision'],\n",
       "      dtype='object')"
      ]
     },
     "execution_count": 876,
     "metadata": {},
     "output_type": "execute_result"
    }
   ],
   "source": [
    "# Check the names of the columns of NOPrediction\n",
    "NOPrediction.columns"
   ]
  },
  {
   "cell_type": "code",
   "execution_count": 877,
   "metadata": {
    "colab": {},
    "colab_type": "code",
    "id": "oPi2gMLfDuWQ"
   },
   "outputs": [],
   "source": [
    "# Let's do our feature selection.\n",
    "# Make a variable called 'features', and a list containing the strings of every column except \"Decision\"\n",
    "features = ['Age', 'Gender', 'num_coffeeBags_per_year', 'spent_last_week',\n",
    "       'spent_last_month', 'salary', 'Distance', 'Online']\n",
    "\n",
    "# Make an explanatory variable called X, and assign it: NoPrediction[features]\n",
    "X = NOPrediction[features]\n",
    "# Make a dependent variable called y, and assign it: NoPrediction.Decision\n",
    "y = NOPrediction.Decision"
   ]
  },
  {
   "cell_type": "markdown",
   "metadata": {
    "colab_type": "text",
    "id": "R-d3XOv8DuWW"
   },
   "source": [
    "### 5. Create dummy variables to deal with categorical inputs\n",
    "One-hot encoding replaces each unique value of a given column with a new column, and puts a 1 in the new column for a given row just if its initial value for the original column matches the new column. Check out [this resource](https://hackernoon.com/what-is-one-hot-encoding-why-and-when-do-you-have-to-use-it-e3c6186d008f) if you haven't seen one-hot-encoding before. \n",
    "\n",
    "**Note**: We will do this before we do our train/test split as to do it after could mean that some categories only end up in the train or test split of our data by chance and this would then lead to different shapes of data for our `X_train` and `X_test` which could/would cause downstream issues when fitting or predicting using a trained model."
   ]
  },
  {
   "cell_type": "code",
   "execution_count": 878,
   "metadata": {
    "colab": {},
    "colab_type": "code",
    "id": "xXHGDZkZDuWW"
   },
   "outputs": [
    {
     "data": {
      "text/html": [
       "<div>\n",
       "<style scoped>\n",
       "    .dataframe tbody tr th:only-of-type {\n",
       "        vertical-align: middle;\n",
       "    }\n",
       "\n",
       "    .dataframe tbody tr th {\n",
       "        vertical-align: top;\n",
       "    }\n",
       "\n",
       "    .dataframe thead th {\n",
       "        text-align: right;\n",
       "    }\n",
       "</style>\n",
       "<table border=\"1\" class=\"dataframe\">\n",
       "  <thead>\n",
       "    <tr style=\"text-align: right;\">\n",
       "      <th></th>\n",
       "      <th>Age</th>\n",
       "      <th>num_coffeeBags_per_year</th>\n",
       "      <th>spent_last_week</th>\n",
       "      <th>spent_last_month</th>\n",
       "      <th>salary</th>\n",
       "      <th>Distance</th>\n",
       "      <th>Online</th>\n",
       "      <th>Gender_Female</th>\n",
       "      <th>Gender_Male</th>\n",
       "    </tr>\n",
       "  </thead>\n",
       "  <tbody>\n",
       "    <tr>\n",
       "      <th>0</th>\n",
       "      <td>36</td>\n",
       "      <td>0</td>\n",
       "      <td>24</td>\n",
       "      <td>73</td>\n",
       "      <td>42789</td>\n",
       "      <td>0.003168</td>\n",
       "      <td>0</td>\n",
       "      <td>1</td>\n",
       "      <td>0</td>\n",
       "    </tr>\n",
       "    <tr>\n",
       "      <th>2</th>\n",
       "      <td>24</td>\n",
       "      <td>0</td>\n",
       "      <td>39</td>\n",
       "      <td>119</td>\n",
       "      <td>30563</td>\n",
       "      <td>0.916005</td>\n",
       "      <td>1</td>\n",
       "      <td>0</td>\n",
       "      <td>1</td>\n",
       "    </tr>\n",
       "    <tr>\n",
       "      <th>4</th>\n",
       "      <td>24</td>\n",
       "      <td>0</td>\n",
       "      <td>20</td>\n",
       "      <td>36</td>\n",
       "      <td>14244</td>\n",
       "      <td>0.965881</td>\n",
       "      <td>0</td>\n",
       "      <td>1</td>\n",
       "      <td>0</td>\n",
       "    </tr>\n",
       "    <tr>\n",
       "      <th>5</th>\n",
       "      <td>20</td>\n",
       "      <td>0</td>\n",
       "      <td>23</td>\n",
       "      <td>28</td>\n",
       "      <td>14293</td>\n",
       "      <td>1.036346</td>\n",
       "      <td>1</td>\n",
       "      <td>1</td>\n",
       "      <td>0</td>\n",
       "    </tr>\n",
       "    <tr>\n",
       "      <th>6</th>\n",
       "      <td>34</td>\n",
       "      <td>0</td>\n",
       "      <td>55</td>\n",
       "      <td>202</td>\n",
       "      <td>91035</td>\n",
       "      <td>1.134851</td>\n",
       "      <td>0</td>\n",
       "      <td>1</td>\n",
       "      <td>0</td>\n",
       "    </tr>\n",
       "    <tr>\n",
       "      <th>...</th>\n",
       "      <td>...</td>\n",
       "      <td>...</td>\n",
       "      <td>...</td>\n",
       "      <td>...</td>\n",
       "      <td>...</td>\n",
       "      <td>...</td>\n",
       "      <td>...</td>\n",
       "      <td>...</td>\n",
       "      <td>...</td>\n",
       "    </tr>\n",
       "    <tr>\n",
       "      <th>696</th>\n",
       "      <td>29</td>\n",
       "      <td>5</td>\n",
       "      <td>20</td>\n",
       "      <td>74</td>\n",
       "      <td>29799</td>\n",
       "      <td>10.455068</td>\n",
       "      <td>0</td>\n",
       "      <td>1</td>\n",
       "      <td>0</td>\n",
       "    </tr>\n",
       "    <tr>\n",
       "      <th>697</th>\n",
       "      <td>45</td>\n",
       "      <td>5</td>\n",
       "      <td>61</td>\n",
       "      <td>201</td>\n",
       "      <td>80260</td>\n",
       "      <td>10.476341</td>\n",
       "      <td>0</td>\n",
       "      <td>1</td>\n",
       "      <td>0</td>\n",
       "    </tr>\n",
       "    <tr>\n",
       "      <th>698</th>\n",
       "      <td>54</td>\n",
       "      <td>5</td>\n",
       "      <td>44</td>\n",
       "      <td>116</td>\n",
       "      <td>44077</td>\n",
       "      <td>10.693889</td>\n",
       "      <td>1</td>\n",
       "      <td>0</td>\n",
       "      <td>1</td>\n",
       "    </tr>\n",
       "    <tr>\n",
       "      <th>699</th>\n",
       "      <td>63</td>\n",
       "      <td>5</td>\n",
       "      <td>33</td>\n",
       "      <td>117</td>\n",
       "      <td>43081</td>\n",
       "      <td>10.755194</td>\n",
       "      <td>1</td>\n",
       "      <td>0</td>\n",
       "      <td>1</td>\n",
       "    </tr>\n",
       "    <tr>\n",
       "      <th>701</th>\n",
       "      <td>90</td>\n",
       "      <td>5</td>\n",
       "      <td>39</td>\n",
       "      <td>170</td>\n",
       "      <td>15098</td>\n",
       "      <td>10.891566</td>\n",
       "      <td>0</td>\n",
       "      <td>0</td>\n",
       "      <td>1</td>\n",
       "    </tr>\n",
       "  </tbody>\n",
       "</table>\n",
       "<p>474 rows × 9 columns</p>\n",
       "</div>"
      ],
      "text/plain": [
       "     Age  num_coffeeBags_per_year  spent_last_week  spent_last_month  salary  \\\n",
       "0     36                        0               24                73   42789   \n",
       "2     24                        0               39               119   30563   \n",
       "4     24                        0               20                36   14244   \n",
       "5     20                        0               23                28   14293   \n",
       "6     34                        0               55               202   91035   \n",
       "..   ...                      ...              ...               ...     ...   \n",
       "696   29                        5               20                74   29799   \n",
       "697   45                        5               61               201   80260   \n",
       "698   54                        5               44               116   44077   \n",
       "699   63                        5               33               117   43081   \n",
       "701   90                        5               39               170   15098   \n",
       "\n",
       "      Distance  Online  Gender_Female  Gender_Male  \n",
       "0     0.003168       0              1            0  \n",
       "2     0.916005       1              0            1  \n",
       "4     0.965881       0              1            0  \n",
       "5     1.036346       1              1            0  \n",
       "6     1.134851       0              1            0  \n",
       "..         ...     ...            ...          ...  \n",
       "696  10.455068       0              1            0  \n",
       "697  10.476341       0              1            0  \n",
       "698  10.693889       1              0            1  \n",
       "699  10.755194       1              0            1  \n",
       "701  10.891566       0              0            1  \n",
       "\n",
       "[474 rows x 9 columns]"
      ]
     },
     "execution_count": 878,
     "metadata": {},
     "output_type": "execute_result"
    }
   ],
   "source": [
    "# One-hot encode all features in X.\n",
    "X = pd.get_dummies(X)\n",
    "X"
   ]
  },
  {
   "cell_type": "markdown",
   "metadata": {
    "colab_type": "text",
    "id": "Jdn_dHlkDuWS"
   },
   "source": [
    "### 6. Further divide those subsets into train and test subsets for X and y respectively: X_train, X_test, y_train, y_test"
   ]
  },
  {
   "cell_type": "code",
   "execution_count": 879,
   "metadata": {
    "colab": {},
    "colab_type": "code",
    "id": "RqbHQza-DuWT"
   },
   "outputs": [],
   "source": [
    "# Call train_test_split on X, y. Make the test_size = 0.25, and random_state = 246\n",
    "X_train, X_test, y_train, y_test = train_test_split(X, y, test_size = 0.25, random_state = 246)"
   ]
  },
  {
   "cell_type": "markdown",
   "metadata": {
    "colab_type": "text",
    "id": "nqvyCX-6DuWb"
   },
   "source": [
    "# 3. Modelling\n",
    "It's useful to look at the scikit-learn documentation on decision trees https://scikit-learn.org/stable/modules/tree.html before launching into applying them. If you haven't seen them before, take a look at that link, in particular the section `1.10.5.` "
   ]
  },
  {
   "cell_type": "markdown",
   "metadata": {
    "colab_type": "text",
    "id": "RIm9IN5HDuWc"
   },
   "source": [
    "## Model 1: Entropy model - no max_depth\n",
    "\n",
    "We'll give you a little more guidance here, as the Python is hard to deduce, and scikitlearn takes some getting used to.\n",
    "\n",
    "Theoretically, let's remind ourselves of what's going on with a decision tree implementing an entropy model.\n",
    "\n",
    "Ross Quinlan's **ID3 Algorithm** was one of the first, and one of the most basic, to use entropy as a metric.\n",
    "\n",
    "**Entropy** is a measure of how uncertain we are about which category the data-points fall into at a given point in the tree. The **Information gain** of a specific feature with a threshold (such as 'spent_last_month <= 138.0') is the difference in entropy that exists before and after splitting on that feature; i.e., the information we gain about the categories of the data-points by splitting on that feature and that threshold. \n",
    "\n",
    "Naturally, we want to minimize entropy and maximize information gain. Quinlan's ID3 algorithm is designed to output a tree such that the features at each node, starting from the root, and going all the way down to the leaves, have maximial information gain. We want a tree whose leaves have elements that are *homogeneous*, that is, all of the same category. \n",
    "\n",
    "The first model will be the hardest. Persevere and you'll reap the rewards: you can use almost exactly the same code for the other models. "
   ]
  },
  {
   "cell_type": "code",
   "execution_count": 880,
   "metadata": {
    "colab": {},
    "colab_type": "code",
    "id": "8-gelLDgDuWc"
   },
   "outputs": [
    {
     "data": {
      "text/plain": [
       "DecisionTreeClassifier(criterion='entropy')"
      ]
     },
     "execution_count": 880,
     "metadata": {},
     "output_type": "execute_result"
    }
   ],
   "source": [
    "# Declare a variable called entr_model and use tree.DecisionTreeClassifier. \n",
    "entr_model = tree.DecisionTreeClassifier(criterion='entropy')\n",
    "\n",
    "# Call fit() on entr_model\n",
    "entr_model.fit(X_train, y_train) \n",
    "\n",
    "# Call predict() on entr_model with X_test passed to it, and assign the result to a variable y_pred \n",
    "y_pred = entr_model.predict(X_test)\n",
    "\n",
    "# Call Series on our y_pred variable with the following: pd.Series(y_pred)\n",
    "y_pred = pd.Series(y_pred) \n",
    "\n",
    "# Check out entr_model\n",
    "entr_model"
   ]
  },
  {
   "cell_type": "code",
   "execution_count": 881,
   "metadata": {
    "colab": {},
    "colab_type": "code",
    "id": "S4FbHfWnDuWe"
   },
   "outputs": [
    {
     "data": {
      "image/svg+xml": [
       "<?xml version=\"1.0\" encoding=\"UTF-8\" standalone=\"no\"?>\n",
       "<!DOCTYPE svg PUBLIC \"-//W3C//DTD SVG 1.1//EN\"\n",
       " \"http://www.w3.org/Graphics/SVG/1.1/DTD/svg11.dtd\">\n",
       "<!-- Generated by graphviz version 2.50.0 (20211204.2007)\n",
       " -->\n",
       "<!-- Title: Tree Pages: 1 -->\n",
       "<svg width=\"738pt\" height=\"671pt\"\n",
       " viewBox=\"0.00 0.00 737.50 671.00\" xmlns=\"http://www.w3.org/2000/svg\" xmlns:xlink=\"http://www.w3.org/1999/xlink\">\n",
       "<g id=\"graph0\" class=\"graph\" transform=\"scale(1 1) rotate(0) translate(4 667)\">\n",
       "<title>Tree</title>\n",
       "<polygon fill=\"white\" stroke=\"transparent\" points=\"-4,4 -4,-667 733.5,-667 733.5,4 -4,4\"/>\n",
       "<!-- 0 -->\n",
       "<g id=\"node1\" class=\"node\">\n",
       "<title>0</title>\n",
       "<path fill=\"#abd6f4\" stroke=\"black\" d=\"M421.5,-663C421.5,-663 264.5,-663 264.5,-663 258.5,-663 252.5,-657 252.5,-651 252.5,-651 252.5,-592 252.5,-592 252.5,-586 258.5,-580 264.5,-580 264.5,-580 421.5,-580 421.5,-580 427.5,-580 433.5,-586 433.5,-592 433.5,-592 433.5,-651 433.5,-651 433.5,-657 427.5,-663 421.5,-663\"/>\n",
       "<text text-anchor=\"start\" x=\"260.5\" y=\"-647.8\" font-family=\"Helvetica,sans-Serif\" font-size=\"14.00\">spent_last_month ≤ 138.0</text>\n",
       "<text text-anchor=\"start\" x=\"293\" y=\"-632.8\" font-family=\"Helvetica,sans-Serif\" font-size=\"14.00\">entropy = 0.948</text>\n",
       "<text text-anchor=\"start\" x=\"295.5\" y=\"-617.8\" font-family=\"Helvetica,sans-Serif\" font-size=\"14.00\">samples = 355</text>\n",
       "<text text-anchor=\"start\" x=\"286\" y=\"-602.8\" font-family=\"Helvetica,sans-Serif\" font-size=\"14.00\">value = [130, 225]</text>\n",
       "<text text-anchor=\"start\" x=\"304\" y=\"-587.8\" font-family=\"Helvetica,sans-Serif\" font-size=\"14.00\">class = YES</text>\n",
       "</g>\n",
       "<!-- 1 -->\n",
       "<g id=\"node2\" class=\"node\">\n",
       "<title>1</title>\n",
       "<path fill=\"#fae6d7\" stroke=\"black\" d=\"M326,-544C326,-544 220,-544 220,-544 214,-544 208,-538 208,-532 208,-532 208,-473 208,-473 208,-467 214,-461 220,-461 220,-461 326,-461 326,-461 332,-461 338,-467 338,-473 338,-473 338,-532 338,-532 338,-538 332,-544 326,-544\"/>\n",
       "<text text-anchor=\"start\" x=\"219\" y=\"-528.8\" font-family=\"Helvetica,sans-Serif\" font-size=\"14.00\">Distance ≤ 3.524</text>\n",
       "<text text-anchor=\"start\" x=\"223\" y=\"-513.8\" font-family=\"Helvetica,sans-Serif\" font-size=\"14.00\">entropy = 0.991</text>\n",
       "<text text-anchor=\"start\" x=\"225.5\" y=\"-498.8\" font-family=\"Helvetica,sans-Serif\" font-size=\"14.00\">samples = 234</text>\n",
       "<text text-anchor=\"start\" x=\"216\" y=\"-483.8\" font-family=\"Helvetica,sans-Serif\" font-size=\"14.00\">value = [130, 104]</text>\n",
       "<text text-anchor=\"start\" x=\"238\" y=\"-468.8\" font-family=\"Helvetica,sans-Serif\" font-size=\"14.00\">class = NO</text>\n",
       "</g>\n",
       "<!-- 0&#45;&gt;1 -->\n",
       "<g id=\"edge1\" class=\"edge\">\n",
       "<title>0&#45;&gt;1</title>\n",
       "<path fill=\"none\" stroke=\"black\" d=\"M318.71,-579.91C313.45,-571.1 307.82,-561.7 302.38,-552.61\"/>\n",
       "<polygon fill=\"black\" stroke=\"black\" points=\"305.38,-550.81 297.24,-544.02 299.37,-554.4 305.38,-550.81\"/>\n",
       "<text text-anchor=\"middle\" x=\"291.15\" y=\"-564.57\" font-family=\"Helvetica,sans-Serif\" font-size=\"14.00\">True</text>\n",
       "</g>\n",
       "<!-- 16 -->\n",
       "<g id=\"node17\" class=\"node\">\n",
       "<title>16</title>\n",
       "<path fill=\"#399de5\" stroke=\"black\" d=\"M457.5,-536.5C457.5,-536.5 368.5,-536.5 368.5,-536.5 362.5,-536.5 356.5,-530.5 356.5,-524.5 356.5,-524.5 356.5,-480.5 356.5,-480.5 356.5,-474.5 362.5,-468.5 368.5,-468.5 368.5,-468.5 457.5,-468.5 457.5,-468.5 463.5,-468.5 469.5,-474.5 469.5,-480.5 469.5,-480.5 469.5,-524.5 469.5,-524.5 469.5,-530.5 463.5,-536.5 457.5,-536.5\"/>\n",
       "<text text-anchor=\"start\" x=\"371\" y=\"-521.3\" font-family=\"Helvetica,sans-Serif\" font-size=\"14.00\">entropy = 0.0</text>\n",
       "<text text-anchor=\"start\" x=\"365.5\" y=\"-506.3\" font-family=\"Helvetica,sans-Serif\" font-size=\"14.00\">samples = 121</text>\n",
       "<text text-anchor=\"start\" x=\"364.5\" y=\"-491.3\" font-family=\"Helvetica,sans-Serif\" font-size=\"14.00\">value = [0, 121]</text>\n",
       "<text text-anchor=\"start\" x=\"374\" y=\"-476.3\" font-family=\"Helvetica,sans-Serif\" font-size=\"14.00\">class = YES</text>\n",
       "</g>\n",
       "<!-- 0&#45;&gt;16 -->\n",
       "<g id=\"edge16\" class=\"edge\">\n",
       "<title>0&#45;&gt;16</title>\n",
       "<path fill=\"none\" stroke=\"black\" d=\"M367.29,-579.91C373.95,-568.76 381.2,-556.66 387.91,-545.44\"/>\n",
       "<polygon fill=\"black\" stroke=\"black\" points=\"391.03,-547.05 393.16,-536.67 385.02,-543.45 391.03,-547.05\"/>\n",
       "<text text-anchor=\"middle\" x=\"399.25\" y=\"-557.21\" font-family=\"Helvetica,sans-Serif\" font-size=\"14.00\">False</text>\n",
       "</g>\n",
       "<!-- 2 -->\n",
       "<g id=\"node3\" class=\"node\">\n",
       "<title>2</title>\n",
       "<path fill=\"#52aae8\" stroke=\"black\" d=\"M250.5,-425C250.5,-425 101.5,-425 101.5,-425 95.5,-425 89.5,-419 89.5,-413 89.5,-413 89.5,-354 89.5,-354 89.5,-348 95.5,-342 101.5,-342 101.5,-342 250.5,-342 250.5,-342 256.5,-342 262.5,-348 262.5,-354 262.5,-354 262.5,-413 262.5,-413 262.5,-419 256.5,-425 250.5,-425\"/>\n",
       "<text text-anchor=\"start\" x=\"97.5\" y=\"-409.8\" font-family=\"Helvetica,sans-Serif\" font-size=\"14.00\">spent_last_month ≤ 24.5</text>\n",
       "<text text-anchor=\"start\" x=\"126\" y=\"-394.8\" font-family=\"Helvetica,sans-Serif\" font-size=\"14.00\">entropy = 0.512</text>\n",
       "<text text-anchor=\"start\" x=\"132.5\" y=\"-379.8\" font-family=\"Helvetica,sans-Serif\" font-size=\"14.00\">samples = 79</text>\n",
       "<text text-anchor=\"start\" x=\"131.5\" y=\"-364.8\" font-family=\"Helvetica,sans-Serif\" font-size=\"14.00\">value = [9, 70]</text>\n",
       "<text text-anchor=\"start\" x=\"137\" y=\"-349.8\" font-family=\"Helvetica,sans-Serif\" font-size=\"14.00\">class = YES</text>\n",
       "</g>\n",
       "<!-- 1&#45;&gt;2 -->\n",
       "<g id=\"edge2\" class=\"edge\">\n",
       "<title>1&#45;&gt;2</title>\n",
       "<path fill=\"none\" stroke=\"black\" d=\"M239.35,-460.91C231.82,-451.83 223.77,-442.12 216.02,-432.77\"/>\n",
       "<polygon fill=\"black\" stroke=\"black\" points=\"218.67,-430.49 209.59,-425.02 213.28,-434.95 218.67,-430.49\"/>\n",
       "</g>\n",
       "<!-- 7 -->\n",
       "<g id=\"node8\" class=\"node\">\n",
       "<title>7</title>\n",
       "<path fill=\"#eca471\" stroke=\"black\" d=\"M471.5,-425C471.5,-425 314.5,-425 314.5,-425 308.5,-425 302.5,-419 302.5,-413 302.5,-413 302.5,-354 302.5,-354 302.5,-348 308.5,-342 314.5,-342 314.5,-342 471.5,-342 471.5,-342 477.5,-342 483.5,-348 483.5,-354 483.5,-354 483.5,-413 483.5,-413 483.5,-419 477.5,-425 471.5,-425\"/>\n",
       "<text text-anchor=\"start\" x=\"310.5\" y=\"-409.8\" font-family=\"Helvetica,sans-Serif\" font-size=\"14.00\">spent_last_month ≤ 101.0</text>\n",
       "<text text-anchor=\"start\" x=\"343\" y=\"-394.8\" font-family=\"Helvetica,sans-Serif\" font-size=\"14.00\">entropy = 0.759</text>\n",
       "<text text-anchor=\"start\" x=\"345.5\" y=\"-379.8\" font-family=\"Helvetica,sans-Serif\" font-size=\"14.00\">samples = 155</text>\n",
       "<text text-anchor=\"start\" x=\"340\" y=\"-364.8\" font-family=\"Helvetica,sans-Serif\" font-size=\"14.00\">value = [121, 34]</text>\n",
       "<text text-anchor=\"start\" x=\"358\" y=\"-349.8\" font-family=\"Helvetica,sans-Serif\" font-size=\"14.00\">class = NO</text>\n",
       "</g>\n",
       "<!-- 1&#45;&gt;7 -->\n",
       "<g id=\"edge7\" class=\"edge\">\n",
       "<title>1&#45;&gt;7</title>\n",
       "<path fill=\"none\" stroke=\"black\" d=\"M314.63,-460.91C324.13,-451.65 334.3,-441.73 344.07,-432.21\"/>\n",
       "<polygon fill=\"black\" stroke=\"black\" points=\"346.72,-434.51 351.44,-425.02 341.84,-429.5 346.72,-434.51\"/>\n",
       "</g>\n",
       "<!-- 3 -->\n",
       "<g id=\"node4\" class=\"node\">\n",
       "<title>3</title>\n",
       "<path fill=\"#e58139\" stroke=\"black\" d=\"M88,-298.5C88,-298.5 12,-298.5 12,-298.5 6,-298.5 0,-292.5 0,-286.5 0,-286.5 0,-242.5 0,-242.5 0,-236.5 6,-230.5 12,-230.5 12,-230.5 88,-230.5 88,-230.5 94,-230.5 100,-236.5 100,-242.5 100,-242.5 100,-286.5 100,-286.5 100,-292.5 94,-298.5 88,-298.5\"/>\n",
       "<text text-anchor=\"start\" x=\"8\" y=\"-283.3\" font-family=\"Helvetica,sans-Serif\" font-size=\"14.00\">entropy = 0.0</text>\n",
       "<text text-anchor=\"start\" x=\"10.5\" y=\"-268.3\" font-family=\"Helvetica,sans-Serif\" font-size=\"14.00\">samples = 8</text>\n",
       "<text text-anchor=\"start\" x=\"9.5\" y=\"-253.3\" font-family=\"Helvetica,sans-Serif\" font-size=\"14.00\">value = [8, 0]</text>\n",
       "<text text-anchor=\"start\" x=\"15\" y=\"-238.3\" font-family=\"Helvetica,sans-Serif\" font-size=\"14.00\">class = NO</text>\n",
       "</g>\n",
       "<!-- 2&#45;&gt;3 -->\n",
       "<g id=\"edge3\" class=\"edge\">\n",
       "<title>2&#45;&gt;3</title>\n",
       "<path fill=\"none\" stroke=\"black\" d=\"M132.28,-341.91C119.69,-330.21 105.95,-317.46 93.38,-305.78\"/>\n",
       "<polygon fill=\"black\" stroke=\"black\" points=\"95.43,-302.91 85.72,-298.67 90.66,-308.04 95.43,-302.91\"/>\n",
       "</g>\n",
       "<!-- 4 -->\n",
       "<g id=\"node5\" class=\"node\">\n",
       "<title>4</title>\n",
       "<path fill=\"#3c9ee5\" stroke=\"black\" d=\"M222,-306C222,-306 130,-306 130,-306 124,-306 118,-300 118,-294 118,-294 118,-235 118,-235 118,-229 124,-223 130,-223 130,-223 222,-223 222,-223 228,-223 234,-229 234,-235 234,-235 234,-294 234,-294 234,-300 228,-306 222,-306\"/>\n",
       "<text text-anchor=\"start\" x=\"141\" y=\"-290.8\" font-family=\"Helvetica,sans-Serif\" font-size=\"14.00\">Age ≤ 59.0</text>\n",
       "<text text-anchor=\"start\" x=\"126\" y=\"-275.8\" font-family=\"Helvetica,sans-Serif\" font-size=\"14.00\">entropy = 0.107</text>\n",
       "<text text-anchor=\"start\" x=\"132.5\" y=\"-260.8\" font-family=\"Helvetica,sans-Serif\" font-size=\"14.00\">samples = 71</text>\n",
       "<text text-anchor=\"start\" x=\"131.5\" y=\"-245.8\" font-family=\"Helvetica,sans-Serif\" font-size=\"14.00\">value = [1, 70]</text>\n",
       "<text text-anchor=\"start\" x=\"137\" y=\"-230.8\" font-family=\"Helvetica,sans-Serif\" font-size=\"14.00\">class = YES</text>\n",
       "</g>\n",
       "<!-- 2&#45;&gt;4 -->\n",
       "<g id=\"edge4\" class=\"edge\">\n",
       "<title>2&#45;&gt;4</title>\n",
       "<path fill=\"none\" stroke=\"black\" d=\"M176,-341.91C176,-333.65 176,-324.86 176,-316.3\"/>\n",
       "<polygon fill=\"black\" stroke=\"black\" points=\"179.5,-316.02 176,-306.02 172.5,-316.02 179.5,-316.02\"/>\n",
       "</g>\n",
       "<!-- 5 -->\n",
       "<g id=\"node6\" class=\"node\">\n",
       "<title>5</title>\n",
       "<path fill=\"#399de5\" stroke=\"black\" d=\"M95.5,-179.5C95.5,-179.5 14.5,-179.5 14.5,-179.5 8.5,-179.5 2.5,-173.5 2.5,-167.5 2.5,-167.5 2.5,-123.5 2.5,-123.5 2.5,-117.5 8.5,-111.5 14.5,-111.5 14.5,-111.5 95.5,-111.5 95.5,-111.5 101.5,-111.5 107.5,-117.5 107.5,-123.5 107.5,-123.5 107.5,-167.5 107.5,-167.5 107.5,-173.5 101.5,-179.5 95.5,-179.5\"/>\n",
       "<text text-anchor=\"start\" x=\"13\" y=\"-164.3\" font-family=\"Helvetica,sans-Serif\" font-size=\"14.00\">entropy = 0.0</text>\n",
       "<text text-anchor=\"start\" x=\"11.5\" y=\"-149.3\" font-family=\"Helvetica,sans-Serif\" font-size=\"14.00\">samples = 70</text>\n",
       "<text text-anchor=\"start\" x=\"10.5\" y=\"-134.3\" font-family=\"Helvetica,sans-Serif\" font-size=\"14.00\">value = [0, 70]</text>\n",
       "<text text-anchor=\"start\" x=\"16\" y=\"-119.3\" font-family=\"Helvetica,sans-Serif\" font-size=\"14.00\">class = YES</text>\n",
       "</g>\n",
       "<!-- 4&#45;&gt;5 -->\n",
       "<g id=\"edge5\" class=\"edge\">\n",
       "<title>4&#45;&gt;5</title>\n",
       "<path fill=\"none\" stroke=\"black\" d=\"M134.02,-222.91C121.92,-211.21 108.73,-198.46 96.66,-186.78\"/>\n",
       "<polygon fill=\"black\" stroke=\"black\" points=\"98.92,-184.1 89.3,-179.67 94.06,-189.13 98.92,-184.1\"/>\n",
       "</g>\n",
       "<!-- 6 -->\n",
       "<g id=\"node7\" class=\"node\">\n",
       "<title>6</title>\n",
       "<path fill=\"#e58139\" stroke=\"black\" d=\"M214,-179.5C214,-179.5 138,-179.5 138,-179.5 132,-179.5 126,-173.5 126,-167.5 126,-167.5 126,-123.5 126,-123.5 126,-117.5 132,-111.5 138,-111.5 138,-111.5 214,-111.5 214,-111.5 220,-111.5 226,-117.5 226,-123.5 226,-123.5 226,-167.5 226,-167.5 226,-173.5 220,-179.5 214,-179.5\"/>\n",
       "<text text-anchor=\"start\" x=\"134\" y=\"-164.3\" font-family=\"Helvetica,sans-Serif\" font-size=\"14.00\">entropy = 0.0</text>\n",
       "<text text-anchor=\"start\" x=\"136.5\" y=\"-149.3\" font-family=\"Helvetica,sans-Serif\" font-size=\"14.00\">samples = 1</text>\n",
       "<text text-anchor=\"start\" x=\"135.5\" y=\"-134.3\" font-family=\"Helvetica,sans-Serif\" font-size=\"14.00\">value = [1, 0]</text>\n",
       "<text text-anchor=\"start\" x=\"141\" y=\"-119.3\" font-family=\"Helvetica,sans-Serif\" font-size=\"14.00\">class = NO</text>\n",
       "</g>\n",
       "<!-- 4&#45;&gt;6 -->\n",
       "<g id=\"edge6\" class=\"edge\">\n",
       "<title>4&#45;&gt;6</title>\n",
       "<path fill=\"none\" stroke=\"black\" d=\"M176,-222.91C176,-212.2 176,-200.62 176,-189.78\"/>\n",
       "<polygon fill=\"black\" stroke=\"black\" points=\"179.5,-189.67 176,-179.67 172.5,-189.67 179.5,-189.67\"/>\n",
       "</g>\n",
       "<!-- 8 -->\n",
       "<g id=\"node9\" class=\"node\">\n",
       "<title>8</title>\n",
       "<path fill=\"#e6853f\" stroke=\"black\" d=\"M439,-306C439,-306 347,-306 347,-306 341,-306 335,-300 335,-294 335,-294 335,-235 335,-235 335,-229 341,-223 347,-223 347,-223 439,-223 439,-223 445,-223 451,-229 451,-235 451,-235 451,-294 451,-294 451,-300 445,-306 439,-306\"/>\n",
       "<text text-anchor=\"start\" x=\"347.5\" y=\"-290.8\" font-family=\"Helvetica,sans-Serif\" font-size=\"14.00\">Distance ≤ 4.0</text>\n",
       "<text text-anchor=\"start\" x=\"343\" y=\"-275.8\" font-family=\"Helvetica,sans-Serif\" font-size=\"14.00\">entropy = 0.191</text>\n",
       "<text text-anchor=\"start\" x=\"345.5\" y=\"-260.8\" font-family=\"Helvetica,sans-Serif\" font-size=\"14.00\">samples = 102</text>\n",
       "<text text-anchor=\"start\" x=\"348.5\" y=\"-245.8\" font-family=\"Helvetica,sans-Serif\" font-size=\"14.00\">value = [99, 3]</text>\n",
       "<text text-anchor=\"start\" x=\"358\" y=\"-230.8\" font-family=\"Helvetica,sans-Serif\" font-size=\"14.00\">class = NO</text>\n",
       "</g>\n",
       "<!-- 7&#45;&gt;8 -->\n",
       "<g id=\"edge8\" class=\"edge\">\n",
       "<title>7&#45;&gt;8</title>\n",
       "<path fill=\"none\" stroke=\"black\" d=\"M393,-341.91C393,-333.65 393,-324.86 393,-316.3\"/>\n",
       "<polygon fill=\"black\" stroke=\"black\" points=\"396.5,-316.02 393,-306.02 389.5,-316.02 396.5,-316.02\"/>\n",
       "</g>\n",
       "<!-- 13 -->\n",
       "<g id=\"node14\" class=\"node\">\n",
       "<title>13</title>\n",
       "<path fill=\"#c6e3f7\" stroke=\"black\" d=\"M604,-306C604,-306 504,-306 504,-306 498,-306 492,-300 492,-294 492,-294 492,-235 492,-235 492,-229 498,-223 504,-223 504,-223 604,-223 604,-223 610,-223 616,-229 616,-235 616,-235 616,-294 616,-294 616,-300 610,-306 604,-306\"/>\n",
       "<text text-anchor=\"start\" x=\"500\" y=\"-290.8\" font-family=\"Helvetica,sans-Serif\" font-size=\"14.00\">Distance ≤ 7.887</text>\n",
       "<text text-anchor=\"start\" x=\"504\" y=\"-275.8\" font-family=\"Helvetica,sans-Serif\" font-size=\"14.00\">entropy = 0.979</text>\n",
       "<text text-anchor=\"start\" x=\"510.5\" y=\"-260.8\" font-family=\"Helvetica,sans-Serif\" font-size=\"14.00\">samples = 53</text>\n",
       "<text text-anchor=\"start\" x=\"505.5\" y=\"-245.8\" font-family=\"Helvetica,sans-Serif\" font-size=\"14.00\">value = [22, 31]</text>\n",
       "<text text-anchor=\"start\" x=\"515\" y=\"-230.8\" font-family=\"Helvetica,sans-Serif\" font-size=\"14.00\">class = YES</text>\n",
       "</g>\n",
       "<!-- 7&#45;&gt;13 -->\n",
       "<g id=\"edge13\" class=\"edge\">\n",
       "<title>7&#45;&gt;13</title>\n",
       "<path fill=\"none\" stroke=\"black\" d=\"M448.86,-341.91C462.1,-332.29 476.32,-321.95 489.89,-312.09\"/>\n",
       "<polygon fill=\"black\" stroke=\"black\" points=\"492.21,-314.73 498.24,-306.02 488.09,-309.07 492.21,-314.73\"/>\n",
       "</g>\n",
       "<!-- 9 -->\n",
       "<g id=\"node10\" class=\"node\">\n",
       "<title>9</title>\n",
       "<path fill=\"#f8e0ce\" stroke=\"black\" d=\"M348,-187C348,-187 256,-187 256,-187 250,-187 244,-181 244,-175 244,-175 244,-116 244,-116 244,-110 250,-104 256,-104 256,-104 348,-104 348,-104 354,-104 360,-110 360,-116 360,-116 360,-175 360,-175 360,-181 354,-187 348,-187\"/>\n",
       "<text text-anchor=\"start\" x=\"267\" y=\"-171.8\" font-family=\"Helvetica,sans-Serif\" font-size=\"14.00\">Age ≤ 26.5</text>\n",
       "<text text-anchor=\"start\" x=\"252\" y=\"-156.8\" font-family=\"Helvetica,sans-Serif\" font-size=\"14.00\">entropy = 0.985</text>\n",
       "<text text-anchor=\"start\" x=\"262.5\" y=\"-141.8\" font-family=\"Helvetica,sans-Serif\" font-size=\"14.00\">samples = 7</text>\n",
       "<text text-anchor=\"start\" x=\"261.5\" y=\"-126.8\" font-family=\"Helvetica,sans-Serif\" font-size=\"14.00\">value = [4, 3]</text>\n",
       "<text text-anchor=\"start\" x=\"267\" y=\"-111.8\" font-family=\"Helvetica,sans-Serif\" font-size=\"14.00\">class = NO</text>\n",
       "</g>\n",
       "<!-- 8&#45;&gt;9 -->\n",
       "<g id=\"edge9\" class=\"edge\">\n",
       "<title>8&#45;&gt;9</title>\n",
       "<path fill=\"none\" stroke=\"black\" d=\"M361.43,-222.91C354.44,-213.92 346.97,-204.32 339.76,-195.05\"/>\n",
       "<polygon fill=\"black\" stroke=\"black\" points=\"342.42,-192.77 333.52,-187.02 336.89,-197.06 342.42,-192.77\"/>\n",
       "</g>\n",
       "<!-- 12 -->\n",
       "<g id=\"node13\" class=\"node\">\n",
       "<title>12</title>\n",
       "<path fill=\"#e58139\" stroke=\"black\" d=\"M471.5,-179.5C471.5,-179.5 390.5,-179.5 390.5,-179.5 384.5,-179.5 378.5,-173.5 378.5,-167.5 378.5,-167.5 378.5,-123.5 378.5,-123.5 378.5,-117.5 384.5,-111.5 390.5,-111.5 390.5,-111.5 471.5,-111.5 471.5,-111.5 477.5,-111.5 483.5,-117.5 483.5,-123.5 483.5,-123.5 483.5,-167.5 483.5,-167.5 483.5,-173.5 477.5,-179.5 471.5,-179.5\"/>\n",
       "<text text-anchor=\"start\" x=\"389\" y=\"-164.3\" font-family=\"Helvetica,sans-Serif\" font-size=\"14.00\">entropy = 0.0</text>\n",
       "<text text-anchor=\"start\" x=\"387.5\" y=\"-149.3\" font-family=\"Helvetica,sans-Serif\" font-size=\"14.00\">samples = 95</text>\n",
       "<text text-anchor=\"start\" x=\"386.5\" y=\"-134.3\" font-family=\"Helvetica,sans-Serif\" font-size=\"14.00\">value = [95, 0]</text>\n",
       "<text text-anchor=\"start\" x=\"396\" y=\"-119.3\" font-family=\"Helvetica,sans-Serif\" font-size=\"14.00\">class = NO</text>\n",
       "</g>\n",
       "<!-- 8&#45;&gt;12 -->\n",
       "<g id=\"edge12\" class=\"edge\">\n",
       "<title>8&#45;&gt;12</title>\n",
       "<path fill=\"none\" stroke=\"black\" d=\"M406.18,-222.91C409.7,-212.09 413.5,-200.38 417.05,-189.44\"/>\n",
       "<polygon fill=\"black\" stroke=\"black\" points=\"420.47,-190.26 420.23,-179.67 413.81,-188.1 420.47,-190.26\"/>\n",
       "</g>\n",
       "<!-- 10 -->\n",
       "<g id=\"node11\" class=\"node\">\n",
       "<title>10</title>\n",
       "<path fill=\"#399de5\" stroke=\"black\" d=\"M281,-68C281,-68 205,-68 205,-68 199,-68 193,-62 193,-56 193,-56 193,-12 193,-12 193,-6 199,0 205,0 205,0 281,0 281,0 287,0 293,-6 293,-12 293,-12 293,-56 293,-56 293,-62 287,-68 281,-68\"/>\n",
       "<text text-anchor=\"start\" x=\"201\" y=\"-52.8\" font-family=\"Helvetica,sans-Serif\" font-size=\"14.00\">entropy = 0.0</text>\n",
       "<text text-anchor=\"start\" x=\"203.5\" y=\"-37.8\" font-family=\"Helvetica,sans-Serif\" font-size=\"14.00\">samples = 3</text>\n",
       "<text text-anchor=\"start\" x=\"202.5\" y=\"-22.8\" font-family=\"Helvetica,sans-Serif\" font-size=\"14.00\">value = [0, 3]</text>\n",
       "<text text-anchor=\"start\" x=\"204\" y=\"-7.8\" font-family=\"Helvetica,sans-Serif\" font-size=\"14.00\">class = YES</text>\n",
       "</g>\n",
       "<!-- 9&#45;&gt;10 -->\n",
       "<g id=\"edge10\" class=\"edge\">\n",
       "<title>9&#45;&gt;10</title>\n",
       "<path fill=\"none\" stroke=\"black\" d=\"M280.03,-103.73C275.36,-95.06 270.42,-85.9 265.73,-77.18\"/>\n",
       "<polygon fill=\"black\" stroke=\"black\" points=\"268.77,-75.44 260.94,-68.3 262.6,-78.76 268.77,-75.44\"/>\n",
       "</g>\n",
       "<!-- 11 -->\n",
       "<g id=\"node12\" class=\"node\">\n",
       "<title>11</title>\n",
       "<path fill=\"#e58139\" stroke=\"black\" d=\"M399,-68C399,-68 323,-68 323,-68 317,-68 311,-62 311,-56 311,-56 311,-12 311,-12 311,-6 317,0 323,0 323,0 399,0 399,0 405,0 411,-6 411,-12 411,-12 411,-56 411,-56 411,-62 405,-68 399,-68\"/>\n",
       "<text text-anchor=\"start\" x=\"319\" y=\"-52.8\" font-family=\"Helvetica,sans-Serif\" font-size=\"14.00\">entropy = 0.0</text>\n",
       "<text text-anchor=\"start\" x=\"321.5\" y=\"-37.8\" font-family=\"Helvetica,sans-Serif\" font-size=\"14.00\">samples = 4</text>\n",
       "<text text-anchor=\"start\" x=\"320.5\" y=\"-22.8\" font-family=\"Helvetica,sans-Serif\" font-size=\"14.00\">value = [4, 0]</text>\n",
       "<text text-anchor=\"start\" x=\"326\" y=\"-7.8\" font-family=\"Helvetica,sans-Serif\" font-size=\"14.00\">class = NO</text>\n",
       "</g>\n",
       "<!-- 9&#45;&gt;11 -->\n",
       "<g id=\"edge11\" class=\"edge\">\n",
       "<title>9&#45;&gt;11</title>\n",
       "<path fill=\"none\" stroke=\"black\" d=\"M323.97,-103.73C328.64,-95.06 333.58,-85.9 338.27,-77.18\"/>\n",
       "<polygon fill=\"black\" stroke=\"black\" points=\"341.4,-78.76 343.06,-68.3 335.23,-75.44 341.4,-78.76\"/>\n",
       "</g>\n",
       "<!-- 14 -->\n",
       "<g id=\"node15\" class=\"node\">\n",
       "<title>14</title>\n",
       "<path fill=\"#399de5\" stroke=\"black\" d=\"M594.5,-179.5C594.5,-179.5 513.5,-179.5 513.5,-179.5 507.5,-179.5 501.5,-173.5 501.5,-167.5 501.5,-167.5 501.5,-123.5 501.5,-123.5 501.5,-117.5 507.5,-111.5 513.5,-111.5 513.5,-111.5 594.5,-111.5 594.5,-111.5 600.5,-111.5 606.5,-117.5 606.5,-123.5 606.5,-123.5 606.5,-167.5 606.5,-167.5 606.5,-173.5 600.5,-179.5 594.5,-179.5\"/>\n",
       "<text text-anchor=\"start\" x=\"512\" y=\"-164.3\" font-family=\"Helvetica,sans-Serif\" font-size=\"14.00\">entropy = 0.0</text>\n",
       "<text text-anchor=\"start\" x=\"510.5\" y=\"-149.3\" font-family=\"Helvetica,sans-Serif\" font-size=\"14.00\">samples = 31</text>\n",
       "<text text-anchor=\"start\" x=\"509.5\" y=\"-134.3\" font-family=\"Helvetica,sans-Serif\" font-size=\"14.00\">value = [0, 31]</text>\n",
       "<text text-anchor=\"start\" x=\"515\" y=\"-119.3\" font-family=\"Helvetica,sans-Serif\" font-size=\"14.00\">class = YES</text>\n",
       "</g>\n",
       "<!-- 13&#45;&gt;14 -->\n",
       "<g id=\"edge14\" class=\"edge\">\n",
       "<title>13&#45;&gt;14</title>\n",
       "<path fill=\"none\" stroke=\"black\" d=\"M554,-222.91C554,-212.2 554,-200.62 554,-189.78\"/>\n",
       "<polygon fill=\"black\" stroke=\"black\" points=\"557.5,-189.67 554,-179.67 550.5,-189.67 557.5,-189.67\"/>\n",
       "</g>\n",
       "<!-- 15 -->\n",
       "<g id=\"node16\" class=\"node\">\n",
       "<title>15</title>\n",
       "<path fill=\"#e58139\" stroke=\"black\" d=\"M717.5,-179.5C717.5,-179.5 636.5,-179.5 636.5,-179.5 630.5,-179.5 624.5,-173.5 624.5,-167.5 624.5,-167.5 624.5,-123.5 624.5,-123.5 624.5,-117.5 630.5,-111.5 636.5,-111.5 636.5,-111.5 717.5,-111.5 717.5,-111.5 723.5,-111.5 729.5,-117.5 729.5,-123.5 729.5,-123.5 729.5,-167.5 729.5,-167.5 729.5,-173.5 723.5,-179.5 717.5,-179.5\"/>\n",
       "<text text-anchor=\"start\" x=\"635\" y=\"-164.3\" font-family=\"Helvetica,sans-Serif\" font-size=\"14.00\">entropy = 0.0</text>\n",
       "<text text-anchor=\"start\" x=\"633.5\" y=\"-149.3\" font-family=\"Helvetica,sans-Serif\" font-size=\"14.00\">samples = 22</text>\n",
       "<text text-anchor=\"start\" x=\"632.5\" y=\"-134.3\" font-family=\"Helvetica,sans-Serif\" font-size=\"14.00\">value = [22, 0]</text>\n",
       "<text text-anchor=\"start\" x=\"642\" y=\"-119.3\" font-family=\"Helvetica,sans-Serif\" font-size=\"14.00\">class = NO</text>\n",
       "</g>\n",
       "<!-- 13&#45;&gt;15 -->\n",
       "<g id=\"edge15\" class=\"edge\">\n",
       "<title>13&#45;&gt;15</title>\n",
       "<path fill=\"none\" stroke=\"black\" d=\"M596.67,-222.91C608.97,-211.21 622.38,-198.46 634.65,-186.78\"/>\n",
       "<polygon fill=\"black\" stroke=\"black\" points=\"637.3,-189.1 642.13,-179.67 632.47,-184.02 637.3,-189.1\"/>\n",
       "</g>\n",
       "</g>\n",
       "</svg>\n"
      ],
      "text/plain": [
       "<graphviz.sources.Source at 0x29a18b26b20>"
      ]
     },
     "execution_count": 881,
     "metadata": {},
     "output_type": "execute_result"
    }
   ],
   "source": [
    "# Now we want to visualize the tree\n",
    "import graphviz\n",
    "\n",
    "# We can do so with export_graphviz\n",
    "dot_data = tree.export_graphviz(entr_model, feature_names=X_train.columns, class_names=entr_model.classes_, \n",
    "                                filled=True, rounded=True, special_characters=True, out_file=None) \n",
    "graph_entr = graphviz.Source(dot_data)\n",
    "# Alternatively for class_names use entr_model.classes_\n",
    "graph_entr"
   ]
  },
  {
   "cell_type": "markdown",
   "metadata": {
    "colab_type": "text",
    "id": "dFbii4IADuWg"
   },
   "source": [
    "## Model 1: Entropy model - no max_depth: Interpretation and evaluation"
   ]
  },
  {
   "cell_type": "code",
   "execution_count": 882,
   "metadata": {
    "colab": {},
    "colab_type": "code",
    "id": "XRL0klK4DuWh"
   },
   "outputs": [
    {
     "name": "stdout",
     "output_type": "stream",
     "text": [
      "Model Entropy - no max depth\n",
      "Accuracy: 0.9915966386554622\n",
      "Balanced accuracy: 0.9878048780487805\n",
      "Precision score for \"Yes\" 0.9873417721518988\n",
      "Precision score for \"No\" 1.0\n",
      "Recall score for \"Yes\" 1.0\n",
      "Recall score for \"No\" 0.975609756097561\n"
     ]
    }
   ],
   "source": [
    "# Run this block for model evaluation metrics \n",
    "print(\"Model Entropy - no max depth\")\n",
    "print(\"Accuracy:\", metrics.accuracy_score(y_test,y_pred))\n",
    "print(\"Balanced accuracy:\", metrics.balanced_accuracy_score(y_test,y_pred))\n",
    "print('Precision score for \"Yes\"' , metrics.precision_score(y_test,y_pred, pos_label = \"YES\"))\n",
    "print('Precision score for \"No\"' , metrics.precision_score(y_test,y_pred, pos_label = \"NO\"))\n",
    "print('Recall score for \"Yes\"' , metrics.recall_score(y_test,y_pred, pos_label = \"YES\"))\n",
    "print('Recall score for \"No\"' , metrics.recall_score(y_test,y_pred, pos_label = \"NO\"))"
   ]
  },
  {
   "cell_type": "markdown",
   "metadata": {
    "colab_type": "text",
    "id": "icGOPFQ_DuWj"
   },
   "source": [
    "What can you infer from these results? \n",
    "\n",
    "**Write your conclusions here:**\n",
    "\n",
    "All the performance metrics are very close to 1.0. That suspects model may be overfitted. We need to do adjustment."
   ]
  },
  {
   "cell_type": "markdown",
   "metadata": {
    "colab_type": "text",
    "id": "MHipdpfxDuWk"
   },
   "source": [
    "## Model 2: Gini impurity model - no max_depth\n",
    "\n",
    "Gini impurity, like entropy, is a measure of how well a given feature (and threshold) splits the data into categories.\n",
    "\n",
    "Their equations are similar, but Gini impurity doesn't require logorathmic functions, which can be computationally expensive. "
   ]
  },
  {
   "cell_type": "code",
   "execution_count": 883,
   "metadata": {
    "colab": {},
    "colab_type": "code",
    "id": "FyBljeIpDuWl"
   },
   "outputs": [
    {
     "data": {
      "text/plain": [
       "DecisionTreeClassifier()"
      ]
     },
     "execution_count": 883,
     "metadata": {},
     "output_type": "execute_result"
    }
   ],
   "source": [
    "# Make a variable called gini_model, and assign it exactly what you assigned entr_model with above, but with the\n",
    "# criterion changed to 'gini'\n",
    "gini_model = tree.DecisionTreeClassifier(criterion='gini') \n",
    "\n",
    "# Call fit() on the gini_model as you did with the entr_model\n",
    "gini_model.fit(X_train, y_train) \n",
    "\n",
    "# Call predict() on the gini_model as you did with the entr_model \n",
    "y_pred_gini = gini_model.predict(X_test) \n",
    "\n",
    "# Turn y_pred into a series, as before\n",
    "y_pred_gini = pd.Series(y_pred_gini) \n",
    "\n",
    "# Check out gini_model\n",
    "gini_model "
   ]
  },
  {
   "cell_type": "code",
   "execution_count": 884,
   "metadata": {
    "colab": {},
    "colab_type": "code",
    "id": "d20SMUmgDuWo"
   },
   "outputs": [
    {
     "data": {
      "image/svg+xml": [
       "<?xml version=\"1.0\" encoding=\"UTF-8\" standalone=\"no\"?>\n",
       "<!DOCTYPE svg PUBLIC \"-//W3C//DTD SVG 1.1//EN\"\n",
       " \"http://www.w3.org/Graphics/SVG/1.1/DTD/svg11.dtd\">\n",
       "<!-- Generated by graphviz version 2.50.0 (20211204.2007)\n",
       " -->\n",
       "<!-- Title: Tree Pages: 1 -->\n",
       "<svg width=\"837pt\" height=\"790pt\"\n",
       " viewBox=\"0.00 0.00 837.00 790.00\" xmlns=\"http://www.w3.org/2000/svg\" xmlns:xlink=\"http://www.w3.org/1999/xlink\">\n",
       "<g id=\"graph0\" class=\"graph\" transform=\"scale(1 1) rotate(0) translate(4 786)\">\n",
       "<title>Tree</title>\n",
       "<polygon fill=\"white\" stroke=\"transparent\" points=\"-4,4 -4,-786 833,-786 833,4 -4,4\"/>\n",
       "<!-- 0 -->\n",
       "<g id=\"node1\" class=\"node\">\n",
       "<title>0</title>\n",
       "<path fill=\"#abd6f4\" stroke=\"black\" d=\"M530,-782C530,-782 373,-782 373,-782 367,-782 361,-776 361,-770 361,-770 361,-711 361,-711 361,-705 367,-699 373,-699 373,-699 530,-699 530,-699 536,-699 542,-705 542,-711 542,-711 542,-770 542,-770 542,-776 536,-782 530,-782\"/>\n",
       "<text text-anchor=\"start\" x=\"369\" y=\"-766.8\" font-family=\"Helvetica,sans-Serif\" font-size=\"14.00\">spent_last_month ≤ 100.5</text>\n",
       "<text text-anchor=\"start\" x=\"414\" y=\"-751.8\" font-family=\"Helvetica,sans-Serif\" font-size=\"14.00\">gini = 0.464</text>\n",
       "<text text-anchor=\"start\" x=\"404\" y=\"-736.8\" font-family=\"Helvetica,sans-Serif\" font-size=\"14.00\">samples = 355</text>\n",
       "<text text-anchor=\"start\" x=\"394.5\" y=\"-721.8\" font-family=\"Helvetica,sans-Serif\" font-size=\"14.00\">value = [130, 225]</text>\n",
       "<text text-anchor=\"start\" x=\"412.5\" y=\"-706.8\" font-family=\"Helvetica,sans-Serif\" font-size=\"14.00\">class = YES</text>\n",
       "</g>\n",
       "<!-- 1 -->\n",
       "<g id=\"node2\" class=\"node\">\n",
       "<title>1</title>\n",
       "<path fill=\"#f0b48a\" stroke=\"black\" d=\"M430.5,-663C430.5,-663 330.5,-663 330.5,-663 324.5,-663 318.5,-657 318.5,-651 318.5,-651 318.5,-592 318.5,-592 318.5,-586 324.5,-580 330.5,-580 330.5,-580 430.5,-580 430.5,-580 436.5,-580 442.5,-586 442.5,-592 442.5,-592 442.5,-651 442.5,-651 442.5,-657 436.5,-663 430.5,-663\"/>\n",
       "<text text-anchor=\"start\" x=\"326.5\" y=\"-647.8\" font-family=\"Helvetica,sans-Serif\" font-size=\"14.00\">Distance ≤ 3.754</text>\n",
       "<text text-anchor=\"start\" x=\"343\" y=\"-632.8\" font-family=\"Helvetica,sans-Serif\" font-size=\"14.00\">gini = 0.411</text>\n",
       "<text text-anchor=\"start\" x=\"333\" y=\"-617.8\" font-family=\"Helvetica,sans-Serif\" font-size=\"14.00\">samples = 152</text>\n",
       "<text text-anchor=\"start\" x=\"327.5\" y=\"-602.8\" font-family=\"Helvetica,sans-Serif\" font-size=\"14.00\">value = [108, 44]</text>\n",
       "<text text-anchor=\"start\" x=\"345.5\" y=\"-587.8\" font-family=\"Helvetica,sans-Serif\" font-size=\"14.00\">class = NO</text>\n",
       "</g>\n",
       "<!-- 0&#45;&gt;1 -->\n",
       "<g id=\"edge1\" class=\"edge\">\n",
       "<title>0&#45;&gt;1</title>\n",
       "<path fill=\"none\" stroke=\"black\" d=\"M426.87,-698.91C421.53,-690.1 415.82,-680.7 410.3,-671.61\"/>\n",
       "<polygon fill=\"black\" stroke=\"black\" points=\"413.27,-669.75 405.09,-663.02 407.29,-673.39 413.27,-669.75\"/>\n",
       "<text text-anchor=\"middle\" x=\"399.15\" y=\"-683.6\" font-family=\"Helvetica,sans-Serif\" font-size=\"14.00\">True</text>\n",
       "</g>\n",
       "<!-- 16 -->\n",
       "<g id=\"node17\" class=\"node\">\n",
       "<title>16</title>\n",
       "<path fill=\"#51a9e8\" stroke=\"black\" d=\"M572.5,-663C572.5,-663 472.5,-663 472.5,-663 466.5,-663 460.5,-657 460.5,-651 460.5,-651 460.5,-592 460.5,-592 460.5,-586 466.5,-580 472.5,-580 472.5,-580 572.5,-580 572.5,-580 578.5,-580 584.5,-586 584.5,-592 584.5,-592 584.5,-651 584.5,-651 584.5,-657 578.5,-663 572.5,-663\"/>\n",
       "<text text-anchor=\"start\" x=\"468.5\" y=\"-647.8\" font-family=\"Helvetica,sans-Serif\" font-size=\"14.00\">Distance ≤ 8.047</text>\n",
       "<text text-anchor=\"start\" x=\"485\" y=\"-632.8\" font-family=\"Helvetica,sans-Serif\" font-size=\"14.00\">gini = 0.193</text>\n",
       "<text text-anchor=\"start\" x=\"475\" y=\"-617.8\" font-family=\"Helvetica,sans-Serif\" font-size=\"14.00\">samples = 203</text>\n",
       "<text text-anchor=\"start\" x=\"469.5\" y=\"-602.8\" font-family=\"Helvetica,sans-Serif\" font-size=\"14.00\">value = [22, 181]</text>\n",
       "<text text-anchor=\"start\" x=\"483.5\" y=\"-587.8\" font-family=\"Helvetica,sans-Serif\" font-size=\"14.00\">class = YES</text>\n",
       "</g>\n",
       "<!-- 0&#45;&gt;16 -->\n",
       "<g id=\"edge16\" class=\"edge\">\n",
       "<title>0&#45;&gt;16</title>\n",
       "<path fill=\"none\" stroke=\"black\" d=\"M476.13,-698.91C481.47,-690.1 487.18,-680.7 492.7,-671.61\"/>\n",
       "<polygon fill=\"black\" stroke=\"black\" points=\"495.71,-673.39 497.91,-663.02 489.73,-669.75 495.71,-673.39\"/>\n",
       "<text text-anchor=\"middle\" x=\"503.85\" y=\"-683.6\" font-family=\"Helvetica,sans-Serif\" font-size=\"14.00\">False</text>\n",
       "</g>\n",
       "<!-- 2 -->\n",
       "<g id=\"node3\" class=\"node\">\n",
       "<title>2</title>\n",
       "<path fill=\"#6cb6ec\" stroke=\"black\" d=\"M301,-544C301,-544 152,-544 152,-544 146,-544 140,-538 140,-532 140,-532 140,-473 140,-473 140,-467 146,-461 152,-461 152,-461 301,-461 301,-461 307,-461 313,-467 313,-473 313,-473 313,-532 313,-532 313,-538 307,-544 301,-544\"/>\n",
       "<text text-anchor=\"start\" x=\"148\" y=\"-528.8\" font-family=\"Helvetica,sans-Serif\" font-size=\"14.00\">spent_last_month ≤ 24.5</text>\n",
       "<text text-anchor=\"start\" x=\"189\" y=\"-513.8\" font-family=\"Helvetica,sans-Serif\" font-size=\"14.00\">gini = 0.324</text>\n",
       "<text text-anchor=\"start\" x=\"183\" y=\"-498.8\" font-family=\"Helvetica,sans-Serif\" font-size=\"14.00\">samples = 54</text>\n",
       "<text text-anchor=\"start\" x=\"178\" y=\"-483.8\" font-family=\"Helvetica,sans-Serif\" font-size=\"14.00\">value = [11, 43]</text>\n",
       "<text text-anchor=\"start\" x=\"187.5\" y=\"-468.8\" font-family=\"Helvetica,sans-Serif\" font-size=\"14.00\">class = YES</text>\n",
       "</g>\n",
       "<!-- 1&#45;&gt;2 -->\n",
       "<g id=\"edge2\" class=\"edge\">\n",
       "<title>1&#45;&gt;2</title>\n",
       "<path fill=\"none\" stroke=\"black\" d=\"M327.07,-579.91C314.41,-570.29 300.81,-559.95 287.82,-550.09\"/>\n",
       "<polygon fill=\"black\" stroke=\"black\" points=\"289.92,-547.28 279.84,-544.02 285.68,-552.86 289.92,-547.28\"/>\n",
       "</g>\n",
       "<!-- 11 -->\n",
       "<g id=\"node12\" class=\"node\">\n",
       "<title>11</title>\n",
       "<path fill=\"#e5823b\" stroke=\"black\" d=\"M426,-544C426,-544 343,-544 343,-544 337,-544 331,-538 331,-532 331,-532 331,-473 331,-473 331,-467 337,-461 343,-461 343,-461 426,-461 426,-461 432,-461 438,-467 438,-473 438,-473 438,-532 438,-532 438,-538 432,-544 426,-544\"/>\n",
       "<text text-anchor=\"start\" x=\"339\" y=\"-528.8\" font-family=\"Helvetica,sans-Serif\" font-size=\"14.00\">Distance ≤ 4.0</text>\n",
       "<text text-anchor=\"start\" x=\"351\" y=\"-513.8\" font-family=\"Helvetica,sans-Serif\" font-size=\"14.00\">gini = 0.02</text>\n",
       "<text text-anchor=\"start\" x=\"341\" y=\"-498.8\" font-family=\"Helvetica,sans-Serif\" font-size=\"14.00\">samples = 98</text>\n",
       "<text text-anchor=\"start\" x=\"340\" y=\"-483.8\" font-family=\"Helvetica,sans-Serif\" font-size=\"14.00\">value = [97, 1]</text>\n",
       "<text text-anchor=\"start\" x=\"349.5\" y=\"-468.8\" font-family=\"Helvetica,sans-Serif\" font-size=\"14.00\">class = NO</text>\n",
       "</g>\n",
       "<!-- 1&#45;&gt;11 -->\n",
       "<g id=\"edge11\" class=\"edge\">\n",
       "<title>1&#45;&gt;11</title>\n",
       "<path fill=\"none\" stroke=\"black\" d=\"M381.89,-579.91C382.17,-571.56 382.48,-562.67 382.77,-554.02\"/>\n",
       "<polygon fill=\"black\" stroke=\"black\" points=\"386.27,-554.13 383.11,-544.02 379.27,-553.9 386.27,-554.13\"/>\n",
       "</g>\n",
       "<!-- 3 -->\n",
       "<g id=\"node4\" class=\"node\">\n",
       "<title>3</title>\n",
       "<path fill=\"#e58139\" stroke=\"black\" d=\"M155,-417.5C155,-417.5 82,-417.5 82,-417.5 76,-417.5 70,-411.5 70,-405.5 70,-405.5 70,-361.5 70,-361.5 70,-355.5 76,-349.5 82,-349.5 82,-349.5 155,-349.5 155,-349.5 161,-349.5 167,-355.5 167,-361.5 167,-361.5 167,-405.5 167,-405.5 167,-411.5 161,-417.5 155,-417.5\"/>\n",
       "<text text-anchor=\"start\" x=\"89.5\" y=\"-402.3\" font-family=\"Helvetica,sans-Serif\" font-size=\"14.00\">gini = 0.0</text>\n",
       "<text text-anchor=\"start\" x=\"79\" y=\"-387.3\" font-family=\"Helvetica,sans-Serif\" font-size=\"14.00\">samples = 8</text>\n",
       "<text text-anchor=\"start\" x=\"78\" y=\"-372.3\" font-family=\"Helvetica,sans-Serif\" font-size=\"14.00\">value = [8, 0]</text>\n",
       "<text text-anchor=\"start\" x=\"83.5\" y=\"-357.3\" font-family=\"Helvetica,sans-Serif\" font-size=\"14.00\">class = NO</text>\n",
       "</g>\n",
       "<!-- 2&#45;&gt;3 -->\n",
       "<g id=\"edge3\" class=\"edge\">\n",
       "<title>2&#45;&gt;3</title>\n",
       "<path fill=\"none\" stroke=\"black\" d=\"M189.03,-460.91C178.33,-449.32 166.68,-436.7 155.99,-425.11\"/>\n",
       "<polygon fill=\"black\" stroke=\"black\" points=\"158.47,-422.64 149.12,-417.67 153.33,-427.39 158.47,-422.64\"/>\n",
       "</g>\n",
       "<!-- 4 -->\n",
       "<g id=\"node5\" class=\"node\">\n",
       "<title>4</title>\n",
       "<path fill=\"#47a4e7\" stroke=\"black\" d=\"M278,-425C278,-425 197,-425 197,-425 191,-425 185,-419 185,-413 185,-413 185,-354 185,-354 185,-348 191,-342 197,-342 197,-342 278,-342 278,-342 284,-342 290,-348 290,-354 290,-354 290,-413 290,-413 290,-419 284,-425 278,-425\"/>\n",
       "<text text-anchor=\"start\" x=\"202.5\" y=\"-409.8\" font-family=\"Helvetica,sans-Serif\" font-size=\"14.00\">Age ≤ 57.5</text>\n",
       "<text text-anchor=\"start\" x=\"200\" y=\"-394.8\" font-family=\"Helvetica,sans-Serif\" font-size=\"14.00\">gini = 0.122</text>\n",
       "<text text-anchor=\"start\" x=\"194\" y=\"-379.8\" font-family=\"Helvetica,sans-Serif\" font-size=\"14.00\">samples = 46</text>\n",
       "<text text-anchor=\"start\" x=\"193\" y=\"-364.8\" font-family=\"Helvetica,sans-Serif\" font-size=\"14.00\">value = [3, 43]</text>\n",
       "<text text-anchor=\"start\" x=\"198.5\" y=\"-349.8\" font-family=\"Helvetica,sans-Serif\" font-size=\"14.00\">class = YES</text>\n",
       "</g>\n",
       "<!-- 2&#45;&gt;4 -->\n",
       "<g id=\"edge4\" class=\"edge\">\n",
       "<title>2&#45;&gt;4</title>\n",
       "<path fill=\"none\" stroke=\"black\" d=\"M230.32,-460.91C231.1,-452.56 231.94,-443.67 232.75,-435.02\"/>\n",
       "<polygon fill=\"black\" stroke=\"black\" points=\"236.24,-435.3 233.69,-425.02 229.27,-434.65 236.24,-435.3\"/>\n",
       "</g>\n",
       "<!-- 5 -->\n",
       "<g id=\"node6\" class=\"node\">\n",
       "<title>5</title>\n",
       "<path fill=\"#3e9fe6\" stroke=\"black\" d=\"M161.5,-306C161.5,-306 61.5,-306 61.5,-306 55.5,-306 49.5,-300 49.5,-294 49.5,-294 49.5,-235 49.5,-235 49.5,-229 55.5,-223 61.5,-223 61.5,-223 161.5,-223 161.5,-223 167.5,-223 173.5,-229 173.5,-235 173.5,-235 173.5,-294 173.5,-294 173.5,-300 167.5,-306 161.5,-306\"/>\n",
       "<text text-anchor=\"start\" x=\"57.5\" y=\"-290.8\" font-family=\"Helvetica,sans-Serif\" font-size=\"14.00\">Distance ≤ 3.298</text>\n",
       "<text text-anchor=\"start\" x=\"74\" y=\"-275.8\" font-family=\"Helvetica,sans-Serif\" font-size=\"14.00\">gini = 0.044</text>\n",
       "<text text-anchor=\"start\" x=\"68\" y=\"-260.8\" font-family=\"Helvetica,sans-Serif\" font-size=\"14.00\">samples = 44</text>\n",
       "<text text-anchor=\"start\" x=\"67\" y=\"-245.8\" font-family=\"Helvetica,sans-Serif\" font-size=\"14.00\">value = [1, 43]</text>\n",
       "<text text-anchor=\"start\" x=\"72.5\" y=\"-230.8\" font-family=\"Helvetica,sans-Serif\" font-size=\"14.00\">class = YES</text>\n",
       "</g>\n",
       "<!-- 4&#45;&gt;5 -->\n",
       "<g id=\"edge5\" class=\"edge\">\n",
       "<title>4&#45;&gt;5</title>\n",
       "<path fill=\"none\" stroke=\"black\" d=\"M193.78,-341.91C183.72,-332.56 172.93,-322.54 162.58,-312.93\"/>\n",
       "<polygon fill=\"black\" stroke=\"black\" points=\"164.85,-310.26 155.14,-306.02 160.08,-315.39 164.85,-310.26\"/>\n",
       "</g>\n",
       "<!-- 10 -->\n",
       "<g id=\"node11\" class=\"node\">\n",
       "<title>10</title>\n",
       "<path fill=\"#e58139\" stroke=\"black\" d=\"M277,-298.5C277,-298.5 204,-298.5 204,-298.5 198,-298.5 192,-292.5 192,-286.5 192,-286.5 192,-242.5 192,-242.5 192,-236.5 198,-230.5 204,-230.5 204,-230.5 277,-230.5 277,-230.5 283,-230.5 289,-236.5 289,-242.5 289,-242.5 289,-286.5 289,-286.5 289,-292.5 283,-298.5 277,-298.5\"/>\n",
       "<text text-anchor=\"start\" x=\"211.5\" y=\"-283.3\" font-family=\"Helvetica,sans-Serif\" font-size=\"14.00\">gini = 0.0</text>\n",
       "<text text-anchor=\"start\" x=\"201\" y=\"-268.3\" font-family=\"Helvetica,sans-Serif\" font-size=\"14.00\">samples = 2</text>\n",
       "<text text-anchor=\"start\" x=\"200\" y=\"-253.3\" font-family=\"Helvetica,sans-Serif\" font-size=\"14.00\">value = [2, 0]</text>\n",
       "<text text-anchor=\"start\" x=\"205.5\" y=\"-238.3\" font-family=\"Helvetica,sans-Serif\" font-size=\"14.00\">class = NO</text>\n",
       "</g>\n",
       "<!-- 4&#45;&gt;10 -->\n",
       "<g id=\"edge10\" class=\"edge\">\n",
       "<title>4&#45;&gt;10</title>\n",
       "<path fill=\"none\" stroke=\"black\" d=\"M238.54,-341.91C238.82,-331.2 239.11,-319.62 239.39,-308.78\"/>\n",
       "<polygon fill=\"black\" stroke=\"black\" points=\"242.89,-308.75 239.65,-298.67 235.89,-308.57 242.89,-308.75\"/>\n",
       "</g>\n",
       "<!-- 6 -->\n",
       "<g id=\"node7\" class=\"node\">\n",
       "<title>6</title>\n",
       "<path fill=\"#399de5\" stroke=\"black\" d=\"M93,-179.5C93,-179.5 12,-179.5 12,-179.5 6,-179.5 0,-173.5 0,-167.5 0,-167.5 0,-123.5 0,-123.5 0,-117.5 6,-111.5 12,-111.5 12,-111.5 93,-111.5 93,-111.5 99,-111.5 105,-117.5 105,-123.5 105,-123.5 105,-167.5 105,-167.5 105,-173.5 99,-179.5 93,-179.5\"/>\n",
       "<text text-anchor=\"start\" x=\"23.5\" y=\"-164.3\" font-family=\"Helvetica,sans-Serif\" font-size=\"14.00\">gini = 0.0</text>\n",
       "<text text-anchor=\"start\" x=\"9\" y=\"-149.3\" font-family=\"Helvetica,sans-Serif\" font-size=\"14.00\">samples = 41</text>\n",
       "<text text-anchor=\"start\" x=\"8\" y=\"-134.3\" font-family=\"Helvetica,sans-Serif\" font-size=\"14.00\">value = [0, 41]</text>\n",
       "<text text-anchor=\"start\" x=\"13.5\" y=\"-119.3\" font-family=\"Helvetica,sans-Serif\" font-size=\"14.00\">class = YES</text>\n",
       "</g>\n",
       "<!-- 5&#45;&gt;6 -->\n",
       "<g id=\"edge6\" class=\"edge\">\n",
       "<title>5&#45;&gt;6</title>\n",
       "<path fill=\"none\" stroke=\"black\" d=\"M91.03,-222.91C85.47,-211.87 79.43,-199.9 73.82,-188.77\"/>\n",
       "<polygon fill=\"black\" stroke=\"black\" points=\"76.85,-187.02 69.23,-179.67 70.6,-190.17 76.85,-187.02\"/>\n",
       "</g>\n",
       "<!-- 7 -->\n",
       "<g id=\"node8\" class=\"node\">\n",
       "<title>7</title>\n",
       "<path fill=\"#9ccef2\" stroke=\"black\" d=\"M208,-187C208,-187 135,-187 135,-187 129,-187 123,-181 123,-175 123,-175 123,-116 123,-116 123,-110 129,-104 135,-104 135,-104 208,-104 208,-104 214,-104 220,-110 220,-116 220,-116 220,-175 220,-175 220,-181 214,-187 208,-187\"/>\n",
       "<text text-anchor=\"start\" x=\"136.5\" y=\"-171.8\" font-family=\"Helvetica,sans-Serif\" font-size=\"14.00\">Age ≤ 26.5</text>\n",
       "<text text-anchor=\"start\" x=\"134\" y=\"-156.8\" font-family=\"Helvetica,sans-Serif\" font-size=\"14.00\">gini = 0.444</text>\n",
       "<text text-anchor=\"start\" x=\"132\" y=\"-141.8\" font-family=\"Helvetica,sans-Serif\" font-size=\"14.00\">samples = 3</text>\n",
       "<text text-anchor=\"start\" x=\"131\" y=\"-126.8\" font-family=\"Helvetica,sans-Serif\" font-size=\"14.00\">value = [1, 2]</text>\n",
       "<text text-anchor=\"start\" x=\"132.5\" y=\"-111.8\" font-family=\"Helvetica,sans-Serif\" font-size=\"14.00\">class = YES</text>\n",
       "</g>\n",
       "<!-- 5&#45;&gt;7 -->\n",
       "<g id=\"edge7\" class=\"edge\">\n",
       "<title>5&#45;&gt;7</title>\n",
       "<path fill=\"none\" stroke=\"black\" d=\"M132.32,-222.91C136.74,-214.29 141.45,-205.09 146.03,-196.17\"/>\n",
       "<polygon fill=\"black\" stroke=\"black\" points=\"149.27,-197.52 150.72,-187.02 143.04,-194.32 149.27,-197.52\"/>\n",
       "</g>\n",
       "<!-- 8 -->\n",
       "<g id=\"node9\" class=\"node\">\n",
       "<title>8</title>\n",
       "<path fill=\"#399de5\" stroke=\"black\" d=\"M151,-68C151,-68 78,-68 78,-68 72,-68 66,-62 66,-56 66,-56 66,-12 66,-12 66,-6 72,0 78,0 78,0 151,0 151,0 157,0 163,-6 163,-12 163,-12 163,-56 163,-56 163,-62 157,-68 151,-68\"/>\n",
       "<text text-anchor=\"start\" x=\"85.5\" y=\"-52.8\" font-family=\"Helvetica,sans-Serif\" font-size=\"14.00\">gini = 0.0</text>\n",
       "<text text-anchor=\"start\" x=\"75\" y=\"-37.8\" font-family=\"Helvetica,sans-Serif\" font-size=\"14.00\">samples = 2</text>\n",
       "<text text-anchor=\"start\" x=\"74\" y=\"-22.8\" font-family=\"Helvetica,sans-Serif\" font-size=\"14.00\">value = [0, 2]</text>\n",
       "<text text-anchor=\"start\" x=\"75.5\" y=\"-7.8\" font-family=\"Helvetica,sans-Serif\" font-size=\"14.00\">class = YES</text>\n",
       "</g>\n",
       "<!-- 7&#45;&gt;8 -->\n",
       "<g id=\"edge8\" class=\"edge\">\n",
       "<title>7&#45;&gt;8</title>\n",
       "<path fill=\"none\" stroke=\"black\" d=\"M150.28,-103.73C145.76,-95.06 140.99,-85.9 136.46,-77.18\"/>\n",
       "<polygon fill=\"black\" stroke=\"black\" points=\"139.56,-75.55 131.83,-68.3 133.35,-78.79 139.56,-75.55\"/>\n",
       "</g>\n",
       "<!-- 9 -->\n",
       "<g id=\"node10\" class=\"node\">\n",
       "<title>9</title>\n",
       "<path fill=\"#e58139\" stroke=\"black\" d=\"M266,-68C266,-68 193,-68 193,-68 187,-68 181,-62 181,-56 181,-56 181,-12 181,-12 181,-6 187,0 193,0 193,0 266,0 266,0 272,0 278,-6 278,-12 278,-12 278,-56 278,-56 278,-62 272,-68 266,-68\"/>\n",
       "<text text-anchor=\"start\" x=\"200.5\" y=\"-52.8\" font-family=\"Helvetica,sans-Serif\" font-size=\"14.00\">gini = 0.0</text>\n",
       "<text text-anchor=\"start\" x=\"190\" y=\"-37.8\" font-family=\"Helvetica,sans-Serif\" font-size=\"14.00\">samples = 1</text>\n",
       "<text text-anchor=\"start\" x=\"189\" y=\"-22.8\" font-family=\"Helvetica,sans-Serif\" font-size=\"14.00\">value = [1, 0]</text>\n",
       "<text text-anchor=\"start\" x=\"194.5\" y=\"-7.8\" font-family=\"Helvetica,sans-Serif\" font-size=\"14.00\">class = NO</text>\n",
       "</g>\n",
       "<!-- 7&#45;&gt;9 -->\n",
       "<g id=\"edge9\" class=\"edge\">\n",
       "<title>7&#45;&gt;9</title>\n",
       "<path fill=\"none\" stroke=\"black\" d=\"M193.1,-103.73C197.69,-95.06 202.54,-85.9 207.16,-77.18\"/>\n",
       "<polygon fill=\"black\" stroke=\"black\" points=\"210.27,-78.77 211.86,-68.3 204.09,-75.5 210.27,-78.77\"/>\n",
       "</g>\n",
       "<!-- 12 -->\n",
       "<g id=\"node13\" class=\"node\">\n",
       "<title>12</title>\n",
       "<path fill=\"#f2c09c\" stroke=\"black\" d=\"M416,-425C416,-425 343,-425 343,-425 337,-425 331,-419 331,-413 331,-413 331,-354 331,-354 331,-348 337,-342 343,-342 343,-342 416,-342 416,-342 422,-342 428,-348 428,-354 428,-354 428,-413 428,-413 428,-419 422,-425 416,-425\"/>\n",
       "<text text-anchor=\"start\" x=\"344.5\" y=\"-409.8\" font-family=\"Helvetica,sans-Serif\" font-size=\"14.00\">Age ≤ 37.5</text>\n",
       "<text text-anchor=\"start\" x=\"342\" y=\"-394.8\" font-family=\"Helvetica,sans-Serif\" font-size=\"14.00\">gini = 0.444</text>\n",
       "<text text-anchor=\"start\" x=\"340\" y=\"-379.8\" font-family=\"Helvetica,sans-Serif\" font-size=\"14.00\">samples = 3</text>\n",
       "<text text-anchor=\"start\" x=\"339\" y=\"-364.8\" font-family=\"Helvetica,sans-Serif\" font-size=\"14.00\">value = [2, 1]</text>\n",
       "<text text-anchor=\"start\" x=\"344.5\" y=\"-349.8\" font-family=\"Helvetica,sans-Serif\" font-size=\"14.00\">class = NO</text>\n",
       "</g>\n",
       "<!-- 11&#45;&gt;12 -->\n",
       "<g id=\"edge12\" class=\"edge\">\n",
       "<title>11&#45;&gt;12</title>\n",
       "<path fill=\"none\" stroke=\"black\" d=\"M382.77,-460.91C382.41,-452.56 382.03,-443.67 381.66,-435.02\"/>\n",
       "<polygon fill=\"black\" stroke=\"black\" points=\"385.16,-434.86 381.23,-425.02 378.16,-435.16 385.16,-434.86\"/>\n",
       "</g>\n",
       "<!-- 15 -->\n",
       "<g id=\"node16\" class=\"node\">\n",
       "<title>15</title>\n",
       "<path fill=\"#e58139\" stroke=\"black\" d=\"M539,-417.5C539,-417.5 458,-417.5 458,-417.5 452,-417.5 446,-411.5 446,-405.5 446,-405.5 446,-361.5 446,-361.5 446,-355.5 452,-349.5 458,-349.5 458,-349.5 539,-349.5 539,-349.5 545,-349.5 551,-355.5 551,-361.5 551,-361.5 551,-405.5 551,-405.5 551,-411.5 545,-417.5 539,-417.5\"/>\n",
       "<text text-anchor=\"start\" x=\"469.5\" y=\"-402.3\" font-family=\"Helvetica,sans-Serif\" font-size=\"14.00\">gini = 0.0</text>\n",
       "<text text-anchor=\"start\" x=\"455\" y=\"-387.3\" font-family=\"Helvetica,sans-Serif\" font-size=\"14.00\">samples = 95</text>\n",
       "<text text-anchor=\"start\" x=\"454\" y=\"-372.3\" font-family=\"Helvetica,sans-Serif\" font-size=\"14.00\">value = [95, 0]</text>\n",
       "<text text-anchor=\"start\" x=\"463.5\" y=\"-357.3\" font-family=\"Helvetica,sans-Serif\" font-size=\"14.00\">class = NO</text>\n",
       "</g>\n",
       "<!-- 11&#45;&gt;15 -->\n",
       "<g id=\"edge15\" class=\"edge\">\n",
       "<title>11&#45;&gt;15</title>\n",
       "<path fill=\"none\" stroke=\"black\" d=\"M424.05,-460.91C435.34,-449.32 447.64,-436.7 458.93,-425.11\"/>\n",
       "<polygon fill=\"black\" stroke=\"black\" points=\"461.71,-427.27 466.18,-417.67 456.7,-422.39 461.71,-427.27\"/>\n",
       "</g>\n",
       "<!-- 13 -->\n",
       "<g id=\"node14\" class=\"node\">\n",
       "<title>13</title>\n",
       "<path fill=\"#399de5\" stroke=\"black\" d=\"M413,-298.5C413,-298.5 340,-298.5 340,-298.5 334,-298.5 328,-292.5 328,-286.5 328,-286.5 328,-242.5 328,-242.5 328,-236.5 334,-230.5 340,-230.5 340,-230.5 413,-230.5 413,-230.5 419,-230.5 425,-236.5 425,-242.5 425,-242.5 425,-286.5 425,-286.5 425,-292.5 419,-298.5 413,-298.5\"/>\n",
       "<text text-anchor=\"start\" x=\"347.5\" y=\"-283.3\" font-family=\"Helvetica,sans-Serif\" font-size=\"14.00\">gini = 0.0</text>\n",
       "<text text-anchor=\"start\" x=\"337\" y=\"-268.3\" font-family=\"Helvetica,sans-Serif\" font-size=\"14.00\">samples = 1</text>\n",
       "<text text-anchor=\"start\" x=\"336\" y=\"-253.3\" font-family=\"Helvetica,sans-Serif\" font-size=\"14.00\">value = [0, 1]</text>\n",
       "<text text-anchor=\"start\" x=\"337.5\" y=\"-238.3\" font-family=\"Helvetica,sans-Serif\" font-size=\"14.00\">class = YES</text>\n",
       "</g>\n",
       "<!-- 12&#45;&gt;13 -->\n",
       "<g id=\"edge13\" class=\"edge\">\n",
       "<title>12&#45;&gt;13</title>\n",
       "<path fill=\"none\" stroke=\"black\" d=\"M378.46,-341.91C378.18,-331.2 377.89,-319.62 377.61,-308.78\"/>\n",
       "<polygon fill=\"black\" stroke=\"black\" points=\"381.11,-308.57 377.35,-298.67 374.11,-308.75 381.11,-308.57\"/>\n",
       "</g>\n",
       "<!-- 14 -->\n",
       "<g id=\"node15\" class=\"node\">\n",
       "<title>14</title>\n",
       "<path fill=\"#e58139\" stroke=\"black\" d=\"M528,-298.5C528,-298.5 455,-298.5 455,-298.5 449,-298.5 443,-292.5 443,-286.5 443,-286.5 443,-242.5 443,-242.5 443,-236.5 449,-230.5 455,-230.5 455,-230.5 528,-230.5 528,-230.5 534,-230.5 540,-236.5 540,-242.5 540,-242.5 540,-286.5 540,-286.5 540,-292.5 534,-298.5 528,-298.5\"/>\n",
       "<text text-anchor=\"start\" x=\"462.5\" y=\"-283.3\" font-family=\"Helvetica,sans-Serif\" font-size=\"14.00\">gini = 0.0</text>\n",
       "<text text-anchor=\"start\" x=\"452\" y=\"-268.3\" font-family=\"Helvetica,sans-Serif\" font-size=\"14.00\">samples = 2</text>\n",
       "<text text-anchor=\"start\" x=\"451\" y=\"-253.3\" font-family=\"Helvetica,sans-Serif\" font-size=\"14.00\">value = [2, 0]</text>\n",
       "<text text-anchor=\"start\" x=\"456.5\" y=\"-238.3\" font-family=\"Helvetica,sans-Serif\" font-size=\"14.00\">class = NO</text>\n",
       "</g>\n",
       "<!-- 12&#45;&gt;14 -->\n",
       "<g id=\"edge14\" class=\"edge\">\n",
       "<title>12&#45;&gt;14</title>\n",
       "<path fill=\"none\" stroke=\"black\" d=\"M418.36,-341.91C429.45,-330.32 441.53,-317.7 452.62,-306.11\"/>\n",
       "<polygon fill=\"black\" stroke=\"black\" points=\"455.36,-308.31 459.75,-298.67 450.31,-303.47 455.36,-308.31\"/>\n",
       "</g>\n",
       "<!-- 17 -->\n",
       "<g id=\"node18\" class=\"node\">\n",
       "<title>17</title>\n",
       "<path fill=\"#399de5\" stroke=\"black\" d=\"M564,-536.5C564,-536.5 475,-536.5 475,-536.5 469,-536.5 463,-530.5 463,-524.5 463,-524.5 463,-480.5 463,-480.5 463,-474.5 469,-468.5 475,-468.5 475,-468.5 564,-468.5 564,-468.5 570,-468.5 576,-474.5 576,-480.5 576,-480.5 576,-524.5 576,-524.5 576,-530.5 570,-536.5 564,-536.5\"/>\n",
       "<text text-anchor=\"start\" x=\"490.5\" y=\"-521.3\" font-family=\"Helvetica,sans-Serif\" font-size=\"14.00\">gini = 0.0</text>\n",
       "<text text-anchor=\"start\" x=\"472\" y=\"-506.3\" font-family=\"Helvetica,sans-Serif\" font-size=\"14.00\">samples = 158</text>\n",
       "<text text-anchor=\"start\" x=\"471\" y=\"-491.3\" font-family=\"Helvetica,sans-Serif\" font-size=\"14.00\">value = [0, 158]</text>\n",
       "<text text-anchor=\"start\" x=\"480.5\" y=\"-476.3\" font-family=\"Helvetica,sans-Serif\" font-size=\"14.00\">class = YES</text>\n",
       "</g>\n",
       "<!-- 16&#45;&gt;17 -->\n",
       "<g id=\"edge17\" class=\"edge\">\n",
       "<title>16&#45;&gt;17</title>\n",
       "<path fill=\"none\" stroke=\"black\" d=\"M521.46,-579.91C521.18,-569.2 520.89,-557.62 520.61,-546.78\"/>\n",
       "<polygon fill=\"black\" stroke=\"black\" points=\"524.11,-546.57 520.35,-536.67 517.11,-546.75 524.11,-546.57\"/>\n",
       "</g>\n",
       "<!-- 18 -->\n",
       "<g id=\"node19\" class=\"node\">\n",
       "<title>18</title>\n",
       "<path fill=\"#f6fbfe\" stroke=\"black\" d=\"M763,-544C763,-544 606,-544 606,-544 600,-544 594,-538 594,-532 594,-532 594,-473 594,-473 594,-467 600,-461 606,-461 606,-461 763,-461 763,-461 769,-461 775,-467 775,-473 775,-473 775,-532 775,-532 775,-538 769,-544 763,-544\"/>\n",
       "<text text-anchor=\"start\" x=\"602\" y=\"-528.8\" font-family=\"Helvetica,sans-Serif\" font-size=\"14.00\">spent_last_month ≤ 140.5</text>\n",
       "<text text-anchor=\"start\" x=\"655.5\" y=\"-513.8\" font-family=\"Helvetica,sans-Serif\" font-size=\"14.00\">gini = 0.5</text>\n",
       "<text text-anchor=\"start\" x=\"641\" y=\"-498.8\" font-family=\"Helvetica,sans-Serif\" font-size=\"14.00\">samples = 45</text>\n",
       "<text text-anchor=\"start\" x=\"636\" y=\"-483.8\" font-family=\"Helvetica,sans-Serif\" font-size=\"14.00\">value = [22, 23]</text>\n",
       "<text text-anchor=\"start\" x=\"645.5\" y=\"-468.8\" font-family=\"Helvetica,sans-Serif\" font-size=\"14.00\">class = YES</text>\n",
       "</g>\n",
       "<!-- 16&#45;&gt;18 -->\n",
       "<g id=\"edge18\" class=\"edge\">\n",
       "<title>16&#45;&gt;18</title>\n",
       "<path fill=\"none\" stroke=\"black\" d=\"M578.71,-579.91C592.02,-570.29 606.33,-559.95 619.99,-550.09\"/>\n",
       "<polygon fill=\"black\" stroke=\"black\" points=\"622.34,-552.71 628.39,-544.02 618.24,-547.04 622.34,-552.71\"/>\n",
       "</g>\n",
       "<!-- 19 -->\n",
       "<g id=\"node20\" class=\"node\">\n",
       "<title>19</title>\n",
       "<path fill=\"#e58139\" stroke=\"black\" d=\"M694,-417.5C694,-417.5 613,-417.5 613,-417.5 607,-417.5 601,-411.5 601,-405.5 601,-405.5 601,-361.5 601,-361.5 601,-355.5 607,-349.5 613,-349.5 613,-349.5 694,-349.5 694,-349.5 700,-349.5 706,-355.5 706,-361.5 706,-361.5 706,-405.5 706,-405.5 706,-411.5 700,-417.5 694,-417.5\"/>\n",
       "<text text-anchor=\"start\" x=\"624.5\" y=\"-402.3\" font-family=\"Helvetica,sans-Serif\" font-size=\"14.00\">gini = 0.0</text>\n",
       "<text text-anchor=\"start\" x=\"610\" y=\"-387.3\" font-family=\"Helvetica,sans-Serif\" font-size=\"14.00\">samples = 22</text>\n",
       "<text text-anchor=\"start\" x=\"609\" y=\"-372.3\" font-family=\"Helvetica,sans-Serif\" font-size=\"14.00\">value = [22, 0]</text>\n",
       "<text text-anchor=\"start\" x=\"618.5\" y=\"-357.3\" font-family=\"Helvetica,sans-Serif\" font-size=\"14.00\">class = NO</text>\n",
       "</g>\n",
       "<!-- 18&#45;&gt;19 -->\n",
       "<g id=\"edge19\" class=\"edge\">\n",
       "<title>18&#45;&gt;19</title>\n",
       "<path fill=\"none\" stroke=\"black\" d=\"M673.74,-460.91C670.88,-450.09 667.77,-438.38 664.88,-427.44\"/>\n",
       "<polygon fill=\"black\" stroke=\"black\" points=\"668.23,-426.44 662.29,-417.67 661.47,-428.23 668.23,-426.44\"/>\n",
       "</g>\n",
       "<!-- 20 -->\n",
       "<g id=\"node21\" class=\"node\">\n",
       "<title>20</title>\n",
       "<path fill=\"#399de5\" stroke=\"black\" d=\"M817,-417.5C817,-417.5 736,-417.5 736,-417.5 730,-417.5 724,-411.5 724,-405.5 724,-405.5 724,-361.5 724,-361.5 724,-355.5 730,-349.5 736,-349.5 736,-349.5 817,-349.5 817,-349.5 823,-349.5 829,-355.5 829,-361.5 829,-361.5 829,-405.5 829,-405.5 829,-411.5 823,-417.5 817,-417.5\"/>\n",
       "<text text-anchor=\"start\" x=\"747.5\" y=\"-402.3\" font-family=\"Helvetica,sans-Serif\" font-size=\"14.00\">gini = 0.0</text>\n",
       "<text text-anchor=\"start\" x=\"733\" y=\"-387.3\" font-family=\"Helvetica,sans-Serif\" font-size=\"14.00\">samples = 23</text>\n",
       "<text text-anchor=\"start\" x=\"732\" y=\"-372.3\" font-family=\"Helvetica,sans-Serif\" font-size=\"14.00\">value = [0, 23]</text>\n",
       "<text text-anchor=\"start\" x=\"737.5\" y=\"-357.3\" font-family=\"Helvetica,sans-Serif\" font-size=\"14.00\">class = YES</text>\n",
       "</g>\n",
       "<!-- 18&#45;&gt;20 -->\n",
       "<g id=\"edge20\" class=\"edge\">\n",
       "<title>18&#45;&gt;20</title>\n",
       "<path fill=\"none\" stroke=\"black\" d=\"M716.42,-460.91C725.36,-449.54 735.08,-437.18 744.05,-425.77\"/>\n",
       "<polygon fill=\"black\" stroke=\"black\" points=\"746.99,-427.69 750.42,-417.67 741.49,-423.36 746.99,-427.69\"/>\n",
       "</g>\n",
       "</g>\n",
       "</svg>\n"
      ],
      "text/plain": [
       "<graphviz.sources.Source at 0x29a1777f580>"
      ]
     },
     "execution_count": 884,
     "metadata": {},
     "output_type": "execute_result"
    }
   ],
   "source": [
    "# As before, but make the model name gini_model\n",
    "dot_gini = tree.export_graphviz(gini_model, feature_names=X_train.columns, class_names=gini_model.classes_, \n",
    "                                filled=True, rounded=True, special_characters=True, out_file=None) \n",
    "graph_gini = graphviz.Source(dot_gini) \n",
    "\n",
    "# Alternatively for class_names use gini_model.classes_\n",
    "graph_gini "
   ]
  },
  {
   "cell_type": "code",
   "execution_count": 885,
   "metadata": {
    "colab": {},
    "colab_type": "code",
    "id": "T0RadBy0DuWp"
   },
   "outputs": [
    {
     "name": "stdout",
     "output_type": "stream",
     "text": [
      "Model Gini impurity model\n",
      "Accuracy: 0.9831932773109243\n",
      "Balanced accuracy: 0.9813946216385241\n",
      "Precision score 0.9871794871794872\n",
      "Recall score 0.975609756097561\n"
     ]
    }
   ],
   "source": [
    "# Run this block for model evaluation\n",
    "print(\"Model Gini impurity model\")\n",
    "print(\"Accuracy:\", metrics.accuracy_score(y_test,y_pred_gini))\n",
    "print(\"Balanced accuracy:\", metrics.balanced_accuracy_score(y_test,y_pred_gini))\n",
    "print('Precision score' , metrics.precision_score(y_test,y_pred_gini, pos_label = \"YES\"))\n",
    "print('Recall score' , metrics.recall_score(y_test,y_pred_gini, pos_label = \"NO\"))"
   ]
  },
  {
   "cell_type": "markdown",
   "metadata": {
    "colab_type": "text",
    "id": "LR5LkC_yDuWs"
   },
   "source": [
    "How do the results here compare to the previous model? \n",
    "\n",
    "**Write your judgements here:** \n",
    "\n",
    "This model metrics are slightly lower compared to entropy model, but still scores above 0.97. We may need to adjust parameters like max_depth, min_samples leaf etc."
   ]
  },
  {
   "cell_type": "markdown",
   "metadata": {
    "colab_type": "text",
    "id": "3PctBjTADuWs"
   },
   "source": [
    "## Model 3: Entropy model - max depth 3\n",
    "We're going to try to limit the depth of our decision tree, using entropy first.  \n",
    "\n",
    "As you know, we need to strike a balance with tree depth. \n",
    "\n",
    "Insufficiently deep, and we're not giving the tree the opportunity to spot the right patterns in the training data.\n",
    "\n",
    "Excessively deep, and we're probably going to make a tree that overfits to the training data, at the cost of very high error on the (hitherto unseen) test data. \n",
    "\n",
    "Sophisticated data scientists use methods like random search with cross-validation to systematically find a good depth for their tree. We'll start with picking 3, and see how that goes. "
   ]
  },
  {
   "cell_type": "code",
   "execution_count": 886,
   "metadata": {
    "colab": {},
    "colab_type": "code",
    "id": "cMiPjWClDuWt"
   },
   "outputs": [
    {
     "data": {
      "text/plain": [
       "DecisionTreeClassifier(criterion='entropy', max_depth=3)"
      ]
     },
     "execution_count": 886,
     "metadata": {},
     "output_type": "execute_result"
    }
   ],
   "source": [
    "# Made a model as before, but call it entr_model2, and make the max_depth parameter equal to 3. \n",
    "# Execute the fitting, predicting, and Series operations as before\n",
    "entr_model2 = tree.DecisionTreeClassifier(criterion='entropy', max_depth=3)\n",
    "entr_model2.fit(X_train, y_train)\n",
    "y_pred_entr2 = entr_model2.predict(X_test)\n",
    "y_pred_entr2 = pd.Series(y_pred_entr2)\n",
    "entr_model2"
   ]
  },
  {
   "cell_type": "code",
   "execution_count": 887,
   "metadata": {
    "colab": {},
    "colab_type": "code",
    "id": "IRuw72VMDuWv"
   },
   "outputs": [
    {
     "data": {
      "image/svg+xml": [
       "<?xml version=\"1.0\" encoding=\"UTF-8\" standalone=\"no\"?>\n",
       "<!DOCTYPE svg PUBLIC \"-//W3C//DTD SVG 1.1//EN\"\n",
       " \"http://www.w3.org/Graphics/SVG/1.1/DTD/svg11.dtd\">\n",
       "<!-- Generated by graphviz version 2.50.0 (20211204.2007)\n",
       " -->\n",
       "<!-- Title: Tree Pages: 1 -->\n",
       "<svg width=\"540pt\" height=\"433pt\"\n",
       " viewBox=\"0.00 0.00 540.00 433.00\" xmlns=\"http://www.w3.org/2000/svg\" xmlns:xlink=\"http://www.w3.org/1999/xlink\">\n",
       "<g id=\"graph0\" class=\"graph\" transform=\"scale(1 1) rotate(0) translate(4 429)\">\n",
       "<title>Tree</title>\n",
       "<polygon fill=\"white\" stroke=\"transparent\" points=\"-4,4 -4,-429 536,-429 536,4 -4,4\"/>\n",
       "<!-- 0 -->\n",
       "<g id=\"node1\" class=\"node\">\n",
       "<title>0</title>\n",
       "<path fill=\"#abd6f4\" stroke=\"black\" d=\"M405.5,-425C405.5,-425 248.5,-425 248.5,-425 242.5,-425 236.5,-419 236.5,-413 236.5,-413 236.5,-354 236.5,-354 236.5,-348 242.5,-342 248.5,-342 248.5,-342 405.5,-342 405.5,-342 411.5,-342 417.5,-348 417.5,-354 417.5,-354 417.5,-413 417.5,-413 417.5,-419 411.5,-425 405.5,-425\"/>\n",
       "<text text-anchor=\"start\" x=\"244.5\" y=\"-409.8\" font-family=\"Helvetica,sans-Serif\" font-size=\"14.00\">spent_last_month ≤ 138.0</text>\n",
       "<text text-anchor=\"start\" x=\"277\" y=\"-394.8\" font-family=\"Helvetica,sans-Serif\" font-size=\"14.00\">entropy = 0.948</text>\n",
       "<text text-anchor=\"start\" x=\"279.5\" y=\"-379.8\" font-family=\"Helvetica,sans-Serif\" font-size=\"14.00\">samples = 355</text>\n",
       "<text text-anchor=\"start\" x=\"270\" y=\"-364.8\" font-family=\"Helvetica,sans-Serif\" font-size=\"14.00\">value = [130, 225]</text>\n",
       "<text text-anchor=\"start\" x=\"288\" y=\"-349.8\" font-family=\"Helvetica,sans-Serif\" font-size=\"14.00\">class = YES</text>\n",
       "</g>\n",
       "<!-- 1 -->\n",
       "<g id=\"node2\" class=\"node\">\n",
       "<title>1</title>\n",
       "<path fill=\"#fae6d7\" stroke=\"black\" d=\"M310,-306C310,-306 204,-306 204,-306 198,-306 192,-300 192,-294 192,-294 192,-235 192,-235 192,-229 198,-223 204,-223 204,-223 310,-223 310,-223 316,-223 322,-229 322,-235 322,-235 322,-294 322,-294 322,-300 316,-306 310,-306\"/>\n",
       "<text text-anchor=\"start\" x=\"203\" y=\"-290.8\" font-family=\"Helvetica,sans-Serif\" font-size=\"14.00\">Distance ≤ 3.524</text>\n",
       "<text text-anchor=\"start\" x=\"207\" y=\"-275.8\" font-family=\"Helvetica,sans-Serif\" font-size=\"14.00\">entropy = 0.991</text>\n",
       "<text text-anchor=\"start\" x=\"209.5\" y=\"-260.8\" font-family=\"Helvetica,sans-Serif\" font-size=\"14.00\">samples = 234</text>\n",
       "<text text-anchor=\"start\" x=\"200\" y=\"-245.8\" font-family=\"Helvetica,sans-Serif\" font-size=\"14.00\">value = [130, 104]</text>\n",
       "<text text-anchor=\"start\" x=\"222\" y=\"-230.8\" font-family=\"Helvetica,sans-Serif\" font-size=\"14.00\">class = NO</text>\n",
       "</g>\n",
       "<!-- 0&#45;&gt;1 -->\n",
       "<g id=\"edge1\" class=\"edge\">\n",
       "<title>0&#45;&gt;1</title>\n",
       "<path fill=\"none\" stroke=\"black\" d=\"M302.71,-341.91C297.45,-333.1 291.82,-323.7 286.38,-314.61\"/>\n",
       "<polygon fill=\"black\" stroke=\"black\" points=\"289.38,-312.81 281.24,-306.02 283.37,-316.4 289.38,-312.81\"/>\n",
       "<text text-anchor=\"middle\" x=\"275.15\" y=\"-326.57\" font-family=\"Helvetica,sans-Serif\" font-size=\"14.00\">True</text>\n",
       "</g>\n",
       "<!-- 8 -->\n",
       "<g id=\"node9\" class=\"node\">\n",
       "<title>8</title>\n",
       "<path fill=\"#399de5\" stroke=\"black\" d=\"M441.5,-298.5C441.5,-298.5 352.5,-298.5 352.5,-298.5 346.5,-298.5 340.5,-292.5 340.5,-286.5 340.5,-286.5 340.5,-242.5 340.5,-242.5 340.5,-236.5 346.5,-230.5 352.5,-230.5 352.5,-230.5 441.5,-230.5 441.5,-230.5 447.5,-230.5 453.5,-236.5 453.5,-242.5 453.5,-242.5 453.5,-286.5 453.5,-286.5 453.5,-292.5 447.5,-298.5 441.5,-298.5\"/>\n",
       "<text text-anchor=\"start\" x=\"355\" y=\"-283.3\" font-family=\"Helvetica,sans-Serif\" font-size=\"14.00\">entropy = 0.0</text>\n",
       "<text text-anchor=\"start\" x=\"349.5\" y=\"-268.3\" font-family=\"Helvetica,sans-Serif\" font-size=\"14.00\">samples = 121</text>\n",
       "<text text-anchor=\"start\" x=\"348.5\" y=\"-253.3\" font-family=\"Helvetica,sans-Serif\" font-size=\"14.00\">value = [0, 121]</text>\n",
       "<text text-anchor=\"start\" x=\"358\" y=\"-238.3\" font-family=\"Helvetica,sans-Serif\" font-size=\"14.00\">class = YES</text>\n",
       "</g>\n",
       "<!-- 0&#45;&gt;8 -->\n",
       "<g id=\"edge8\" class=\"edge\">\n",
       "<title>0&#45;&gt;8</title>\n",
       "<path fill=\"none\" stroke=\"black\" d=\"M351.29,-341.91C357.95,-330.76 365.2,-318.66 371.91,-307.44\"/>\n",
       "<polygon fill=\"black\" stroke=\"black\" points=\"375.03,-309.05 377.16,-298.67 369.02,-305.45 375.03,-309.05\"/>\n",
       "<text text-anchor=\"middle\" x=\"383.25\" y=\"-319.21\" font-family=\"Helvetica,sans-Serif\" font-size=\"14.00\">False</text>\n",
       "</g>\n",
       "<!-- 2 -->\n",
       "<g id=\"node3\" class=\"node\">\n",
       "<title>2</title>\n",
       "<path fill=\"#52aae8\" stroke=\"black\" d=\"M234.5,-187C234.5,-187 85.5,-187 85.5,-187 79.5,-187 73.5,-181 73.5,-175 73.5,-175 73.5,-116 73.5,-116 73.5,-110 79.5,-104 85.5,-104 85.5,-104 234.5,-104 234.5,-104 240.5,-104 246.5,-110 246.5,-116 246.5,-116 246.5,-175 246.5,-175 246.5,-181 240.5,-187 234.5,-187\"/>\n",
       "<text text-anchor=\"start\" x=\"81.5\" y=\"-171.8\" font-family=\"Helvetica,sans-Serif\" font-size=\"14.00\">spent_last_month ≤ 24.5</text>\n",
       "<text text-anchor=\"start\" x=\"110\" y=\"-156.8\" font-family=\"Helvetica,sans-Serif\" font-size=\"14.00\">entropy = 0.512</text>\n",
       "<text text-anchor=\"start\" x=\"116.5\" y=\"-141.8\" font-family=\"Helvetica,sans-Serif\" font-size=\"14.00\">samples = 79</text>\n",
       "<text text-anchor=\"start\" x=\"115.5\" y=\"-126.8\" font-family=\"Helvetica,sans-Serif\" font-size=\"14.00\">value = [9, 70]</text>\n",
       "<text text-anchor=\"start\" x=\"121\" y=\"-111.8\" font-family=\"Helvetica,sans-Serif\" font-size=\"14.00\">class = YES</text>\n",
       "</g>\n",
       "<!-- 1&#45;&gt;2 -->\n",
       "<g id=\"edge2\" class=\"edge\">\n",
       "<title>1&#45;&gt;2</title>\n",
       "<path fill=\"none\" stroke=\"black\" d=\"M223.35,-222.91C215.82,-213.83 207.77,-204.12 200.02,-194.77\"/>\n",
       "<polygon fill=\"black\" stroke=\"black\" points=\"202.67,-192.49 193.59,-187.02 197.28,-196.95 202.67,-192.49\"/>\n",
       "</g>\n",
       "<!-- 5 -->\n",
       "<g id=\"node6\" class=\"node\">\n",
       "<title>5</title>\n",
       "<path fill=\"#eca471\" stroke=\"black\" d=\"M433.5,-187C433.5,-187 276.5,-187 276.5,-187 270.5,-187 264.5,-181 264.5,-175 264.5,-175 264.5,-116 264.5,-116 264.5,-110 270.5,-104 276.5,-104 276.5,-104 433.5,-104 433.5,-104 439.5,-104 445.5,-110 445.5,-116 445.5,-116 445.5,-175 445.5,-175 445.5,-181 439.5,-187 433.5,-187\"/>\n",
       "<text text-anchor=\"start\" x=\"272.5\" y=\"-171.8\" font-family=\"Helvetica,sans-Serif\" font-size=\"14.00\">spent_last_month ≤ 101.0</text>\n",
       "<text text-anchor=\"start\" x=\"305\" y=\"-156.8\" font-family=\"Helvetica,sans-Serif\" font-size=\"14.00\">entropy = 0.759</text>\n",
       "<text text-anchor=\"start\" x=\"307.5\" y=\"-141.8\" font-family=\"Helvetica,sans-Serif\" font-size=\"14.00\">samples = 155</text>\n",
       "<text text-anchor=\"start\" x=\"302\" y=\"-126.8\" font-family=\"Helvetica,sans-Serif\" font-size=\"14.00\">value = [121, 34]</text>\n",
       "<text text-anchor=\"start\" x=\"320\" y=\"-111.8\" font-family=\"Helvetica,sans-Serif\" font-size=\"14.00\">class = NO</text>\n",
       "</g>\n",
       "<!-- 1&#45;&gt;5 -->\n",
       "<g id=\"edge5\" class=\"edge\">\n",
       "<title>1&#45;&gt;5</title>\n",
       "<path fill=\"none\" stroke=\"black\" d=\"M291,-222.91C298.6,-213.83 306.74,-204.12 314.57,-194.77\"/>\n",
       "<polygon fill=\"black\" stroke=\"black\" points=\"317.32,-196.93 321.06,-187.02 311.96,-192.44 317.32,-196.93\"/>\n",
       "</g>\n",
       "<!-- 3 -->\n",
       "<g id=\"node4\" class=\"node\">\n",
       "<title>3</title>\n",
       "<path fill=\"#e58139\" stroke=\"black\" d=\"M88,-68C88,-68 12,-68 12,-68 6,-68 0,-62 0,-56 0,-56 0,-12 0,-12 0,-6 6,0 12,0 12,0 88,0 88,0 94,0 100,-6 100,-12 100,-12 100,-56 100,-56 100,-62 94,-68 88,-68\"/>\n",
       "<text text-anchor=\"start\" x=\"8\" y=\"-52.8\" font-family=\"Helvetica,sans-Serif\" font-size=\"14.00\">entropy = 0.0</text>\n",
       "<text text-anchor=\"start\" x=\"10.5\" y=\"-37.8\" font-family=\"Helvetica,sans-Serif\" font-size=\"14.00\">samples = 8</text>\n",
       "<text text-anchor=\"start\" x=\"9.5\" y=\"-22.8\" font-family=\"Helvetica,sans-Serif\" font-size=\"14.00\">value = [8, 0]</text>\n",
       "<text text-anchor=\"start\" x=\"15\" y=\"-7.8\" font-family=\"Helvetica,sans-Serif\" font-size=\"14.00\">class = NO</text>\n",
       "</g>\n",
       "<!-- 2&#45;&gt;3 -->\n",
       "<g id=\"edge3\" class=\"edge\">\n",
       "<title>2&#45;&gt;3</title>\n",
       "<path fill=\"none\" stroke=\"black\" d=\"M119.04,-103.73C109.79,-94.51 99.96,-84.74 90.72,-75.53\"/>\n",
       "<polygon fill=\"black\" stroke=\"black\" points=\"93.01,-72.87 83.45,-68.3 88.07,-77.84 93.01,-72.87\"/>\n",
       "</g>\n",
       "<!-- 4 -->\n",
       "<g id=\"node5\" class=\"node\">\n",
       "<title>4</title>\n",
       "<path fill=\"#3c9ee5\" stroke=\"black\" d=\"M222,-68C222,-68 130,-68 130,-68 124,-68 118,-62 118,-56 118,-56 118,-12 118,-12 118,-6 124,0 130,0 130,0 222,0 222,0 228,0 234,-6 234,-12 234,-12 234,-56 234,-56 234,-62 228,-68 222,-68\"/>\n",
       "<text text-anchor=\"start\" x=\"126\" y=\"-52.8\" font-family=\"Helvetica,sans-Serif\" font-size=\"14.00\">entropy = 0.107</text>\n",
       "<text text-anchor=\"start\" x=\"132.5\" y=\"-37.8\" font-family=\"Helvetica,sans-Serif\" font-size=\"14.00\">samples = 71</text>\n",
       "<text text-anchor=\"start\" x=\"131.5\" y=\"-22.8\" font-family=\"Helvetica,sans-Serif\" font-size=\"14.00\">value = [1, 70]</text>\n",
       "<text text-anchor=\"start\" x=\"137\" y=\"-7.8\" font-family=\"Helvetica,sans-Serif\" font-size=\"14.00\">class = YES</text>\n",
       "</g>\n",
       "<!-- 2&#45;&gt;4 -->\n",
       "<g id=\"edge4\" class=\"edge\">\n",
       "<title>2&#45;&gt;4</title>\n",
       "<path fill=\"none\" stroke=\"black\" d=\"M165.96,-103.73C167.17,-95.43 168.45,-86.67 169.68,-78.28\"/>\n",
       "<polygon fill=\"black\" stroke=\"black\" points=\"173.15,-78.7 171.13,-68.3 166.23,-77.69 173.15,-78.7\"/>\n",
       "</g>\n",
       "<!-- 6 -->\n",
       "<g id=\"node7\" class=\"node\">\n",
       "<title>6</title>\n",
       "<path fill=\"#e6853f\" stroke=\"black\" d=\"M386,-68C386,-68 294,-68 294,-68 288,-68 282,-62 282,-56 282,-56 282,-12 282,-12 282,-6 288,0 294,0 294,0 386,0 386,0 392,0 398,-6 398,-12 398,-12 398,-56 398,-56 398,-62 392,-68 386,-68\"/>\n",
       "<text text-anchor=\"start\" x=\"290\" y=\"-52.8\" font-family=\"Helvetica,sans-Serif\" font-size=\"14.00\">entropy = 0.191</text>\n",
       "<text text-anchor=\"start\" x=\"292.5\" y=\"-37.8\" font-family=\"Helvetica,sans-Serif\" font-size=\"14.00\">samples = 102</text>\n",
       "<text text-anchor=\"start\" x=\"295.5\" y=\"-22.8\" font-family=\"Helvetica,sans-Serif\" font-size=\"14.00\">value = [99, 3]</text>\n",
       "<text text-anchor=\"start\" x=\"305\" y=\"-7.8\" font-family=\"Helvetica,sans-Serif\" font-size=\"14.00\">class = NO</text>\n",
       "</g>\n",
       "<!-- 5&#45;&gt;6 -->\n",
       "<g id=\"edge6\" class=\"edge\">\n",
       "<title>5&#45;&gt;6</title>\n",
       "<path fill=\"none\" stroke=\"black\" d=\"M349.41,-103.73C348.28,-95.43 347.08,-86.67 345.93,-78.28\"/>\n",
       "<polygon fill=\"black\" stroke=\"black\" points=\"349.39,-77.73 344.56,-68.3 342.45,-78.68 349.39,-77.73\"/>\n",
       "</g>\n",
       "<!-- 7 -->\n",
       "<g id=\"node8\" class=\"node\">\n",
       "<title>7</title>\n",
       "<path fill=\"#c6e3f7\" stroke=\"black\" d=\"M520,-68C520,-68 428,-68 428,-68 422,-68 416,-62 416,-56 416,-56 416,-12 416,-12 416,-6 422,0 428,0 428,0 520,0 520,0 526,0 532,-6 532,-12 532,-12 532,-56 532,-56 532,-62 526,-68 520,-68\"/>\n",
       "<text text-anchor=\"start\" x=\"424\" y=\"-52.8\" font-family=\"Helvetica,sans-Serif\" font-size=\"14.00\">entropy = 0.979</text>\n",
       "<text text-anchor=\"start\" x=\"430.5\" y=\"-37.8\" font-family=\"Helvetica,sans-Serif\" font-size=\"14.00\">samples = 53</text>\n",
       "<text text-anchor=\"start\" x=\"425.5\" y=\"-22.8\" font-family=\"Helvetica,sans-Serif\" font-size=\"14.00\">value = [22, 31]</text>\n",
       "<text text-anchor=\"start\" x=\"435\" y=\"-7.8\" font-family=\"Helvetica,sans-Serif\" font-size=\"14.00\">class = YES</text>\n",
       "</g>\n",
       "<!-- 5&#45;&gt;7 -->\n",
       "<g id=\"edge7\" class=\"edge\">\n",
       "<title>5&#45;&gt;7</title>\n",
       "<path fill=\"none\" stroke=\"black\" d=\"M399.31,-103.73C409.42,-94.42 420.16,-84.54 430.25,-75.26\"/>\n",
       "<polygon fill=\"black\" stroke=\"black\" points=\"432.82,-77.65 437.81,-68.3 428.08,-72.5 432.82,-77.65\"/>\n",
       "</g>\n",
       "</g>\n",
       "</svg>\n"
      ],
      "text/plain": [
       "<graphviz.sources.Source at 0x29a1774bfd0>"
      ]
     },
     "execution_count": 887,
     "metadata": {},
     "output_type": "execute_result"
    }
   ],
   "source": [
    "# As before, we need to visualize the tree to grasp its nature\n",
    "dot_entr2 = tree.export_graphviz(entr_model2, feature_names=X_train.columns, class_names=entr_model2.classes_, \n",
    "                                filled=True, rounded=True, special_characters=True, out_file=None) \n",
    "\n",
    "# Alternatively for class_names use entr_model2.classes_\n",
    "graph_entr2 = graphviz.Source(dot_entr2)\n",
    "graph_entr2"
   ]
  },
  {
   "cell_type": "code",
   "execution_count": 888,
   "metadata": {
    "colab": {},
    "colab_type": "code",
    "id": "29f4vmmMDuWy"
   },
   "outputs": [
    {
     "name": "stdout",
     "output_type": "stream",
     "text": [
      "Model Entropy model max depth 3\n",
      "Accuracy: 0.907563025210084\n",
      "Balanced accuracy: 0.8658536585365854\n",
      "Precision score for \"Yes\" 0.8764044943820225\n",
      "Recall score for \"No\" 0.7317073170731707\n"
     ]
    }
   ],
   "source": [
    "# Run this block for model evaluation \n",
    "print(\"Model Entropy model max depth 3\")\n",
    "print(\"Accuracy:\", metrics.accuracy_score(y_test,y_pred_entr2))\n",
    "print(\"Balanced accuracy:\", metrics.balanced_accuracy_score(y_test,y_pred_entr2))\n",
    "print('Precision score for \"Yes\"' , metrics.precision_score(y_test,y_pred_entr2, pos_label = \"YES\"))\n",
    "print('Recall score for \"No\"' , metrics.recall_score(y_test,y_pred_entr2, pos_label = \"NO\"))"
   ]
  },
  {
   "cell_type": "markdown",
   "metadata": {
    "colab_type": "text",
    "id": "AG7S2YgUDuW4"
   },
   "source": [
    "So our accuracy decreased, but is this certainly an inferior tree to the max depth original tree we did with Model 1? \n",
    "\n",
    "**Write your conclusions here:** \n",
    "\n",
    "Performance metrics are significantly dropped particularly precision, recall scores. But at the same time, tree depth is highly pruned that makes this model hard to accept the metrics. We may need to try again."
   ]
  },
  {
   "cell_type": "markdown",
   "metadata": {
    "colab_type": "text",
    "id": "FZTl4W3wDuW4"
   },
   "source": [
    "## Model 4: Gini impurity  model - max depth 3\n",
    "We're now going to try the same with the Gini impurity model. "
   ]
  },
  {
   "cell_type": "code",
   "execution_count": 889,
   "metadata": {
    "colab": {},
    "colab_type": "code",
    "id": "FJK1bkG3DuW5"
   },
   "outputs": [
    {
     "data": {
      "text/plain": [
       "DecisionTreeClassifier(max_depth=3)"
      ]
     },
     "execution_count": 889,
     "metadata": {},
     "output_type": "execute_result"
    }
   ],
   "source": [
    "# As before, make a variable, but call it gini_model2, and ensure the max_depth parameter is set to 3\n",
    "gini_model2 = tree.DecisionTreeClassifier(criterion='gini', max_depth=3)\n",
    "\n",
    "# Do the fit, predict, and series transformations as before. \n",
    "gini_model2.fit(X_train, y_train)\n",
    "y_pred_gini2 = gini_model2.predict(X_test)\n",
    "y_pred_gini2 = pd.Series(y_pred_gini2)\n",
    "gini_model2"
   ]
  },
  {
   "cell_type": "code",
   "execution_count": 890,
   "metadata": {
    "colab": {},
    "colab_type": "code",
    "id": "_UIWhKZBDuW7"
   },
   "outputs": [
    {
     "data": {
      "image/svg+xml": [
       "<?xml version=\"1.0\" encoding=\"UTF-8\" standalone=\"no\"?>\n",
       "<!DOCTYPE svg PUBLIC \"-//W3C//DTD SVG 1.1//EN\"\n",
       " \"http://www.w3.org/Graphics/SVG/1.1/DTD/svg11.dtd\">\n",
       "<!-- Generated by graphviz version 2.50.0 (20211204.2007)\n",
       " -->\n",
       "<!-- Title: Tree Pages: 1 -->\n",
       "<svg width=\"765pt\" height=\"433pt\"\n",
       " viewBox=\"0.00 0.00 765.00 433.00\" xmlns=\"http://www.w3.org/2000/svg\" xmlns:xlink=\"http://www.w3.org/1999/xlink\">\n",
       "<g id=\"graph0\" class=\"graph\" transform=\"scale(1 1) rotate(0) translate(4 429)\">\n",
       "<title>Tree</title>\n",
       "<polygon fill=\"white\" stroke=\"transparent\" points=\"-4,4 -4,-429 761,-429 761,4 -4,4\"/>\n",
       "<!-- 0 -->\n",
       "<g id=\"node1\" class=\"node\">\n",
       "<title>0</title>\n",
       "<path fill=\"#abd6f4\" stroke=\"black\" d=\"M461,-425C461,-425 304,-425 304,-425 298,-425 292,-419 292,-413 292,-413 292,-354 292,-354 292,-348 298,-342 304,-342 304,-342 461,-342 461,-342 467,-342 473,-348 473,-354 473,-354 473,-413 473,-413 473,-419 467,-425 461,-425\"/>\n",
       "<text text-anchor=\"start\" x=\"300\" y=\"-409.8\" font-family=\"Helvetica,sans-Serif\" font-size=\"14.00\">spent_last_month ≤ 100.5</text>\n",
       "<text text-anchor=\"start\" x=\"345\" y=\"-394.8\" font-family=\"Helvetica,sans-Serif\" font-size=\"14.00\">gini = 0.464</text>\n",
       "<text text-anchor=\"start\" x=\"335\" y=\"-379.8\" font-family=\"Helvetica,sans-Serif\" font-size=\"14.00\">samples = 355</text>\n",
       "<text text-anchor=\"start\" x=\"325.5\" y=\"-364.8\" font-family=\"Helvetica,sans-Serif\" font-size=\"14.00\">value = [130, 225]</text>\n",
       "<text text-anchor=\"start\" x=\"343.5\" y=\"-349.8\" font-family=\"Helvetica,sans-Serif\" font-size=\"14.00\">class = YES</text>\n",
       "</g>\n",
       "<!-- 1 -->\n",
       "<g id=\"node2\" class=\"node\">\n",
       "<title>1</title>\n",
       "<path fill=\"#f0b48a\" stroke=\"black\" d=\"M361.5,-306C361.5,-306 261.5,-306 261.5,-306 255.5,-306 249.5,-300 249.5,-294 249.5,-294 249.5,-235 249.5,-235 249.5,-229 255.5,-223 261.5,-223 261.5,-223 361.5,-223 361.5,-223 367.5,-223 373.5,-229 373.5,-235 373.5,-235 373.5,-294 373.5,-294 373.5,-300 367.5,-306 361.5,-306\"/>\n",
       "<text text-anchor=\"start\" x=\"257.5\" y=\"-290.8\" font-family=\"Helvetica,sans-Serif\" font-size=\"14.00\">Distance ≤ 3.754</text>\n",
       "<text text-anchor=\"start\" x=\"274\" y=\"-275.8\" font-family=\"Helvetica,sans-Serif\" font-size=\"14.00\">gini = 0.411</text>\n",
       "<text text-anchor=\"start\" x=\"264\" y=\"-260.8\" font-family=\"Helvetica,sans-Serif\" font-size=\"14.00\">samples = 152</text>\n",
       "<text text-anchor=\"start\" x=\"258.5\" y=\"-245.8\" font-family=\"Helvetica,sans-Serif\" font-size=\"14.00\">value = [108, 44]</text>\n",
       "<text text-anchor=\"start\" x=\"276.5\" y=\"-230.8\" font-family=\"Helvetica,sans-Serif\" font-size=\"14.00\">class = NO</text>\n",
       "</g>\n",
       "<!-- 0&#45;&gt;1 -->\n",
       "<g id=\"edge1\" class=\"edge\">\n",
       "<title>0&#45;&gt;1</title>\n",
       "<path fill=\"none\" stroke=\"black\" d=\"M357.87,-341.91C352.53,-333.1 346.82,-323.7 341.3,-314.61\"/>\n",
       "<polygon fill=\"black\" stroke=\"black\" points=\"344.27,-312.75 336.09,-306.02 338.29,-316.39 344.27,-312.75\"/>\n",
       "<text text-anchor=\"middle\" x=\"330.15\" y=\"-326.6\" font-family=\"Helvetica,sans-Serif\" font-size=\"14.00\">True</text>\n",
       "</g>\n",
       "<!-- 8 -->\n",
       "<g id=\"node9\" class=\"node\">\n",
       "<title>8</title>\n",
       "<path fill=\"#51a9e8\" stroke=\"black\" d=\"M503.5,-306C503.5,-306 403.5,-306 403.5,-306 397.5,-306 391.5,-300 391.5,-294 391.5,-294 391.5,-235 391.5,-235 391.5,-229 397.5,-223 403.5,-223 403.5,-223 503.5,-223 503.5,-223 509.5,-223 515.5,-229 515.5,-235 515.5,-235 515.5,-294 515.5,-294 515.5,-300 509.5,-306 503.5,-306\"/>\n",
       "<text text-anchor=\"start\" x=\"399.5\" y=\"-290.8\" font-family=\"Helvetica,sans-Serif\" font-size=\"14.00\">Distance ≤ 8.047</text>\n",
       "<text text-anchor=\"start\" x=\"416\" y=\"-275.8\" font-family=\"Helvetica,sans-Serif\" font-size=\"14.00\">gini = 0.193</text>\n",
       "<text text-anchor=\"start\" x=\"406\" y=\"-260.8\" font-family=\"Helvetica,sans-Serif\" font-size=\"14.00\">samples = 203</text>\n",
       "<text text-anchor=\"start\" x=\"400.5\" y=\"-245.8\" font-family=\"Helvetica,sans-Serif\" font-size=\"14.00\">value = [22, 181]</text>\n",
       "<text text-anchor=\"start\" x=\"414.5\" y=\"-230.8\" font-family=\"Helvetica,sans-Serif\" font-size=\"14.00\">class = YES</text>\n",
       "</g>\n",
       "<!-- 0&#45;&gt;8 -->\n",
       "<g id=\"edge8\" class=\"edge\">\n",
       "<title>0&#45;&gt;8</title>\n",
       "<path fill=\"none\" stroke=\"black\" d=\"M407.13,-341.91C412.47,-333.1 418.18,-323.7 423.7,-314.61\"/>\n",
       "<polygon fill=\"black\" stroke=\"black\" points=\"426.71,-316.39 428.91,-306.02 420.73,-312.75 426.71,-316.39\"/>\n",
       "<text text-anchor=\"middle\" x=\"434.85\" y=\"-326.6\" font-family=\"Helvetica,sans-Serif\" font-size=\"14.00\">False</text>\n",
       "</g>\n",
       "<!-- 2 -->\n",
       "<g id=\"node3\" class=\"node\">\n",
       "<title>2</title>\n",
       "<path fill=\"#6cb6ec\" stroke=\"black\" d=\"M232,-187C232,-187 83,-187 83,-187 77,-187 71,-181 71,-175 71,-175 71,-116 71,-116 71,-110 77,-104 83,-104 83,-104 232,-104 232,-104 238,-104 244,-110 244,-116 244,-116 244,-175 244,-175 244,-181 238,-187 232,-187\"/>\n",
       "<text text-anchor=\"start\" x=\"79\" y=\"-171.8\" font-family=\"Helvetica,sans-Serif\" font-size=\"14.00\">spent_last_month ≤ 24.5</text>\n",
       "<text text-anchor=\"start\" x=\"120\" y=\"-156.8\" font-family=\"Helvetica,sans-Serif\" font-size=\"14.00\">gini = 0.324</text>\n",
       "<text text-anchor=\"start\" x=\"114\" y=\"-141.8\" font-family=\"Helvetica,sans-Serif\" font-size=\"14.00\">samples = 54</text>\n",
       "<text text-anchor=\"start\" x=\"109\" y=\"-126.8\" font-family=\"Helvetica,sans-Serif\" font-size=\"14.00\">value = [11, 43]</text>\n",
       "<text text-anchor=\"start\" x=\"118.5\" y=\"-111.8\" font-family=\"Helvetica,sans-Serif\" font-size=\"14.00\">class = YES</text>\n",
       "</g>\n",
       "<!-- 1&#45;&gt;2 -->\n",
       "<g id=\"edge2\" class=\"edge\">\n",
       "<title>1&#45;&gt;2</title>\n",
       "<path fill=\"none\" stroke=\"black\" d=\"M258.07,-222.91C245.41,-213.29 231.81,-202.95 218.82,-193.09\"/>\n",
       "<polygon fill=\"black\" stroke=\"black\" points=\"220.92,-190.28 210.84,-187.02 216.68,-195.86 220.92,-190.28\"/>\n",
       "</g>\n",
       "<!-- 5 -->\n",
       "<g id=\"node6\" class=\"node\">\n",
       "<title>5</title>\n",
       "<path fill=\"#e5823b\" stroke=\"black\" d=\"M357,-187C357,-187 274,-187 274,-187 268,-187 262,-181 262,-175 262,-175 262,-116 262,-116 262,-110 268,-104 274,-104 274,-104 357,-104 357,-104 363,-104 369,-110 369,-116 369,-116 369,-175 369,-175 369,-181 363,-187 357,-187\"/>\n",
       "<text text-anchor=\"start\" x=\"270\" y=\"-171.8\" font-family=\"Helvetica,sans-Serif\" font-size=\"14.00\">Distance ≤ 4.0</text>\n",
       "<text text-anchor=\"start\" x=\"282\" y=\"-156.8\" font-family=\"Helvetica,sans-Serif\" font-size=\"14.00\">gini = 0.02</text>\n",
       "<text text-anchor=\"start\" x=\"272\" y=\"-141.8\" font-family=\"Helvetica,sans-Serif\" font-size=\"14.00\">samples = 98</text>\n",
       "<text text-anchor=\"start\" x=\"271\" y=\"-126.8\" font-family=\"Helvetica,sans-Serif\" font-size=\"14.00\">value = [97, 1]</text>\n",
       "<text text-anchor=\"start\" x=\"280.5\" y=\"-111.8\" font-family=\"Helvetica,sans-Serif\" font-size=\"14.00\">class = NO</text>\n",
       "</g>\n",
       "<!-- 1&#45;&gt;5 -->\n",
       "<g id=\"edge5\" class=\"edge\">\n",
       "<title>1&#45;&gt;5</title>\n",
       "<path fill=\"none\" stroke=\"black\" d=\"M312.89,-222.91C313.17,-214.56 313.48,-205.67 313.77,-197.02\"/>\n",
       "<polygon fill=\"black\" stroke=\"black\" points=\"317.27,-197.13 314.11,-187.02 310.27,-196.9 317.27,-197.13\"/>\n",
       "</g>\n",
       "<!-- 3 -->\n",
       "<g id=\"node4\" class=\"node\">\n",
       "<title>3</title>\n",
       "<path fill=\"#e58139\" stroke=\"black\" d=\"M85,-68C85,-68 12,-68 12,-68 6,-68 0,-62 0,-56 0,-56 0,-12 0,-12 0,-6 6,0 12,0 12,0 85,0 85,0 91,0 97,-6 97,-12 97,-12 97,-56 97,-56 97,-62 91,-68 85,-68\"/>\n",
       "<text text-anchor=\"start\" x=\"19.5\" y=\"-52.8\" font-family=\"Helvetica,sans-Serif\" font-size=\"14.00\">gini = 0.0</text>\n",
       "<text text-anchor=\"start\" x=\"9\" y=\"-37.8\" font-family=\"Helvetica,sans-Serif\" font-size=\"14.00\">samples = 8</text>\n",
       "<text text-anchor=\"start\" x=\"8\" y=\"-22.8\" font-family=\"Helvetica,sans-Serif\" font-size=\"14.00\">value = [8, 0]</text>\n",
       "<text text-anchor=\"start\" x=\"13.5\" y=\"-7.8\" font-family=\"Helvetica,sans-Serif\" font-size=\"14.00\">class = NO</text>\n",
       "</g>\n",
       "<!-- 2&#45;&gt;3 -->\n",
       "<g id=\"edge3\" class=\"edge\">\n",
       "<title>2&#45;&gt;3</title>\n",
       "<path fill=\"none\" stroke=\"black\" d=\"M116.91,-103.73C107.74,-94.51 98.01,-84.74 88.85,-75.53\"/>\n",
       "<polygon fill=\"black\" stroke=\"black\" points=\"91.18,-72.92 81.65,-68.3 86.22,-77.86 91.18,-72.92\"/>\n",
       "</g>\n",
       "<!-- 4 -->\n",
       "<g id=\"node5\" class=\"node\">\n",
       "<title>4</title>\n",
       "<path fill=\"#47a4e7\" stroke=\"black\" d=\"M208,-68C208,-68 127,-68 127,-68 121,-68 115,-62 115,-56 115,-56 115,-12 115,-12 115,-6 121,0 127,0 127,0 208,0 208,0 214,0 220,-6 220,-12 220,-12 220,-56 220,-56 220,-62 214,-68 208,-68\"/>\n",
       "<text text-anchor=\"start\" x=\"130\" y=\"-52.8\" font-family=\"Helvetica,sans-Serif\" font-size=\"14.00\">gini = 0.122</text>\n",
       "<text text-anchor=\"start\" x=\"124\" y=\"-37.8\" font-family=\"Helvetica,sans-Serif\" font-size=\"14.00\">samples = 46</text>\n",
       "<text text-anchor=\"start\" x=\"123\" y=\"-22.8\" font-family=\"Helvetica,sans-Serif\" font-size=\"14.00\">value = [3, 43]</text>\n",
       "<text text-anchor=\"start\" x=\"128.5\" y=\"-7.8\" font-family=\"Helvetica,sans-Serif\" font-size=\"14.00\">class = YES</text>\n",
       "</g>\n",
       "<!-- 2&#45;&gt;4 -->\n",
       "<g id=\"edge4\" class=\"edge\">\n",
       "<title>2&#45;&gt;4</title>\n",
       "<path fill=\"none\" stroke=\"black\" d=\"M161.22,-103.73C161.98,-95.43 162.78,-86.67 163.55,-78.28\"/>\n",
       "<polygon fill=\"black\" stroke=\"black\" points=\"167.03,-78.58 164.46,-68.3 160.06,-77.94 167.03,-78.58\"/>\n",
       "</g>\n",
       "<!-- 6 -->\n",
       "<g id=\"node7\" class=\"node\">\n",
       "<title>6</title>\n",
       "<path fill=\"#f2c09c\" stroke=\"black\" d=\"M342,-68C342,-68 269,-68 269,-68 263,-68 257,-62 257,-56 257,-56 257,-12 257,-12 257,-6 263,0 269,0 269,0 342,0 342,0 348,0 354,-6 354,-12 354,-12 354,-56 354,-56 354,-62 348,-68 342,-68\"/>\n",
       "<text text-anchor=\"start\" x=\"268\" y=\"-52.8\" font-family=\"Helvetica,sans-Serif\" font-size=\"14.00\">gini = 0.444</text>\n",
       "<text text-anchor=\"start\" x=\"266\" y=\"-37.8\" font-family=\"Helvetica,sans-Serif\" font-size=\"14.00\">samples = 3</text>\n",
       "<text text-anchor=\"start\" x=\"265\" y=\"-22.8\" font-family=\"Helvetica,sans-Serif\" font-size=\"14.00\">value = [2, 1]</text>\n",
       "<text text-anchor=\"start\" x=\"270.5\" y=\"-7.8\" font-family=\"Helvetica,sans-Serif\" font-size=\"14.00\">class = NO</text>\n",
       "</g>\n",
       "<!-- 5&#45;&gt;6 -->\n",
       "<g id=\"edge6\" class=\"edge\">\n",
       "<title>5&#45;&gt;6</title>\n",
       "<path fill=\"none\" stroke=\"black\" d=\"M311.78,-103.73C311.02,-95.43 310.22,-86.67 309.45,-78.28\"/>\n",
       "<polygon fill=\"black\" stroke=\"black\" points=\"312.94,-77.94 308.54,-68.3 305.97,-78.58 312.94,-77.94\"/>\n",
       "</g>\n",
       "<!-- 7 -->\n",
       "<g id=\"node8\" class=\"node\">\n",
       "<title>7</title>\n",
       "<path fill=\"#e58139\" stroke=\"black\" d=\"M465,-68C465,-68 384,-68 384,-68 378,-68 372,-62 372,-56 372,-56 372,-12 372,-12 372,-6 378,0 384,0 384,0 465,0 465,0 471,0 477,-6 477,-12 477,-12 477,-56 477,-56 477,-62 471,-68 465,-68\"/>\n",
       "<text text-anchor=\"start\" x=\"395.5\" y=\"-52.8\" font-family=\"Helvetica,sans-Serif\" font-size=\"14.00\">gini = 0.0</text>\n",
       "<text text-anchor=\"start\" x=\"381\" y=\"-37.8\" font-family=\"Helvetica,sans-Serif\" font-size=\"14.00\">samples = 95</text>\n",
       "<text text-anchor=\"start\" x=\"380\" y=\"-22.8\" font-family=\"Helvetica,sans-Serif\" font-size=\"14.00\">value = [95, 0]</text>\n",
       "<text text-anchor=\"start\" x=\"389.5\" y=\"-7.8\" font-family=\"Helvetica,sans-Serif\" font-size=\"14.00\">class = NO</text>\n",
       "</g>\n",
       "<!-- 5&#45;&gt;7 -->\n",
       "<g id=\"edge7\" class=\"edge\">\n",
       "<title>5&#45;&gt;7</title>\n",
       "<path fill=\"none\" stroke=\"black\" d=\"M356.09,-103.73C365.26,-94.51 374.99,-84.74 384.15,-75.53\"/>\n",
       "<polygon fill=\"black\" stroke=\"black\" points=\"386.78,-77.86 391.35,-68.3 381.82,-72.92 386.78,-77.86\"/>\n",
       "</g>\n",
       "<!-- 9 -->\n",
       "<g id=\"node10\" class=\"node\">\n",
       "<title>9</title>\n",
       "<path fill=\"#399de5\" stroke=\"black\" d=\"M495,-179.5C495,-179.5 406,-179.5 406,-179.5 400,-179.5 394,-173.5 394,-167.5 394,-167.5 394,-123.5 394,-123.5 394,-117.5 400,-111.5 406,-111.5 406,-111.5 495,-111.5 495,-111.5 501,-111.5 507,-117.5 507,-123.5 507,-123.5 507,-167.5 507,-167.5 507,-173.5 501,-179.5 495,-179.5\"/>\n",
       "<text text-anchor=\"start\" x=\"421.5\" y=\"-164.3\" font-family=\"Helvetica,sans-Serif\" font-size=\"14.00\">gini = 0.0</text>\n",
       "<text text-anchor=\"start\" x=\"403\" y=\"-149.3\" font-family=\"Helvetica,sans-Serif\" font-size=\"14.00\">samples = 158</text>\n",
       "<text text-anchor=\"start\" x=\"402\" y=\"-134.3\" font-family=\"Helvetica,sans-Serif\" font-size=\"14.00\">value = [0, 158]</text>\n",
       "<text text-anchor=\"start\" x=\"411.5\" y=\"-119.3\" font-family=\"Helvetica,sans-Serif\" font-size=\"14.00\">class = YES</text>\n",
       "</g>\n",
       "<!-- 8&#45;&gt;9 -->\n",
       "<g id=\"edge9\" class=\"edge\">\n",
       "<title>8&#45;&gt;9</title>\n",
       "<path fill=\"none\" stroke=\"black\" d=\"M452.46,-222.91C452.18,-212.2 451.89,-200.62 451.61,-189.78\"/>\n",
       "<polygon fill=\"black\" stroke=\"black\" points=\"455.11,-189.57 451.35,-179.67 448.11,-189.75 455.11,-189.57\"/>\n",
       "</g>\n",
       "<!-- 10 -->\n",
       "<g id=\"node11\" class=\"node\">\n",
       "<title>10</title>\n",
       "<path fill=\"#f6fbfe\" stroke=\"black\" d=\"M694,-187C694,-187 537,-187 537,-187 531,-187 525,-181 525,-175 525,-175 525,-116 525,-116 525,-110 531,-104 537,-104 537,-104 694,-104 694,-104 700,-104 706,-110 706,-116 706,-116 706,-175 706,-175 706,-181 700,-187 694,-187\"/>\n",
       "<text text-anchor=\"start\" x=\"533\" y=\"-171.8\" font-family=\"Helvetica,sans-Serif\" font-size=\"14.00\">spent_last_month ≤ 140.5</text>\n",
       "<text text-anchor=\"start\" x=\"586.5\" y=\"-156.8\" font-family=\"Helvetica,sans-Serif\" font-size=\"14.00\">gini = 0.5</text>\n",
       "<text text-anchor=\"start\" x=\"572\" y=\"-141.8\" font-family=\"Helvetica,sans-Serif\" font-size=\"14.00\">samples = 45</text>\n",
       "<text text-anchor=\"start\" x=\"567\" y=\"-126.8\" font-family=\"Helvetica,sans-Serif\" font-size=\"14.00\">value = [22, 23]</text>\n",
       "<text text-anchor=\"start\" x=\"576.5\" y=\"-111.8\" font-family=\"Helvetica,sans-Serif\" font-size=\"14.00\">class = YES</text>\n",
       "</g>\n",
       "<!-- 8&#45;&gt;10 -->\n",
       "<g id=\"edge10\" class=\"edge\">\n",
       "<title>8&#45;&gt;10</title>\n",
       "<path fill=\"none\" stroke=\"black\" d=\"M509.71,-222.91C523.02,-213.29 537.33,-202.95 550.99,-193.09\"/>\n",
       "<polygon fill=\"black\" stroke=\"black\" points=\"553.34,-195.71 559.39,-187.02 549.24,-190.04 553.34,-195.71\"/>\n",
       "</g>\n",
       "<!-- 11 -->\n",
       "<g id=\"node12\" class=\"node\">\n",
       "<title>11</title>\n",
       "<path fill=\"#e58139\" stroke=\"black\" d=\"M622,-68C622,-68 541,-68 541,-68 535,-68 529,-62 529,-56 529,-56 529,-12 529,-12 529,-6 535,0 541,0 541,0 622,0 622,0 628,0 634,-6 634,-12 634,-12 634,-56 634,-56 634,-62 628,-68 622,-68\"/>\n",
       "<text text-anchor=\"start\" x=\"552.5\" y=\"-52.8\" font-family=\"Helvetica,sans-Serif\" font-size=\"14.00\">gini = 0.0</text>\n",
       "<text text-anchor=\"start\" x=\"538\" y=\"-37.8\" font-family=\"Helvetica,sans-Serif\" font-size=\"14.00\">samples = 22</text>\n",
       "<text text-anchor=\"start\" x=\"537\" y=\"-22.8\" font-family=\"Helvetica,sans-Serif\" font-size=\"14.00\">value = [22, 0]</text>\n",
       "<text text-anchor=\"start\" x=\"546.5\" y=\"-7.8\" font-family=\"Helvetica,sans-Serif\" font-size=\"14.00\">class = NO</text>\n",
       "</g>\n",
       "<!-- 10&#45;&gt;11 -->\n",
       "<g id=\"edge11\" class=\"edge\">\n",
       "<title>10&#45;&gt;11</title>\n",
       "<path fill=\"none\" stroke=\"black\" d=\"M602.84,-103.73C600.23,-95.34 597.48,-86.47 594.85,-78.01\"/>\n",
       "<polygon fill=\"black\" stroke=\"black\" points=\"598.15,-76.81 591.84,-68.3 591.46,-78.89 598.15,-76.81\"/>\n",
       "</g>\n",
       "<!-- 12 -->\n",
       "<g id=\"node13\" class=\"node\">\n",
       "<title>12</title>\n",
       "<path fill=\"#399de5\" stroke=\"black\" d=\"M745,-68C745,-68 664,-68 664,-68 658,-68 652,-62 652,-56 652,-56 652,-12 652,-12 652,-6 658,0 664,0 664,0 745,0 745,0 751,0 757,-6 757,-12 757,-12 757,-56 757,-56 757,-62 751,-68 745,-68\"/>\n",
       "<text text-anchor=\"start\" x=\"675.5\" y=\"-52.8\" font-family=\"Helvetica,sans-Serif\" font-size=\"14.00\">gini = 0.0</text>\n",
       "<text text-anchor=\"start\" x=\"661\" y=\"-37.8\" font-family=\"Helvetica,sans-Serif\" font-size=\"14.00\">samples = 23</text>\n",
       "<text text-anchor=\"start\" x=\"660\" y=\"-22.8\" font-family=\"Helvetica,sans-Serif\" font-size=\"14.00\">value = [0, 23]</text>\n",
       "<text text-anchor=\"start\" x=\"665.5\" y=\"-7.8\" font-family=\"Helvetica,sans-Serif\" font-size=\"14.00\">class = YES</text>\n",
       "</g>\n",
       "<!-- 10&#45;&gt;12 -->\n",
       "<g id=\"edge12\" class=\"edge\">\n",
       "<title>10&#45;&gt;12</title>\n",
       "<path fill=\"none\" stroke=\"black\" d=\"M648.64,-103.73C655.98,-94.7 663.76,-85.12 671.11,-76.08\"/>\n",
       "<polygon fill=\"black\" stroke=\"black\" points=\"673.84,-78.27 677.43,-68.3 668.41,-73.85 673.84,-78.27\"/>\n",
       "</g>\n",
       "</g>\n",
       "</svg>\n"
      ],
      "text/plain": [
       "<graphviz.sources.Source at 0x29a18be3d30>"
      ]
     },
     "execution_count": 890,
     "metadata": {},
     "output_type": "execute_result"
    }
   ],
   "source": [
    "# As before, we need to visualize the tree to grasp its nature\n",
    "dot_gini2 = tree.export_graphviz(gini_model2, feature_names=X_train.columns, class_names=gini_model2.classes_, \n",
    "                                filled=True, rounded=True, special_characters=True, out_file=None) \n",
    "\n",
    "# Alternatively for class_names use entr_model2.classes_\n",
    "graph_gini2 = graphviz.Source(dot_gini2)\n",
    "graph_gini2"
   ]
  },
  {
   "cell_type": "code",
   "execution_count": 891,
   "metadata": {
    "colab": {},
    "colab_type": "code",
    "id": "R4t7e9-GDuW9"
   },
   "outputs": [
    {
     "name": "stdout",
     "output_type": "stream",
     "text": [
      "Gini impurity  model - max depth 3\n",
      "Accuracy: 0.9747899159663865\n",
      "Balanced accuracy: 0.9691994996873046\n",
      "Precision score 0.9746835443037974\n",
      "Recall score 0.9512195121951219\n"
     ]
    }
   ],
   "source": [
    "print(\"Gini impurity  model - max depth 3\")\n",
    "print(\"Accuracy:\", metrics.accuracy_score(y_test,y_pred_gini2))\n",
    "print(\"Balanced accuracy:\", metrics.balanced_accuracy_score(y_test,y_pred_gini2))\n",
    "print('Precision score' , metrics.precision_score(y_test,y_pred_gini2, pos_label = \"YES\"))\n",
    "print('Recall score' , metrics.recall_score(y_test,y_pred_gini2, pos_label = \"NO\"))"
   ]
  },
  {
   "cell_type": "markdown",
   "metadata": {
    "colab_type": "text",
    "id": "UzGThBXSDuW-"
   },
   "source": [
    "Now this is an elegant tree. Its accuracy might not be the highest, but it's still the best model we've produced so far. Why is that? \n",
    "\n",
    "**Write your answer here:** \n",
    "\n",
    "In comparison with above models tested, this gave good accuracy at the same time with high precision relates to the low false positive rate. Also recall score ensures predicted labels are correct when compared to the training labels"
   ]
  },
  {
   "cell_type": "markdown",
   "metadata": {
    "colab_type": "text",
    "id": "jS1niFlCDuW_"
   },
   "source": [
    "# 4. Evaluating and concluding\n",
    "## 4a. How many customers will buy Hidden Farm coffee? \n",
    "Let's first ascertain how many loyal customers claimed, in the survey, that they will purchase the Hidden Farm coffee. "
   ]
  },
  {
   "cell_type": "code",
   "execution_count": 892,
   "metadata": {
    "colab": {},
    "colab_type": "code",
    "id": "QPHXnHZvDuXC"
   },
   "outputs": [
    {
     "data": {
      "text/plain": [
       "YES    303\n",
       "NO     171\n",
       "Name: Decision, dtype: int64"
      ]
     },
     "execution_count": 892,
     "metadata": {},
     "output_type": "execute_result"
    }
   ],
   "source": [
    "# Call value_counts() on the 'Decision' column of the original coffeeData\n",
    "coffeeData['Decision'].value_counts() "
   ]
  },
  {
   "cell_type": "markdown",
   "metadata": {
    "colab_type": "text",
    "id": "kw_5g_ZEDuXD"
   },
   "source": [
    "Let's now determine the number of people that, according to the model, will be willing to buy the Hidden Farm coffee. \n",
    "1. First we subset the Prediction dataset into `new_X` considering all the variables except `Decision` \n",
    "2. Use that dataset to predict a new variable called `potential_buyers`"
   ]
  },
  {
   "cell_type": "code",
   "execution_count": 893,
   "metadata": {
    "colab": {},
    "colab_type": "code",
    "id": "mwypR8ymDuXE"
   },
   "outputs": [],
   "source": [
    "# Feature selection\n",
    "# Make a variable called feature_cols, and assign it a list containing all the column names except 'Decision'\n",
    "feature_cols = ['Age', 'Gender', 'num_coffeeBags_per_year', 'spent_last_week',\n",
    "       'spent_last_month', 'salary', 'Distance', 'Online']\n",
    "\n",
    "# Make a variable called new_X, and assign it the subset of Prediction, containing just the feature_cols \n",
    "new_X = Prediction[feature_cols] "
   ]
  },
  {
   "cell_type": "code",
   "execution_count": 894,
   "metadata": {
    "colab": {},
    "colab_type": "code",
    "id": "0ajvbeRSDuXG"
   },
   "outputs": [],
   "source": [
    "# Call get_dummies() on the Pandas object pd, with new_X plugged in, to one-hot encode all features in the training set\n",
    "new_X = pd.get_dummies(new_X) \n",
    "\n",
    "# Make a variable called potential_buyers, and assign it the result of calling predict() on a model of your choice; \n",
    "# don't forget to pass new_X to predict()\n",
    "potential_buyers = gini_model2.predict(new_X) "
   ]
  },
  {
   "cell_type": "code",
   "execution_count": 895,
   "metadata": {
    "colab": {},
    "colab_type": "code",
    "id": "-MO_KWT9DuXI"
   },
   "outputs": [
    {
     "data": {
      "text/plain": [
       "(array(['NO', 'YES'], dtype=object), array([ 45, 183], dtype=int64))"
      ]
     },
     "execution_count": 895,
     "metadata": {},
     "output_type": "execute_result"
    }
   ],
   "source": [
    "# Let's get the numbers of YES's and NO's in the potential buyers \n",
    "# Call unique() on np, and pass potential_buyers and return_counts=True \n",
    "np.unique(potential_buyers, return_counts=True) "
   ]
  },
  {
   "cell_type": "markdown",
   "metadata": {
    "colab_type": "text",
    "id": "3CB7HbiTDuXJ"
   },
   "source": [
    "The total number of potential buyers is 303 + 183 = 486"
   ]
  },
  {
   "cell_type": "code",
   "execution_count": 896,
   "metadata": {
    "colab": {},
    "colab_type": "code",
    "id": "9EGFQcTuDuXK"
   },
   "outputs": [
    {
     "name": "stdout",
     "output_type": "stream",
     "text": [
      "the total number of surveyed people: 702\n"
     ]
    }
   ],
   "source": [
    "# Print the total number of surveyed people \n",
    "print('the total number of surveyed people:', coffeeData.Gender.count()) "
   ]
  },
  {
   "cell_type": "code",
   "execution_count": 897,
   "metadata": {
    "colab": {},
    "colab_type": "code",
    "id": "22_KRMX4DuXM"
   },
   "outputs": [
    {
     "data": {
      "text/plain": [
       "0.6923076923076923"
      ]
     },
     "execution_count": 897,
     "metadata": {},
     "output_type": "execute_result"
    }
   ],
   "source": [
    "# Let's calculate the proportion of buyers\n",
    "486/702"
   ]
  },
  {
   "cell_type": "code",
   "execution_count": 898,
   "metadata": {
    "colab": {},
    "colab_type": "code",
    "id": "xLMCDMpmDuXO"
   },
   "outputs": [
    {
     "name": "stdout",
     "output_type": "stream",
     "text": [
      "69.23076923076923 %\n"
     ]
    }
   ],
   "source": [
    "# Print the percentage of people who want to buy the Hidden Farm coffee, by our model \n",
    "print((486/702)*100, '%') "
   ]
  },
  {
   "cell_type": "markdown",
   "metadata": {
    "colab_type": "text",
    "id": "9bRDyi6rDuXQ"
   },
   "source": [
    "## 4b. Decision\n",
    "Remember how you thought at the start: if more than 70% of the interviewed customers are likely to buy the Hidden Farm coffee, you will strike the deal with the local Hidden Farm farmers and sell the coffee. Otherwise, you won't strike the deal and the Hidden Farm coffee will remain in legends only. Well now's crunch time. Are you going to go ahead with that idea? If so, you won't be striking the deal with the Chinese farmers. \n",
    "\n",
    "They're called `decision trees`, aren't they? So where's the decision? What should you do? (Cue existential cat emoji). \n",
    "\n",
    "Ultimately, though, we can't write an algorithm to actually *make the business decision* for us. This is because such decisions depend on our values, what risks we are willing to take, the stakes of our decisions, and how important it us for us to *know* that we will succeed. What are you going to do with the models you've made? Are you going to risk everything, strike the deal with the *Hidden Farm* farmers, and sell the coffee? \n",
    "\n",
    "The philosopher of language Jason Stanley once wrote that the number of doubts our evidence has to rule out in order for us to know a given proposition depends on our stakes: the higher our stakes, the more doubts our evidence has to rule out, and therefore the harder it is for us to know things. We can end up paralyzed in predicaments; sometimes, we can act to better our situation only if we already know certain things, which we can only if our stakes were lower and we'd *already* bettered our situation. \n",
    "\n",
    "Data science and machine learning can't solve such problems. But what it can do is help us make great use of our data to help *inform* our decisions."
   ]
  },
  {
   "cell_type": "markdown",
   "metadata": {
    "colab_type": "text",
    "id": "crWWrpdox8i-"
   },
   "source": [
    "## 5. Random Forest\n",
    "You might have noticed an important fact about decision trees. Each time we run a given decision tree algorithm to make a prediction (such as whether customers will buy the Hidden Farm coffee) we will actually get a slightly different result. This might seem weird, but it has a simple explanation: machine learning algorithms are by definition ***stochastic***, in that their output is at least partly determined by randomness. \n",
    "\n",
    "To account for this variability and ensure that we get the most accurate prediction, we might want to actually make lots of decision trees, and get a value that captures the centre or average of the outputs of those trees. Luckily, there's a method for this, known as the ***Random Forest***. \n",
    "\n",
    "Essentially, Random Forest involves making lots of trees with similar properties, and then performing summary statistics on the outputs of those trees to reach that central value. Random forests are hugely powerful classifers, and they can improve predictive accuracy and control over-fitting. \n",
    "\n",
    "Why not try to inform your decision with random forest? You'll need to make use of the RandomForestClassifier function within the sklearn.ensemble module, found [here](https://scikit-learn.org/stable/modules/generated/sklearn.ensemble.RandomForestClassifier.html). "
   ]
  },
  {
   "cell_type": "markdown",
   "metadata": {
    "colab_type": "text",
    "id": "fI4fiVWq0IH9"
   },
   "source": [
    "### 5a. Import necessary modules"
   ]
  },
  {
   "cell_type": "code",
   "execution_count": 899,
   "metadata": {
    "colab": {},
    "colab_type": "code",
    "id": "vSRTnHnD0D-O"
   },
   "outputs": [],
   "source": [
    "from sklearn.ensemble import RandomForestClassifier\n",
    "from sklearn.datasets import make_classification"
   ]
  },
  {
   "cell_type": "markdown",
   "metadata": {
    "colab_type": "text",
    "id": "jKmFvvjb0WB9"
   },
   "source": [
    "### 5b. Model\n",
    "You'll use your X_train and y_train variables just as before.\n",
    "\n",
    "You'll then need to make a variable (call it firstRFModel) to store your new Random Forest model. You'll assign this variable the result of calling RandomForestClassifier().\n",
    "\n",
    "Then, just as before, you'll call fit() on that firstRFModel variable, and plug in X_train and y_train.\n",
    "\n",
    "Finally, you should make a variable called y_pred, and assign it the result of calling the predict() method on your new firstRFModel, with the X_test data passed to it. "
   ]
  },
  {
   "cell_type": "code",
   "execution_count": 900,
   "metadata": {
    "colab": {},
    "colab_type": "code",
    "id": "OQEeTiRG1aSm"
   },
   "outputs": [],
   "source": [
    "# Plug in appropriate max_depth and random_state parameters \n",
    "firstRFModel = RandomForestClassifier(max_depth=5, random_state=246) \n",
    "\n",
    "# Model and fit\n",
    "firstRFModel.fit(X_train, y_train)\n",
    "y_pred_RFM = firstRFModel.predict(X_test)\n",
    "\n",
    "y_pred_RFM = pd.Series(y_pred_RFM)\n",
    "\n"
   ]
  },
  {
   "cell_type": "code",
   "execution_count": 901,
   "metadata": {},
   "outputs": [
    {
     "name": "stdout",
     "output_type": "stream",
     "text": [
      "Random Forest Model - max depth = 5\n",
      "Accuracy: 0.9663865546218487\n",
      "Balanced accuracy: 0.957004377736085\n",
      "Precision score for \"Yes\" 0.9625\n",
      "Precision score for \"No\" 0.9743589743589743\n",
      "Recall score for \"Yes\" 0.9871794871794872\n",
      "Recall score for \"No\" 0.926829268292683\n"
     ]
    }
   ],
   "source": [
    "# Run this block for model evaluation metrics \n",
    "print(\"Random Forest Model - max depth = 5\")\n",
    "print(\"Accuracy:\", metrics.accuracy_score(y_test,y_pred_RFM))\n",
    "print(\"Balanced accuracy:\", metrics.balanced_accuracy_score(y_test,y_pred_RFM))\n",
    "print('Precision score for \"Yes\"' , metrics.precision_score(y_test,y_pred_RFM, pos_label = \"YES\"))\n",
    "print('Precision score for \"No\"' , metrics.precision_score(y_test,y_pred_RFM, pos_label = \"NO\"))\n",
    "print('Recall score for \"Yes\"' , metrics.recall_score(y_test,y_pred_RFM, pos_label = \"YES\"))\n",
    "print('Recall score for \"No\"' , metrics.recall_score(y_test,y_pred_RFM, pos_label = \"NO\"))"
   ]
  },
  {
   "cell_type": "code",
   "execution_count": 902,
   "metadata": {},
   "outputs": [
    {
     "data": {
      "text/plain": [
       "(array(['NO', 'YES'], dtype=object), array([ 40, 188], dtype=int64))"
      ]
     },
     "execution_count": 902,
     "metadata": {},
     "output_type": "execute_result"
    }
   ],
   "source": [
    "# Potential buyers by RandomFOrest model\n",
    "\n",
    "potential_buyers_RFM = firstRFModel.predict(new_X) \n",
    "np.unique(potential_buyers_RFM, return_counts=True) "
   ]
  },
  {
   "cell_type": "code",
   "execution_count": 903,
   "metadata": {},
   "outputs": [
    {
     "name": "stdout",
     "output_type": "stream",
     "text": [
      "69.94301994301995 %\n"
     ]
    }
   ],
   "source": [
    "# Print the percentage of people who want to buy the Hidden Farm coffee, by our RandomForest model \n",
    "\n",
    "print(((303+188)/702)*100, '%') "
   ]
  },
  {
   "cell_type": "markdown",
   "metadata": {
    "colab_type": "text",
    "id": "sCIt6pyn1zpb"
   },
   "source": [
    "### 5c. Revise conclusion\n",
    "\n",
    "Has your conclusion changed? Or is the result of executing random forest the same as your best model reached by a single decision tree? \n",
    "\n",
    "**Percentage of people who want to buy the Hidden Farm coffee:**\n",
    "\n",
    "* By Gini impurity  model (max depth 3) - 69.23076923076923 %\n",
    "* By Random Forest model (max depth 5) - 69.94301994301995 %\n",
    "\n",
    "Well, the Random Forest classifier improved the buyers percentage close to 70%, but not very significant to the previous models. However, considering the number of trees RF classifier performs gives confidence over other models. So, it is likely if we strike a deal with Hidden Farm Chinese coffee ~70% of our loyal customers from RR Diner will purchase this product."
   ]
  }
 ],
 "metadata": {
  "colab": {
   "collapsed_sections": [],
   "name": "Springboard Decision Tree Specialty Coffee Case Study - Tier 3.ipynb",
   "provenance": []
  },
  "kernelspec": {
   "display_name": "Python 3",
   "language": "python",
   "name": "python3"
  },
  "language_info": {
   "codemirror_mode": {
    "name": "ipython",
    "version": 3
   },
   "file_extension": ".py",
   "mimetype": "text/x-python",
   "name": "python",
   "nbconvert_exporter": "python",
   "pygments_lexer": "ipython3",
   "version": "3.9.4"
  }
 },
 "nbformat": 4,
 "nbformat_minor": 4
}
